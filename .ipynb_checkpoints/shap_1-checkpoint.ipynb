{
 "cells": [
  {
   "cell_type": "markdown",
   "id": "530cc79d-7655-4802-a839-52d871672f83",
   "metadata": {
    "id": "530cc79d-7655-4802-a839-52d871672f83"
   },
   "source": [
    "## ToDo : "
   ]
  },
  {
   "cell_type": "code",
   "execution_count": 1,
   "id": "9f2e5131",
   "metadata": {
    "executionInfo": {
     "elapsed": 4035,
     "status": "ok",
     "timestamp": 1679413513647,
     "user": {
      "displayName": "Hugues Hansen",
      "userId": "06507793026638313555"
     },
     "user_tz": -60
    },
    "id": "9f2e5131"
   },
   "outputs": [],
   "source": [
    "# Importer les bibliothèques nécessaires\n",
    "\n",
    "import pandas as pd\n",
    "from sklearn.model_selection import GridSearchCV\n",
    "from sklearn.dummy import DummyClassifier\n",
    "from sklearn.linear_model import LogisticRegression\n",
    "from sklearn.tree import DecisionTreeClassifier\n",
    "from sklearn.ensemble import RandomForestClassifier\n",
    "from xgboost import XGBClassifier\n",
    "from sklearn.naive_bayes import GaussianNB\n",
    "from sklearn.metrics import roc_auc_score, confusion_matrix,accuracy_score\n",
    "import numpy as np\n",
    "import pandas as pd\n",
    "import gc\n",
    "import time\n",
    "from contextlib import contextmanager\n",
    "import lightgbm as lgb\n",
    "from lightgbm import LGBMClassifier\n",
    "from sklearn.metrics import roc_auc_score, roc_curve\n",
    "from sklearn.ensemble import RandomForestClassifier\n",
    "from sklearn.ensemble import HistGradientBoostingClassifier\n",
    "from sklearn.model_selection import KFold, StratifiedKFold\n",
    "from sklearn.pipeline import Pipeline\n",
    "from sklearn.preprocessing import StandardScaler\n",
    "import matplotlib.pyplot as plt\n",
    "import seaborn as sns\n",
    "import warnings\n",
    "warnings.simplefilter(action='ignore', category=FutureWarning)\n",
    "import missingno as msno\n",
    "import numpy as np\n",
    "from sklearn.impute import SimpleImputer\n",
    "from sklearn.experimental import enable_iterative_imputer\n",
    "from sklearn.impute import IterativeImputer\n",
    "from sklearn.impute import KNNImputer\n",
    "import seaborn as sns\n",
    "import matplotlib.pyplot as plt\n",
    "from sklearn.metrics import ConfusionMatrixDisplay\n",
    "import seaborn as sns\n",
    "import imblearn as imb\n",
    "from imblearn.over_sampling import RandomOverSampler\n",
    "from imblearn.under_sampling import RandomUnderSampler\n",
    "from imblearn.combine import SMOTETomek\n",
    "from sklearn.metrics import auc\n",
    "from sklearn.model_selection import train_test_split\n",
    "from sklearn.metrics import make_scorer\n",
    "from imblearn import FunctionSampler\n",
    "from sklearn.preprocessing import StandardScaler\n",
    "from sklearn.pipeline import Pipeline"
   ]
  },
  {
   "cell_type": "code",
   "execution_count": null,
   "id": "fe044698",
   "metadata": {
    "colab": {
     "base_uri": "https://localhost:8080/"
    },
    "executionInfo": {
     "elapsed": 18616,
     "status": "ok",
     "timestamp": 1679413532226,
     "user": {
      "displayName": "Hugues Hansen",
      "userId": "06507793026638313555"
     },
     "user_tz": -60
    },
    "id": "fe044698",
    "outputId": "2a523a59-8c6f-4418-fe2f-97945359ffd8"
   },
   "outputs": [],
   "source": [
    "!pip install shap\n",
    "import shap"
   ]
  },
  {
   "cell_type": "code",
   "execution_count": 2,
   "id": "a24b06ad",
   "metadata": {
    "colab": {
     "base_uri": "https://localhost:8080/"
    },
    "executionInfo": {
     "elapsed": 46119,
     "status": "ok",
     "timestamp": 1679413578315,
     "user": {
      "displayName": "Hugues Hansen",
      "userId": "06507793026638313555"
     },
     "user_tz": -60
    },
    "id": "a24b06ad",
    "outputId": "5b90701b-debc-4637-ecad-de70959d1b94"
   },
   "outputs": [],
   "source": [
    "try:\n",
    "    from google.colab import drive\n",
    "    drive.mount('/content/drive')\n",
    "    base=pd.read_csv(\"/content/drive/MyDrive/Notebooks/P7/basep7.csv\")\n",
    "        \n",
    "except ModuleNotFoundError :\n",
    "    \n",
    "    base = pd.read_csv(\"basep7.csv\")\n",
    "    \n",
    "base = base.drop( columns = ['Unnamed: 0'])"
   ]
  },
  {
   "cell_type": "code",
   "execution_count": 9,
   "id": "c0c80bde-26de-4f81-b913-86d92b55e11d",
   "metadata": {},
   "outputs": [],
   "source": [
    "base_sample =base.sample(10000)"
   ]
  },
  {
   "cell_type": "code",
   "execution_count": 8,
   "id": "c6769505-6e5b-45a5-8d5f-89eeb35145f3",
   "metadata": {},
   "outputs": [],
   "source": [
    "base_sample.to_csv('base_sample.csv')"
   ]
  },
  {
   "cell_type": "code",
   "execution_count": null,
   "id": "9a90ebe0",
   "metadata": {
    "colab": {
     "base_uri": "https://localhost:8080/"
    },
    "executionInfo": {
     "elapsed": 1962,
     "status": "ok",
     "timestamp": 1679413580260,
     "user": {
      "displayName": "Hugues Hansen",
      "userId": "06507793026638313555"
     },
     "user_tz": -60
    },
    "id": "9a90ebe0",
    "outputId": "47a86b8c-1b29-4c38-b970-771bd9331546"
   },
   "outputs": [],
   "source": [
    "# one_hot_encoder classique pour les non numériques\n",
    "def one_hot_encoder(base, nan_as_category = True):\n",
    "    original_columns = list(base.columns)\n",
    "    categorical_columns = [col for col in base.columns if base[col].dtype == 'object']\n",
    "    base2 = pd.get_dummies(base, columns= categorical_columns, dummy_na= True)\n",
    "    new_columns = [c for c in base.columns if c not in original_columns]\n",
    "    return base2\n",
    "print (base.shape)\n",
    "base2 =one_hot_encoder(base)\n",
    "print (base2.shape)\n",
    "base = base2\n",
    "del base2"
   ]
  },
  {
   "cell_type": "code",
   "execution_count": null,
   "id": "95b1f4fe-9a96-4d9e-8ed7-fcc2ac13becf",
   "metadata": {
    "executionInfo": {
     "elapsed": 2177,
     "status": "ok",
     "timestamp": 1679413582422,
     "user": {
      "displayName": "Hugues Hansen",
      "userId": "06507793026638313555"
     },
     "user_tz": -60
    },
    "id": "95b1f4fe-9a96-4d9e-8ed7-fcc2ac13becf"
   },
   "outputs": [],
   "source": [
    "# Remplacer les valeurs manquantes par la moyenne de la colonne\n",
    "base = base.fillna(base.mean())"
   ]
  },
  {
   "cell_type": "code",
   "execution_count": null,
   "id": "7aadae66-a87c-4bc0-b4c5-5bc4001ea36f",
   "metadata": {
    "executionInfo": {
     "elapsed": 11,
     "status": "ok",
     "timestamp": 1679413582424,
     "user": {
      "displayName": "Hugues Hansen",
      "userId": "06507793026638313555"
     },
     "user_tz": -60
    },
    "id": "7aadae66-a87c-4bc0-b4c5-5bc4001ea36f"
   },
   "outputs": [],
   "source": [
    "# Séparer les variables explicatives (X) et la variable cible (y)\n",
    "X = base.drop(\"TARGET\", axis=1)\n",
    "y = base[\"TARGET\"]\n",
    "\n",
    "\n"
   ]
  },
  {
   "cell_type": "code",
   "execution_count": null,
   "id": "2eded73f-1548-4e31-8413-d36c34ead49e",
   "metadata": {
    "colab": {
     "base_uri": "https://localhost:8080/"
    },
    "executionInfo": {
     "elapsed": 10407,
     "status": "ok",
     "timestamp": 1679413592822,
     "user": {
      "displayName": "Hugues Hansen",
      "userId": "06507793026638313555"
     },
     "user_tz": -60
    },
    "id": "2eded73f-1548-4e31-8413-d36c34ead49e",
    "outputId": "daa3ce50-767b-4f9e-fa02-02065d57c321"
   },
   "outputs": [],
   "source": [
    "# scaler \n",
    "col_names=X.select_dtypes(include='number').columns.tolist()\n",
    "features = X[col_names]\n",
    "scaler = StandardScaler().fit(features.values)\n",
    "features_scale = scaler.transform(features.values)\n",
    "X[col_names] = features_scale\n",
    "print (X.shape) \n",
    "del features\n",
    "del features_scale"
   ]
  },
  {
   "cell_type": "code",
   "execution_count": null,
   "id": "c5e06395-aa30-4107-9c5c-7f783de12ba2",
   "metadata": {
    "executionInfo": {
     "elapsed": 17,
     "status": "ok",
     "timestamp": 1679413592824,
     "user": {
      "displayName": "Hugues Hansen",
      "userId": "06507793026638313555"
     },
     "user_tz": -60
    },
    "id": "c5e06395-aa30-4107-9c5c-7f783de12ba2",
    "tags": []
   },
   "outputs": [],
   "source": []
  },
  {
   "cell_type": "markdown",
   "id": "b84438c6-916b-40ae-b97f-ba4b5e4f058c",
   "metadata": {
    "id": "736b6bc1-d2c5-422d-91fc-47c5a36f2f5d"
   },
   "source": [
    "# fonction shap\n"
   ]
  },
  {
   "cell_type": "code",
   "execution_count": null,
   "id": "163653e3-cd72-455d-a932-8af32040f2c7",
   "metadata": {
    "colab": {
     "base_uri": "https://localhost:8080/",
     "height": 74
    },
    "executionInfo": {
     "elapsed": 10521,
     "status": "ok",
     "timestamp": 1679413603333,
     "user": {
      "displayName": "Hugues Hansen",
      "userId": "06507793026638313555"
     },
     "user_tz": -60
    },
    "id": "3ohf4ulLOOIz",
    "outputId": "2071e4cd-c190-44a4-c478-74ccb44cffb8",
    "tags": []
   },
   "outputs": [],
   "source": [
    "X_train, X_test, y_train, y_test = train_test_split(X, y, test_size=0.2)\n",
    "X_resampled, y_resampled = RandomUnderSampler(random_state=22).fit_resample(X_train,y_train)\n",
    "# entraînez votre modèle\n",
    "#model = xgboost.train({\"learning_rate\": 0.01}, xgboost.DMatrix(X_train, label=y_train), 100)\n",
    "#model = DecisionTreeClassifier(random_state=22, max_depth = 3, min_samples_leaf = 2)\n",
    "model = RandomForestClassifier(n_estimators=10, random_state=22)\n",
    "model.fit(X_resampled,y_resampled)\n",
    "\n",
    "\n"
   ]
  },
  {
   "cell_type": "code",
   "execution_count": null,
   "id": "7849d4bd-d24c-472c-86c0-ee0dec8fbbae",
   "metadata": {
    "tags": []
   },
   "outputs": [],
   "source": [
    "# print the JS visualization code to the notebook\n",
    "shap.initjs()"
   ]
  },
  {
   "cell_type": "code",
   "execution_count": null,
   "id": "7f362a94-c1fa-4c9b-bc78-8c0318f88ce5",
   "metadata": {
    "tags": []
   },
   "outputs": [],
   "source": [
    "from shap import TreeExplainer, Explanation\n",
    "from shap.plots import waterfall\n"
   ]
  },
  {
   "cell_type": "code",
   "execution_count": null,
   "id": "3bb73962-12cb-4e8d-8f17-c18136606830",
   "metadata": {
    "tags": []
   },
   "outputs": [],
   "source": [
    "model = RandomForestClassifier(max_depth=5, n_estimators=100,random_state=22).fit(X_resampled,y_resampled)"
   ]
  },
  {
   "cell_type": "markdown",
   "id": "0947ac44-8690-47de-905f-281cf18774d0",
   "metadata": {},
   "source": [
    "# explainer plotly waterfall "
   ]
  },
  {
   "cell_type": "code",
   "execution_count": null,
   "id": "559acc0b-4a15-4d01-84ca-13df74286cb4",
   "metadata": {
    "jupyter": {
     "source_hidden": true
    },
    "tags": []
   },
   "outputs": [],
   "source": [
    "import plotly as px\n",
    "import plotly.graph_objects as go\n",
    "import plotly.figure_factory as ff\n",
    "\n",
    "import streamlit as st"
   ]
  },
  {
   "cell_type": "code",
   "execution_count": null,
   "id": "7cd6212f-cc5a-43ee-a181-67406b55a136",
   "metadata": {},
   "outputs": [],
   "source": [
    "data = {'feature': [], 'row_id': [], 'probability': [], 'shap_value': [], 'feature_value': []}\n",
    "\n",
    "idx = 4\n",
    "\n",
    "sv = explainer(X_train.iloc[[idx], :], check_additivity=True)\n",
    "prob = model.predict_proba(X_train.iloc[[idx], :])[0][1]\n",
    "for col in range(X_train.shape[1]):\n",
    "    data['feature'].append(X_train.columns[col])\n",
    "    data['row_id'].append(idx)\n",
    "    data['probability'].append(prob)\n",
    "    data['shap_value'].append(sv.values[0, col, 1])\n",
    "    data['feature_value'].append(X_train.iloc[idx, col])\n",
    "        \n",
    "df = pd.DataFrame(data)\n",
    "df_pivot = df.pivot(index='feature', columns='row_id', values='shap_value')\n",
    "df_pivot.columns.name = None\n",
    "df_pivot.reset_index(inplace=True)\n",
    "df_pivot['sum'] = df_pivot.iloc[:, 1:].sum(axis=1)\n",
    "\n",
    "waterfall_data = df_pivot.sort_values('sum', ascending=False).head(20)[['feature', 'sum']].copy()\n",
    "waterfall_data.columns = ['Feature', 'Contribution']\n",
    "waterfall_data['Contribution'] = waterfall_data['Contribution'] / 100\n",
    "\n",
    "waterfall_data_neg = df_pivot.sort_values('sum', ascending=True).head(20)[['feature', 'sum']].copy()\n",
    "waterfall_data_neg.columns = ['Feature', 'Contribution']\n",
    "waterfall_data_neg['Contribution'] = waterfall_data_neg['Contribution'] / 100 * 1\n",
    "\n",
    "\n",
    "\n",
    "waterfall_data = pd.concat([waterfall_data_neg, waterfall_data], ignore_index=True)\n",
    "\n",
    "\"\"\" fig = go.Figure(go.waterfall(waterfall_data, x='Feature', y='Contribution', color=waterfall_data['Contribution']>0, orientation='v',\n",
    "                   text='Contribution', hover_data={'Contribution': ':.2f'}))\"\"\" \n",
    "fig = go.Figure(go.Waterfall(\n",
    "    name = \"Feature Contributions\",\n",
    "    orientation = \"h\",\n",
    "    measure = list(waterfall_data['Contribution']),\n",
    "    y = list(waterfall_data['Feature']),\n",
    "    textposition = \"outside\",\n",
    "    x = list(waterfall_data['Contribution']),\n",
    "    connector = {\"line\":{\"color\":\"rgb(63, 63, 63)\"}},\n",
    "    decreasing = {\"marker\":{\"color\":\"green\"}},\n",
    "    increasing = {\"marker\":{\"color\":\"red\"}},\n",
    "    totals = {\"marker\":{\"color\":\"deep sky blue\", \"line\":{\"color\":\"blue\", \"width\":3}}},\n",
    "    base = 0\n",
    "))\n",
    "\n",
    "fig.update_layout(\n",
    "    \n",
    "    xaxis_title = \"contribution\",\n",
    "    yaxis_title = \"indicateur\",\n",
    "    height = 500,\n",
    "    font = dict(\n",
    "        family = \"Arial, sans-serif\",\n",
    "        size = 14,\n",
    "        color = \"#000000\"\n",
    "    )\n",
    ")\n",
    "\n",
    "\n",
    "\n",
    "#fig.update_layout(title_text='Feature Contributions for Sample 42', title_x=0.5, 'score: ',prob)\n",
    "fig.update_layout(title_text='Feature Contributions for Sample {} (Prob = {:.2f}%)'.format(idx, prob*100), title_x=0.5)\n",
    "# fig.show()\n",
    "st.plotly_chart(fig)\n",
    "\n"
   ]
  },
  {
   "cell_type": "markdown",
   "id": "3fc334c1-3421-4796-b092-a3efba0c39dd",
   "metadata": {
    "tags": []
   },
   "source": [
    "# Explainer Shap Waterfall"
   ]
  },
  {
   "cell_type": "code",
   "execution_count": null,
   "id": "a7edd0c9-30d0-41c0-9f02-18d9389389bc",
   "metadata": {},
   "outputs": [],
   "source": [
    "X_sample = X_train.sample(1000)"
   ]
  },
  {
   "cell_type": "code",
   "execution_count": null,
   "id": "0ea412c2-ea23-436f-b906-065daf4a78d9",
   "metadata": {},
   "outputs": [],
   "source": [
    "X_sample.shape"
   ]
  },
  {
   "cell_type": "code",
   "execution_count": null,
   "id": "b60bf0f8-7b66-4ecd-b043-bca341ecccbb",
   "metadata": {},
   "outputs": [],
   "source": [
    "explainer = TreeExplainer(model)\n",
    "sv = explainer(X_train.iloc[4:5,:])\n",
    "exp = Explanation(sv.values[:,:,1], \n",
    "                  sv.base_values[:,1], \n",
    "                  data=X_train.values, \n",
    "                  feature_names=X_train.columns)\n",
    "idx = 0\n",
    "waterfall(exp[idx])"
   ]
  },
  {
   "cell_type": "code",
   "execution_count": null,
   "id": "9673297e-5b0a-4a5a-b618-80ab34de4799",
   "metadata": {},
   "outputs": [],
   "source": [
    "shap_values = explainer.shap_values(X_sample)\n",
    "# visualize the first prediction's explanation (use matplotlib=True to avoid Javascript)\n",
    "#shap.force_plot(explainer.expected_value[0], shap_values[0])\n",
    "st_shap (shap.force_plot(explainer.expected_value[0], shap_values[0]))\n",
    "#shap.force_plot(explainer.expected_value, shap_values[0], X.iloc[0,:])\n",
    "#st_shap(shap.force_plot(explainer.expected_value, shap_values[0,:], X.iloc[0,:]))"
   ]
  },
  {
   "cell_type": "code",
   "execution_count": null,
   "id": "58da0a10-1b98-4ceb-990e-7bcdff43bdfd",
   "metadata": {},
   "outputs": [],
   "source": [
    "STOP\n"
   ]
  },
  {
   "cell_type": "code",
   "execution_count": 29,
   "id": "1493bdfe-0325-4736-899d-fec958155236",
   "metadata": {},
   "outputs": [
    {
     "ename": "AssertionError",
     "evalue": "The shap_values arg looks multi output, try shap_values[i].",
     "output_type": "error",
     "traceback": [
      "\u001b[1;31m---------------------------------------------------------------------------\u001b[0m",
      "\u001b[1;31mAssertionError\u001b[0m                            Traceback (most recent call last)",
      "Input \u001b[1;32mIn [29]\u001b[0m, in \u001b[0;36m<cell line: 2>\u001b[1;34m()\u001b[0m\n\u001b[0;32m      1\u001b[0m \u001b[38;5;66;03m# visualize the training set predictions\u001b[39;00m\n\u001b[1;32m----> 2\u001b[0m \u001b[43mshap\u001b[49m\u001b[38;5;241;43m.\u001b[39;49m\u001b[43mforce_plot\u001b[49m\u001b[43m(\u001b[49m\u001b[43mexplainer\u001b[49m\u001b[38;5;241;43m.\u001b[39;49m\u001b[43mexpected_value\u001b[49m\u001b[43m[\u001b[49m\u001b[38;5;241;43m0\u001b[39;49m\u001b[43m:\u001b[49m\u001b[38;5;241;43m10\u001b[39;49m\u001b[43m]\u001b[49m\u001b[43m,\u001b[49m\u001b[43m \u001b[49m\u001b[43mshap_values\u001b[49m\u001b[43m[\u001b[49m\u001b[38;5;241;43m0\u001b[39;49m\u001b[43m:\u001b[49m\u001b[38;5;241;43m10\u001b[39;49m\u001b[43m]\u001b[49m\u001b[43m,\u001b[49m\u001b[43m \u001b[49m\u001b[43mX_sample\u001b[49m\u001b[43m)\u001b[49m\n",
      "File \u001b[1;32m~\\AppData\\Roaming\\Python\\Python310\\site-packages\\shap\\plots\\_force.py:104\u001b[0m, in \u001b[0;36mforce\u001b[1;34m(base_value, shap_values, features, feature_names, out_names, link, plot_cmap, matplotlib, show, figsize, ordering_keys, ordering_keys_time_format, text_rotation, contribution_threshold)\u001b[0m\n\u001b[0;32m     97\u001b[0m     \u001b[38;5;28;01mif\u001b[39;00m \u001b[38;5;129;01mnot\u001b[39;00m \u001b[38;5;28misinstance\u001b[39m(shap_values, \u001b[38;5;28mlist\u001b[39m) \u001b[38;5;129;01mor\u001b[39;00m \u001b[38;5;28mlen\u001b[39m(shap_values) \u001b[38;5;241m!=\u001b[39m \u001b[38;5;28mlen\u001b[39m(base_value):\n\u001b[0;32m     98\u001b[0m         \u001b[38;5;28;01mraise\u001b[39;00m \u001b[38;5;167;01mException\u001b[39;00m(\u001b[38;5;124m\"\u001b[39m\u001b[38;5;124mIn v0.20 force_plot now requires the base value as the first parameter! \u001b[39m\u001b[38;5;124m\"\u001b[39m \\\n\u001b[0;32m     99\u001b[0m                         \u001b[38;5;124m\"\u001b[39m\u001b[38;5;124mTry shap.force_plot(explainer.expected_value, shap_values) or \u001b[39m\u001b[38;5;124m\"\u001b[39m \\\n\u001b[0;32m    100\u001b[0m                         \u001b[38;5;124m\"\u001b[39m\u001b[38;5;124mfor multi-output models try \u001b[39m\u001b[38;5;124m\"\u001b[39m \\\n\u001b[0;32m    101\u001b[0m                         \u001b[38;5;124m\"\u001b[39m\u001b[38;5;124mshap.force_plot(explainer.expected_value[0], shap_values[0]).\u001b[39m\u001b[38;5;124m\"\u001b[39m)\n\u001b[1;32m--> 104\u001b[0m \u001b[38;5;28;01massert\u001b[39;00m \u001b[38;5;129;01mnot\u001b[39;00m \u001b[38;5;28mtype\u001b[39m(shap_values) \u001b[38;5;241m==\u001b[39m \u001b[38;5;28mlist\u001b[39m, \u001b[38;5;124m\"\u001b[39m\u001b[38;5;124mThe shap_values arg looks multi output, try shap_values[i].\u001b[39m\u001b[38;5;124m\"\u001b[39m\n\u001b[0;32m    106\u001b[0m link \u001b[38;5;241m=\u001b[39m convert_to_link(link)\n\u001b[0;32m    108\u001b[0m \u001b[38;5;28;01mif\u001b[39;00m \u001b[38;5;28mtype\u001b[39m(shap_values) \u001b[38;5;241m!=\u001b[39m np\u001b[38;5;241m.\u001b[39mndarray:\n",
      "\u001b[1;31mAssertionError\u001b[0m: The shap_values arg looks multi output, try shap_values[i]."
     ]
    }
   ],
   "source": [
    "# visualize the training set predictions\n",
    "shap.force_plot(explainer.expected_value[0:10], shap_values[0:10], X_sample)\n",
    "#st_shap(shap.force_plot(explainer.expected_value, shap_values, X_sample), 400)"
   ]
  },
  {
   "cell_type": "code",
   "execution_count": null,
   "id": "f615e223-3ac6-455e-8712-80940328e196",
   "metadata": {},
   "outputs": [],
   "source": [
    "STOP"
   ]
  },
  {
   "cell_type": "code",
   "execution_count": null,
   "id": "449e9893-83e0-456c-940f-6bf1b659afa8",
   "metadata": {
    "tags": []
   },
   "outputs": [],
   "source": [
    "idx =6507"
   ]
  },
  {
   "cell_type": "code",
   "execution_count": null,
   "id": "5d496279-abec-4d0c-b430-4bbf9077a693",
   "metadata": {},
   "outputs": [],
   "source": [
    "explainer = TreeExplainer(model)\n",
    "sv = explainer(X_train.iloc[idx:idx+1,:])\n",
    "exp = Explanation(sv.values[:,:,1], \n",
    "                  sv.base_values[:,1], \n",
    "                  data=X_train.values, \n",
    "                  feature_names=X_train.columns)\n",
    "idx = 0\n",
    "waterfall(exp[idx])"
   ]
  },
  {
   "cell_type": "code",
   "execution_count": null,
   "id": "dbcc5e8d-6f21-413c-8d21-e8bd84c9422c",
   "metadata": {},
   "outputs": [],
   "source": [
    "idx = 1\n",
    "# get the feature values for the instance at index idx\n",
    "instance_values = X_train.iloc[idx,:]\n",
    "\n",
    "# create a DataFrame with the feature names and values\n",
    "df = pd.DataFrame({'feature': instance_values.index, 'feature_value base': instance_values.values})\n",
    "\n",
    "# merge the new DataFrame with the original one using the 'feature' column\n",
    "result = pd.merge(df, pd.DataFrame({\n",
    "    'row_id':idx,\n",
    "    'feature': X_train.columns,\n",
    "    'feature_value CD': exp[idx].values,\n",
    "    'base_value': exp[idx].base_values,\n",
    "    'shap_values': exp[idx].values\n",
    "}), on='feature')\n",
    "\n",
    "# display the result\n",
    "print(result)\n"
   ]
  },
  {
   "cell_type": "code",
   "execution_count": null,
   "id": "23960597-3320-4d48-8ccb-2805d427d5bf",
   "metadata": {},
   "outputs": [],
   "source": [
    "X_train.iloc[0:1,:]"
   ]
  },
  {
   "cell_type": "code",
   "execution_count": null,
   "id": "7f133c96-2940-4547-9a0a-0c67e7f9cd3e",
   "metadata": {
    "tags": []
   },
   "outputs": [],
   "source": [
    "result=pd.DataFrame({\n",
    "    'row_id':idx,\n",
    "    'feature': X_train.columns,\n",
    "    'feature_value': exp[idx].values,\n",
    "    'base_value': exp[idx].base_values,\n",
    "    'shap_values': exp[idx].values\n",
    "})\n",
    "\n",
    "result.sort_values(by='shap_values', ascending=True)"
   ]
  },
  {
   "cell_type": "code",
   "execution_count": null,
   "id": "fcd9b2cf-8f07-484b-b720-7681f8a7c792",
   "metadata": {
    "tags": []
   },
   "outputs": [],
   "source": [
    "from shap.maskers import Independent\n",
    "\n",
    "\n",
    "masker = Independent(X_train, max_samples=100)\n",
    "explainer = TreeExplainer(model, data=masker)\n",
    "bv = explainer.expected_value[1]\n",
    "sv = explainer(X_train, check_additivity=False)"
   ]
  },
  {
   "cell_type": "code",
   "execution_count": null,
   "id": "88daa847-5220-4aa8-af90-5e639edf2c85",
   "metadata": {
    "tags": []
   },
   "outputs": [],
   "source": [
    "independant=pd.DataFrame({\n",
    "    'row_id': X_train.index.values.repeat(X_train.shape[1]),\n",
    "    'feature': X_train.columns.to_list() * X_train.shape[0],\n",
    "    'feature_value': X_train.values.flatten(),\n",
    "    'base_value': bv,\n",
    "    'shap_values': sv.values[:,:,1].flatten()\n",
    "})"
   ]
  },
  {
   "cell_type": "code",
   "execution_count": null,
   "id": "4fa2f448-2e02-40cc-bac1-ff6548f99352",
   "metadata": {},
   "outputs": [],
   "source": [
    "independant.iloc[10360:10361,:]\n",
    "\n"
   ]
  },
  {
   "cell_type": "code",
   "execution_count": null,
   "id": "a79806af-9eeb-4631-bcab-44828d32229e",
   "metadata": {},
   "outputs": [],
   "source": [
    "data = {'feature': [], 'row_id': [], 'probability': [], 'shap_value': [], 'feature_value': []}\n",
    "\n",
    "idx = 42 \n",
    "sv = explainer(X_train.iloc[[idx], :], check_additivity=True)\n",
    "prob = model.predict_proba(X_train.iloc[[idx], :])[0][1]\n",
    "for col in range(X_train.shape[1]):\n",
    "    data['feature'].append(X_train.columns[col])\n",
    "    data['row_id'].append(idx)\n",
    "    data['probability'].append(prob)\n",
    "    data['shap_value'].append(sv.values[0, col, 1])\n",
    "    data['feature_value'].append(X_train.iloc[idx, col])\n",
    "        \n",
    "df = pd.DataFrame(data)\n",
    "df"
   ]
  },
  {
   "cell_type": "code",
   "execution_count": null,
   "id": "4ff57829-2b20-4f9c-b638-ab84ec40ab4f",
   "metadata": {},
   "outputs": [],
   "source": [
    "X_train.iloc[42:43,:]"
   ]
  },
  {
   "cell_type": "code",
   "execution_count": null,
   "id": "3bcd3e4e-7200-43b3-825b-b00c106805e6",
   "metadata": {},
   "outputs": [],
   "source": [
    "data = {'feature': [], 'row_id': [], 'probability': [], 'shap_value': []}\n",
    "\n",
    "idx = 42 \n",
    "sv = explainer(X_train.iloc[[idx], :], check_additivity=True)\n",
    "prob = model.predict_proba(X_train.iloc[[idx], :])[0][1]\n",
    "for col in range(X_train.shape[1]):\n",
    "    data['feature'].append(X_train.columns[col])\n",
    "    data['row_id'].append(idx)\n",
    "    data['probability'].append(prob)\n",
    "    data['shap_value'].append(sv.values[0, col, 1])\n",
    "    data[X_train.columns[col]] = X_train.iloc[idx, col]\n",
    "        \n",
    "df = pd.DataFrame(data)\n",
    "df"
   ]
  },
  {
   "cell_type": "code",
   "execution_count": null,
   "id": "5fe8fbd3-59fa-4c34-8f9d-9620765445cb",
   "metadata": {},
   "outputs": [],
   "source": [
    "\n",
    "data = {'feature': [], 'row_id': [], 'probability': [], 'shap_value': []}\n",
    "\n",
    "idx = 42 \n",
    "sv = explainer(X_train.iloc[[idx], :], check_additivity=True)\n",
    "prob = model.predict_proba(X_train.iloc[[idx], :])[0][1]\n",
    "for col in range(X_train.shape[1]):\n",
    "    data['feature'].append(X_train.columns[col])\n",
    "    data['row_id'].append(idx)\n",
    "    data['probability'].append(prob)\n",
    "    data['shap_value'].append(sv.values[0, col, 1])\n",
    "        \n",
    "df = pd.DataFrame(data)\n",
    "df\n"
   ]
  },
  {
   "cell_type": "code",
   "execution_count": null,
   "id": "973b4496-9e48-4666-a7a1-a08d1911d90e",
   "metadata": {},
   "outputs": [],
   "source": [
    "X_train.shape"
   ]
  },
  {
   "cell_type": "code",
   "execution_count": null,
   "id": "38dab111-c675-4932-b4d8-ecabefaf40d8",
   "metadata": {
    "executionInfo": {
     "elapsed": 80,
     "status": "aborted",
     "timestamp": 1679413603366,
     "user": {
      "displayName": "Hugues Hansen",
      "userId": "06507793026638313555"
     },
     "user_tz": -60
    },
    "id": "38dab111-c675-4932-b4d8-ecabefaf40d8"
   },
   "outputs": [],
   "source": [
    "\n",
    "\n",
    "# Calculer les valeurs SHAP pour un échantillon de test donné\n",
    "#shap_values = explainer.shap_values(X_test.iloc[[0]])\n",
    "shap_values = explainer.shap_values(X_sample.iloc[[0]])\n",
    "\n",
    "# Afficher les noms et les pourcentages d'importance des 10 features les plus importantes\n",
    "#shap.summary_plot(shap_values, X_sample.iloc[[0]], plot_type=\"bar\", max_display=10)\n",
    "waterfall(shap_values)\n"
   ]
  },
  {
   "cell_type": "code",
   "execution_count": null,
   "id": "3af33423-d6c2-4ca1-9c05-742217c46116",
   "metadata": {},
   "outputs": [],
   "source": [
    "import plotly.graph_objects as go\n",
    "\n",
    "# trier les features par ordre d'impact sur le score\n",
    "df = df.sort_values('shap_value', ascending=False)\n",
    "\n",
    "# diviser les features en deux groupes : positifs et négatifs\n",
    "pos_features = df[df['shap_value'] > 0].iloc[:5]\n",
    "neg_features = df[df['shap_value'] < 0].iloc[-5:]\n",
    "\n",
    "# créer un tableau de données pour le graphique\n",
    "data = [\n",
    "    go.Bar(\n",
    "        x=pos_features['feature_value'],\n",
    "        y=pos_features['shap_value'],\n",
    "        name='Features augmentant le score',\n",
    "        marker=dict(color='crimson')\n",
    "    ),\n",
    "    go.Bar(\n",
    "        x=neg_features['feature_value'],\n",
    "        y=neg_features['shap_value'],\n",
    "        name='Features diminuant le score',\n",
    "        marker=dict(color='green')\n",
    "    )\n",
    "]\n",
    "\n",
    "# créer la figure et ajouter des annotations\n",
    "fig = go.Figure(data=data)\n",
    "fig.update_layout(\n",
    "    title='Waterfall plot des features les plus importants',\n",
    "    xaxis_title='Valeur de la feature',\n",
    "    yaxis_title='Impact sur le score',\n",
    "    barmode='overlay'\n",
    ")\n",
    "fig.update_traces(\n",
    "    textposition='outside',\n",
    "    hovertemplate='%{x}: %{y:.2f}',\n",
    "    width=0.5\n",
    ")\n",
    "\n",
    "fig.show()\n",
    "# afficher le graphique dans Streamlit\n",
    "# st.plotly_chart(fig)\n"
   ]
  },
  {
   "cell_type": "code",
   "execution_count": null,
   "id": "dbda729a-c87b-43ea-bdb8-93b4a57c2e0a",
   "metadata": {},
   "outputs": [],
   "source": [
    "import streamlit as st"
   ]
  },
  {
   "cell_type": "code",
   "execution_count": null,
   "id": "1dc3f99c-1541-4435-848b-5ea2fee2e629",
   "metadata": {},
   "outputs": [],
   "source": [
    "df"
   ]
  },
  {
   "cell_type": "code",
   "execution_count": null,
   "id": "b73864c6-7882-4ca6-b7b5-53db637f28f2",
   "metadata": {
    "tags": []
   },
   "outputs": [],
   "source": [
    "import ipywidgets as widgets"
   ]
  },
  {
   "cell_type": "code",
   "execution_count": null,
   "id": "74092e70-9900-4d25-83f1-dadb7f25222f",
   "metadata": {
    "tags": []
   },
   "outputs": [],
   "source": [
    "# Create the list of all labels for the drop down list\n",
    "list_of_labels = X_train.columns.to_list()\n",
    "\n",
    "# Create a list of tuples so that the index of the label is what is returned\n",
    "tuple_of_labels = list(zip(list_of_labels, range(len(list_of_labels))))\n",
    "\n",
    "# Create a widget for the labels and then display the widget\n",
    "current_label = widgets.Dropdown(options=tuple_of_labels,\n",
    "                              value=0,\n",
    "                              description='Select Label:'\n",
    "                              )\n",
    "\n",
    "# Display the dropdown list (Note: access index value with 'current_label.value')\n",
    "current_label"
   ]
  },
  {
   "cell_type": "code",
   "execution_count": null,
   "id": "de28afde-d191-43b7-bf77-eed7c1448bc8",
   "metadata": {
    "tags": []
   },
   "outputs": [],
   "source": [
    "# print the JS visualization code to the notebook\n",
    "shap.initjs()\n",
    "\n",
    "print(f'Current label Shown: {list_of_labels[current_label.value]}')\n",
    "\n",
    "shap.force_plot(base_value = explainer.expected_value[current_label.value],\n",
    "                shap_values = shap_value_single[current_label.value],\n",
    "                features = X_train.iloc[X_idx:X_idx+1,:]\n",
    "                )\n",
    "\n"
   ]
  },
  {
   "cell_type": "code",
   "execution_count": null,
   "id": "f24ae03b-1c11-463d-a86b-204e41701903",
   "metadata": {
    "tags": []
   },
   "outputs": [],
   "source": [
    "\n",
    "shap_values = explainer(X_train.iloc[0:5,:])"
   ]
  },
  {
   "cell_type": "code",
   "execution_count": null,
   "id": "ef90fae3-7873-45e5-960c-849aedb9935e",
   "metadata": {
    "tags": []
   },
   "outputs": [],
   "source": [
    "# print the JS visualization code to the notebook\n",
    "shap.initjs()\n",
    "\n",
    "print(f'Current Label Shown: {list_of_labels[current_label.value]}\\n')\n",
    "\n",
    "shap.summary_plot(shap_values = shap_values[current_label.value],\n",
    "                  features = X_train.iloc[0:5,:]\n",
    "                  )"
   ]
  },
  {
   "cell_type": "code",
   "execution_count": null,
   "id": "6bb664b1-9102-40ea-a027-4fc84b94f11e",
   "metadata": {},
   "outputs": [],
   "source": []
  },
  {
   "cell_type": "code",
   "execution_count": null,
   "id": "LLgNo2cI4c0X",
   "metadata": {
    "id": "LLgNo2cI4c0X"
   },
   "outputs": [],
   "source": [
    "shap_values = explainer(X_train.iloc[[0]])"
   ]
  },
  {
   "cell_type": "code",
   "execution_count": null,
   "id": "4VvlNJnr4vxu",
   "metadata": {
    "executionInfo": {
     "elapsed": 1185,
     "status": "ok",
     "timestamp": 1679414217672,
     "user": {
      "displayName": "Hugues Hansen",
      "userId": "06507793026638313555"
     },
     "user_tz": -60
    },
    "id": "4VvlNJnr4vxu"
   },
   "outputs": [],
   "source": [
    "shap_valuesp = explainerp(X_train.iloc[[0]])"
   ]
  },
  {
   "cell_type": "code",
   "execution_count": null,
   "id": "ab2e8622-93ca-4e49-b357-638918227233",
   "metadata": {
    "colab": {
     "base_uri": "https://localhost:8080/"
    },
    "executionInfo": {
     "elapsed": 10,
     "status": "ok",
     "timestamp": 1679414226891,
     "user": {
      "displayName": "Hugues Hansen",
      "userId": "06507793026638313555"
     },
     "user_tz": -60
    },
    "id": "ab2e8622-93ca-4e49-b357-638918227233",
    "outputId": "d761cee3-7ff1-4ad9-aee2-e97929e7622e"
   },
   "outputs": [],
   "source": [
    "print(shap_values.shape)"
   ]
  },
  {
   "cell_type": "code",
   "execution_count": null,
   "id": "RzsKFGHT43F7",
   "metadata": {
    "colab": {
     "base_uri": "https://localhost:8080/"
    },
    "executionInfo": {
     "elapsed": 715,
     "status": "ok",
     "timestamp": 1679414286349,
     "user": {
      "displayName": "Hugues Hansen",
      "userId": "06507793026638313555"
     },
     "user_tz": -60
    },
    "id": "RzsKFGHT43F7",
    "outputId": "8e8daddb-c734-44e8-f91e-20e05f5a54ea"
   },
   "outputs": [],
   "source": [
    "print(shap_valuesp.shape)\n",
    "print (shap_valuesp)"
   ]
  },
  {
   "cell_type": "code",
   "execution_count": null,
   "id": "541c32b0-8fbe-4f56-bf0d-8195c65b1b21",
   "metadata": {
    "colab": {
     "base_uri": "https://localhost:8080/",
     "height": 162
    },
    "executionInfo": {
     "elapsed": 541,
     "status": "ok",
     "timestamp": 1679413754205,
     "user": {
      "displayName": "Hugues Hansen",
      "userId": "06507793026638313555"
     },
     "user_tz": -60
    },
    "id": "541c32b0-8fbe-4f56-bf0d-8195c65b1b21",
    "outputId": "02bbf0d4-4e0d-4006-ab80-f2f719f3fa05"
   },
   "outputs": [],
   "source": [
    "X_train.iloc[[0]]"
   ]
  },
  {
   "cell_type": "code",
   "execution_count": null,
   "id": "28af673d-d545-476c-9b23-28ddd442bf60",
   "metadata": {
    "executionInfo": {
     "elapsed": 72,
     "status": "aborted",
     "timestamp": 1679413603338,
     "user": {
      "displayName": "Hugues Hansen",
      "userId": "06507793026638313555"
     },
     "user_tz": -60
    },
    "id": "28af673d-d545-476c-9b23-28ddd442bf60"
   },
   "outputs": [],
   "source": [
    "shap_values"
   ]
  },
  {
   "cell_type": "code",
   "execution_count": null,
   "id": "f5b7d4bf-34a2-49ef-845d-ca4e14ef2f4c",
   "metadata": {
    "colab": {
     "base_uri": "https://localhost:8080/"
    },
    "executionInfo": {
     "elapsed": 4684,
     "status": "ok",
     "timestamp": 1679414337027,
     "user": {
      "displayName": "Hugues Hansen",
      "userId": "06507793026638313555"
     },
     "user_tz": -60
    },
    "id": "f5b7d4bf-34a2-49ef-845d-ca4e14ef2f4c",
    "outputId": "1cf82a4c-5dc1-48d4-ceb0-ab643bc8e135"
   },
   "outputs": [],
   "source": [
    "\n",
    "\n",
    "\n",
    "\n",
    "# choisir une observation pour expliquer\n",
    "observation_idx = 0\n",
    "observation = X_test[observation_idx:observation_idx+1]\n",
    "\n",
    "# obtenir les valeurs SHAP pour cette observation\n",
    "shap_values = explainer(observation)\n",
    "\n",
    "# récupérer les noms des features dans le DataFrame original\n",
    "feature_names = X_train.columns.tolist()\n",
    "\n",
    "# extraire les 5 features les plus positives et les plus négatives\n",
    "pos_indices = shap_values.data[0].argsort()[-5:][::-1]\n",
    "neg_indices = shap_values.data[0].argsort()[:5]\n",
    "\n",
    "\n",
    "# afficher les noms des features et leurs scores\n",
    "print(\"Caractéristiques ayant le plus grand impact positif:\")\n",
    "for i in pos_indices:\n",
    "    print(feature_names[i], shap_values[0][i])\n",
    "\n",
    "print(\"Caractéristiques ayant le plus grand impact négatif:\")\n",
    "for i in neg_indices:\n",
    "    print(feature_names[i], shap_values[0][i])\n"
   ]
  },
  {
   "cell_type": "code",
   "execution_count": null,
   "id": "f1ca55d3-7a06-4a2e-b37e-a1218c452e0f",
   "metadata": {},
   "outputs": [],
   "source": [
    "print ( explainer(observation))"
   ]
  },
  {
   "cell_type": "code",
   "execution_count": null,
   "id": "f61c6170-37e6-4796-9451-13dfa273e148",
   "metadata": {},
   "outputs": [],
   "source": []
  },
  {
   "cell_type": "code",
   "execution_count": null,
   "id": "wrKJ3PKgQ1x4",
   "metadata": {
    "colab": {
     "base_uri": "https://localhost:8080/"
    },
    "executionInfo": {
     "elapsed": 493,
     "status": "ok",
     "timestamp": 1679420527400,
     "user": {
      "displayName": "Hugues Hansen",
      "userId": "06507793026638313555"
     },
     "user_tz": -60
    },
    "id": "wrKJ3PKgQ1x4",
    "outputId": "b5570dd6-bc09-4c44-d215-5afd1e445f26"
   },
   "outputs": [],
   "source": [
    "print (observation ) \n"
   ]
  },
  {
   "cell_type": "code",
   "execution_count": null,
   "id": "61b4c129-9349-4698-ba76-54a8b386cbab",
   "metadata": {
    "executionInfo": {
     "elapsed": 18,
     "status": "ok",
     "timestamp": 1679414345219,
     "user": {
      "displayName": "Hugues Hansen",
      "userId": "06507793026638313555"
     },
     "user_tz": -60
    },
    "id": "61b4c129-9349-4698-ba76-54a8b386cbab"
   },
   "outputs": [],
   "source": [
    "import pandas as pd\n",
    "import shap\n",
    "import matplotlib.pyplot as plt\n",
    "import numpy as np\n",
    "\n",
    "\n",
    "# Initialiser l'explainer\n",
    "explainer = shap.Explainer(model.predict_proba, X_train)"
   ]
  },
  {
   "cell_type": "code",
   "execution_count": null,
   "id": "3vxDMEvB6UXy",
   "metadata": {
    "colab": {
     "base_uri": "https://localhost:8080/",
     "height": 404
    },
    "executionInfo": {
     "elapsed": 2345,
     "status": "error",
     "timestamp": 1679415240426,
     "user": {
      "displayName": "Hugues Hansen",
      "userId": "06507793026638313555"
     },
     "user_tz": -60
    },
    "id": "3vxDMEvB6UXy",
    "outputId": "1b02e47b-c288-4931-ec4a-76d925dcdd77"
   },
   "outputs": [],
   "source": [
    "# Sélectionner 10 observations au hasard V2\n",
    "random_indices = np.random.choice(X_test.shape[0], size=10, replace=False)\n",
    "observations = X_test.iloc[random_indices]\n",
    "\n",
    "# Obtenir les valeurs SHAP pour chaque observation\n",
    "shap_values = explainer(observations)\n",
    "\n",
    "# Récupérer les noms des features dans le DataFrame original\n",
    "feature_names = X_train.columns.tolist()\n",
    "\n",
    "# Extraire les 5 features les plus positives et les plus négatives pour chaque observation\n",
    "pos_values = np.fliplr(shap_values.values.argsort(axis=1)[:,-5:])\n",
    "neg_values = shap_values.values.argsort(axis=1)[:,:5]\n",
    "\n",
    "# Créer un DataFrame pandas avec les résultats\n",
    "results_df = pd.DataFrame(index=random_indices, columns=[\"proba_0\", \"proba_1\"] + [\"feature_\"+str(i) for i in range(1, 11)])\n",
    "\n",
    "feature_names_array = np.array(feature_names) # Convertir feature_names en un tableau numpy\n",
    "idx_vectorized = np.vectorize(lambda x: x.item()) # Définir une fonction vectorisée qui applique item() à chaque élément d'un tableau\n",
    "\n",
    "for i, obs_idx in enumerate(random_indices):\n",
    "    results_df.loc[obs_idx, \"proba_0\"] = model.predict_proba(observations)[i, 0]\n",
    "    results_df.loc[obs_idx, \"proba_1\"] = model.predict_proba(observations)[i, 1]\n",
    "    pos_features = idx_vectorized(pos_indices[i])\n",
    "    neg_features = idx_vectorized(neg_indices[i])\n",
    "    for j, pos_idx in enumerate(pos_features):\n",
    "        results_df.loc[obs_idx, \"feature_\"+str(j+1)] = feature_names_array[pos_idx] + \": +\" + str(round(shap_values.values[i, pos_idx], 2))\n",
    "    for j, neg_idx in enumerate(neg_features):\n",
    "        results_df.loc[obs_idx, \"feature_\"+str(j+6)] = feature_names_array[neg_idx] + \": \" + str(round(shap_values.values[i, neg_idx], 2))\n",
    "\n",
    "# Afficher le DataFrame\n",
    "display(results_df)\n"
   ]
  },
  {
   "cell_type": "code",
   "execution_count": null,
   "id": "4aa4a768-d812-4401-a417-1bac6b01cbb8",
   "metadata": {
    "colab": {
     "base_uri": "https://localhost:8080/",
     "height": 514
    },
    "executionInfo": {
     "elapsed": 4137,
     "status": "ok",
     "timestamp": 1679414353926,
     "user": {
      "displayName": "Hugues Hansen",
      "userId": "06507793026638313555"
     },
     "user_tz": -60
    },
    "id": "4aa4a768-d812-4401-a417-1bac6b01cbb8",
    "outputId": "8d1955d9-0b4f-4960-c0ea-698c39468fcb"
   },
   "outputs": [],
   "source": [
    "# Sélectionner 10 observations au hasard V1\n",
    "\n",
    "random_indices = np.random.choice(X_test.shape[0], size=10, replace=False)\n",
    "observations = X_test.iloc[random_indices]\n",
    "\n",
    "# Obtenir les valeurs SHAP pour chaque observation\n",
    "shap_values = explainer(observations)\n",
    "\n",
    "# Récupérer les noms des features dans le DataFrame original\n",
    "feature_names = X_train.columns.tolist()\n",
    "\n",
    "# Extraire les 5 features les plus positives et les plus négatives pour chaque observation\n",
    "pos_indices = np.fliplr(shap_values.data.argsort(axis=1)[:,-5:])\n",
    "neg_indices = shap_values.data.argsort(axis=1)[:,:5]\n",
    "\n",
    "# Créer un DataFrame pandas avec les résultats\n",
    "results_df = pd.DataFrame(index=random_indices, columns=[\"proba_0\", \"proba_1\"] + [\"feature_\"+str(i) for i in range(1, 11)])\n",
    "\n",
    "for i, obs_idx in enumerate(random_indices):\n",
    "    results_df.loc[obs_idx, \"proba_0\"] = model.predict_proba(observations)[i, 0]\n",
    "    results_df.loc[obs_idx, \"proba_1\"] = model.predict_proba(observations)[i, 1]\n",
    "    for j, idx in enumerate(np.concatenate([pos_indices[i], neg_indices[i]])):\n",
    "        results_df.loc[obs_idx, \"feature_\"+str(j+1)] = feature_names[idx]\n",
    "\n",
    "# Afficher le DataFra\n",
    "display(results_df)\n",
    "\n",
    "# Créer un graphique avec les résultats pour chaque observation\n",
    "#shap.summary_plot(shap_values[0], observations, plot_type=\"bar\")\n",
    "#shap.summary_plot(shap_values, observations, plot_type=\"bar\", check_additivity=False)"
   ]
  },
  {
   "cell_type": "code",
   "execution_count": null,
   "id": "a306af14-b8a6-477d-b96f-1c1a5a8bdca0",
   "metadata": {
    "executionInfo": {
     "elapsed": 72,
     "status": "aborted",
     "timestamp": 1679413603342,
     "user": {
      "displayName": "Hugues Hansen",
      "userId": "06507793026638313555"
     },
     "user_tz": -60
    },
    "id": "a306af14-b8a6-477d-b96f-1c1a5a8bdca0"
   },
   "outputs": [],
   "source": [
    "# Sélectionner 10 observations au hasard\n",
    "random_indices = np.random.choice(X_test.shape[0], size=10, replace=False)\n",
    "observations = X_test.iloc[random_indices]\n",
    "\n",
    "# Obtenir les valeurs SHAP pour chaque observation\n",
    "shap_values = explainer(observations)\n",
    "\n",
    "# Récupérer les noms des features dans le DataFrame original\n",
    "feature_names = X_train.columns.tolist()\n",
    "\n",
    "# Extraire les 5 features les plus positives et les plus négatives pour chaque observation\n",
    "pos_indices = np.fliplr(shap_values.data.argsort(axis=1)[:,-5:])\n",
    "neg_indices = shap_values.data.argsort(axis=1)[:,:5]\n",
    "\n",
    "# Créer un DataFrame pandas avec les résultats\n",
    "results_df = pd.DataFrame(index=random_indices, columns=[\"proba_0\", \"proba_1\"] + [\"feature_\"+str(i) for i in range(1, 11)])\n",
    "\n",
    "for i, obs_idx in enumerate(random_indices):\n",
    "    results_df.loc[obs_idx, \"proba_0\"] = model.predict_proba(observations)[i][0]\n",
    "    results_df.loc[obs_idx, \"proba_1\"] = model.predict_proba(observations)[i][1]\n",
    "    for j, idx in enumerate(np.concatenate([pos_indices[i], neg_indices[i]])):\n",
    "        feature_name = feature_names[idx]\n",
    "        shap_score = shap_values[i, idx]\n",
    "        if idx in pos_indices[i]:\n",
    "            impact = \"+\"\n",
    "        else:\n",
    "            impact = \"-\"\n",
    "            shap_score *= -1\n",
    "        results_df.loc[obs_idx, \"feature_\"+str(j+1)] = feature_name + \" (\" + impact + str(shap_score) + \")\"\n",
    "        if impact == \"+\":\n",
    "            results_df.loc[obs_idx, \"score_pos_\"+str(j+1)] = shap_score\n",
    "        else:\n",
    "            results_df.loc[obs_idx, \"score_neg_\"+str(j+1)] = shap_score\n",
    "\n",
    "\n",
    "# Afficher le DataFra\n",
    "results_df\n",
    "\n",
    "# Créer un graphique avec les résultats pour chaque observation\n",
    "#shap.summary_plot(shap_values[0], observations, plot_type=\"bar\")\n",
    "#shap.summary_plot(shap_values, observations, plot_type=\"bar\", check_additivity=False)"
   ]
  },
  {
   "cell_type": "code",
   "execution_count": null,
   "id": "2c046df4-7168-49a7-a6e6-3102120f1f2b",
   "metadata": {
    "executionInfo": {
     "elapsed": 72,
     "status": "aborted",
     "timestamp": 1679413603343,
     "user": {
      "displayName": "Hugues Hansen",
      "userId": "06507793026638313555"
     },
     "user_tz": -60
    },
    "id": "2c046df4-7168-49a7-a6e6-3102120f1f2b"
   },
   "outputs": [],
   "source": []
  },
  {
   "cell_type": "code",
   "execution_count": null,
   "id": "1f986e7b-cf7a-4c08-82e5-e38482157c34",
   "metadata": {
    "executionInfo": {
     "elapsed": 75,
     "status": "aborted",
     "timestamp": 1679413603347,
     "user": {
      "displayName": "Hugues Hansen",
      "userId": "06507793026638313555"
     },
     "user_tz": -60
    },
    "id": "1f986e7b-cf7a-4c08-82e5-e38482157c34"
   },
   "outputs": [],
   "source": []
  },
  {
   "cell_type": "code",
   "execution_count": null,
   "id": "eac272d4-89c4-4925-9dd4-72b5e2605d6d",
   "metadata": {
    "executionInfo": {
     "elapsed": 74,
     "status": "aborted",
     "timestamp": 1679413603348,
     "user": {
      "displayName": "Hugues Hansen",
      "userId": "06507793026638313555"
     },
     "user_tz": -60
    },
    "id": "eac272d4-89c4-4925-9dd4-72b5e2605d6d"
   },
   "outputs": [],
   "source": [
    "\n",
    "\n",
    "# Get feature names\n",
    "feature_names = X_train.columns\n",
    "\n",
    "shap_values_df = explainer(X_test.iloc[0])\n",
    "\n",
    "# Create dataframe of SHAP values\n",
    "#shap_df = pd.DataFrame(shap_values, columns=X_train.columns.tolist())\n",
    "\n",
    "shap_df = pd.DataFrame(shap_values_df, columns=X_train.columns.tolist())\n",
    "\n",
    "# Add feature names to dataframe\n",
    "shap_df['feature_names'] = feature_names\n",
    "\n",
    "# Select random observations from X_train and create dataframe\n",
    "obs = X_train.sample(n=5, random_state=42)\n",
    "obs_df = pd.DataFrame(obs.values, columns=feature_names)\n",
    "\n",
    "# Add predicted probabilities to dataframe\n",
    "proba = model.predict_proba(obs)\n",
    "proba_df = pd.DataFrame(proba, columns=['Class 0', 'Class 1'])\n",
    "\n",
    "# Identify top 5 features for each class\n",
    "shap_abs = np.abs(shap_values)\n",
    "shap_mean = np.mean(shap_abs, axis=0)\n",
    "sort_ind = np.argsort(shap_mean)\n",
    "top_inds_1 = sort_ind[-5:]\n",
    "top_inds_0 = sort_ind[:5]\n",
    "\n",
    "# Create summary plot of SHAP values\n",
    "shap.summary_plot(shap_values, obs, feature_names=feature_names)"
   ]
  },
  {
   "cell_type": "code",
   "execution_count": null,
   "id": "LXnIXF3Gw1Qr",
   "metadata": {
    "executionInfo": {
     "elapsed": 74,
     "status": "aborted",
     "timestamp": 1679413603348,
     "user": {
      "displayName": "Hugues Hansen",
      "userId": "06507793026638313555"
     },
     "user_tz": -60
    },
    "id": "LXnIXF3Gw1Qr"
   },
   "outputs": [],
   "source": [
    "explainer = shap.Explainer(model)"
   ]
  },
  {
   "cell_type": "code",
   "execution_count": null,
   "id": "ad5eab53-1366-422e-9de0-58f9e92c9c7c",
   "metadata": {
    "executionInfo": {
     "elapsed": 74,
     "status": "aborted",
     "timestamp": 1679413603349,
     "user": {
      "displayName": "Hugues Hansen",
      "userId": "06507793026638313555"
     },
     "user_tz": -60
    },
    "id": "ad5eab53-1366-422e-9de0-58f9e92c9c7c"
   },
   "outputs": [],
   "source": [
    "# calculate the SHAP values for the first test observation\n",
    "shap_values = explainer(X_train.iloc[[0]])\n",
    "shap_values"
   ]
  },
  {
   "cell_type": "code",
   "execution_count": null,
   "id": "b3db8817-5295-4231-9789-0540e67a37f0",
   "metadata": {
    "executionInfo": {
     "elapsed": 73,
     "status": "aborted",
     "timestamp": 1679413603350,
     "user": {
      "displayName": "Hugues Hansen",
      "userId": "06507793026638313555"
     },
     "user_tz": -60
    },
    "id": "b3db8817-5295-4231-9789-0540e67a37f0"
   },
   "outputs": [],
   "source": [
    "X_train.iloc[0]"
   ]
  },
  {
   "cell_type": "code",
   "execution_count": null,
   "id": "a24ad4ff-d936-42a0-86f9-360cc6535207",
   "metadata": {
    "executionInfo": {
     "elapsed": 72,
     "status": "aborted",
     "timestamp": 1679413603350,
     "user": {
      "displayName": "Hugues Hansen",
      "userId": "06507793026638313555"
     },
     "user_tz": -60
    },
    "id": "a24ad4ff-d936-42a0-86f9-360cc6535207"
   },
   "outputs": [],
   "source": [
    "shap_values0 = explainer(X_train.iloc[0])"
   ]
  },
  {
   "cell_type": "code",
   "execution_count": null,
   "id": "7ec6517a-2d8a-4715-bc12-eb8f493afb7e",
   "metadata": {
    "executionInfo": {
     "elapsed": 73,
     "status": "aborted",
     "timestamp": 1679413603351,
     "user": {
      "displayName": "Hugues Hansen",
      "userId": "06507793026638313555"
     },
     "user_tz": -60
    },
    "id": "7ec6517a-2d8a-4715-bc12-eb8f493afb7e"
   },
   "outputs": [],
   "source": []
  },
  {
   "cell_type": "code",
   "execution_count": null,
   "id": "6e16a8e4-51e3-45f1-aa40-af79b9c2d7d4",
   "metadata": {
    "executionInfo": {
     "elapsed": 74,
     "status": "aborted",
     "timestamp": 1679413603352,
     "user": {
      "displayName": "Hugues Hansen",
      "userId": "06507793026638313555"
     },
     "user_tz": -60
    },
    "id": "6e16a8e4-51e3-45f1-aa40-af79b9c2d7d4"
   },
   "outputs": [],
   "source": [
    "columns_list = X_test.columns.tolist()"
   ]
  },
  {
   "cell_type": "code",
   "execution_count": null,
   "id": "27f023bf-1832-4a2c-b97d-db8bcc9e6d5b",
   "metadata": {
    "executionInfo": {
     "elapsed": 74,
     "status": "aborted",
     "timestamp": 1679413603352,
     "user": {
      "displayName": "Hugues Hansen",
      "userId": "06507793026638313555"
     },
     "user_tz": -60
    },
    "id": "27f023bf-1832-4a2c-b97d-db8bcc9e6d5b"
   },
   "outputs": [],
   "source": [
    "print (len(columns_list))"
   ]
  },
  {
   "cell_type": "code",
   "execution_count": null,
   "id": "9ab32906-277a-4f50-a540-9e565e51843b",
   "metadata": {
    "executionInfo": {
     "elapsed": 76,
     "status": "aborted",
     "timestamp": 1679413603354,
     "user": {
      "displayName": "Hugues Hansen",
      "userId": "06507793026638313555"
     },
     "user_tz": -60
    },
    "id": "9ab32906-277a-4f50-a540-9e565e51843b"
   },
   "outputs": [],
   "source": [
    "print ( shap_values)"
   ]
  },
  {
   "cell_type": "code",
   "execution_count": null,
   "id": "79cef1bb-0a20-4f83-b31b-7728407e208b",
   "metadata": {
    "executionInfo": {
     "elapsed": 76,
     "status": "aborted",
     "timestamp": 1679413603354,
     "user": {
      "displayName": "Hugues Hansen",
      "userId": "06507793026638313555"
     },
     "user_tz": -60
    },
    "id": "79cef1bb-0a20-4f83-b31b-7728407e208b"
   },
   "outputs": [],
   "source": [
    "print ( shap_values0)"
   ]
  },
  {
   "cell_type": "code",
   "execution_count": null,
   "id": "555f4b5e-e621-4081-b121-623d3f0d0896",
   "metadata": {
    "executionInfo": {
     "elapsed": 76,
     "status": "aborted",
     "timestamp": 1679413603355,
     "user": {
      "displayName": "Hugues Hansen",
      "userId": "06507793026638313555"
     },
     "user_tz": -60
    },
    "id": "555f4b5e-e621-4081-b121-623d3f0d0896"
   },
   "outputs": [],
   "source": [
    "p = shap.force_plot(explainer.expected_value, shap_values, X_test.iloc[0])\n",
    "p"
   ]
  },
  {
   "cell_type": "code",
   "execution_count": null,
   "id": "6b918455-61ae-43fd-9123-96469d41fb69",
   "metadata": {
    "executionInfo": {
     "elapsed": 79,
     "status": "aborted",
     "timestamp": 1679413603358,
     "user": {
      "displayName": "Hugues Hansen",
      "userId": "06507793026638313555"
     },
     "user_tz": -60
    },
    "id": "6b918455-61ae-43fd-9123-96469d41fb69"
   },
   "outputs": [],
   "source": [
    "print ( explainer.expected_value)"
   ]
  },
  {
   "cell_type": "code",
   "execution_count": null,
   "id": "0c1fc151-211c-4572-a963-af2dea8acc64",
   "metadata": {
    "executionInfo": {
     "elapsed": 79,
     "status": "aborted",
     "timestamp": 1679413603358,
     "user": {
      "displayName": "Hugues Hansen",
      "userId": "06507793026638313555"
     },
     "user_tz": -60
    },
    "id": "0c1fc151-211c-4572-a963-af2dea8acc64"
   },
   "outputs": [],
   "source": [
    "print (shap_values.values)"
   ]
  },
  {
   "cell_type": "code",
   "execution_count": null,
   "id": "1162dcca-496b-4622-bec3-47c7aefae0a5",
   "metadata": {
    "executionInfo": {
     "elapsed": 78,
     "status": "aborted",
     "timestamp": 1679413603359,
     "user": {
      "displayName": "Hugues Hansen",
      "userId": "06507793026638313555"
     },
     "user_tz": -60
    },
    "id": "1162dcca-496b-4622-bec3-47c7aefae0a5"
   },
   "outputs": [],
   "source": [
    "feature_names = list(X_test.columns)\n",
    "\n",
    "# Create a DataFrame from the SHAP values and feature names\n",
    "shap_df = pd.DataFrame(shap_values.values, columns=[\"1\", \"2\"])\n",
    "shap_df[\"feature\"] = feature_names"
   ]
  },
  {
   "cell_type": "code",
   "execution_count": null,
   "id": "f1a34f59-0336-4d3c-9370-7cab82959c72",
   "metadata": {
    "executionInfo": {
     "elapsed": 79,
     "status": "aborted",
     "timestamp": 1679413603360,
     "user": {
      "displayName": "Hugues Hansen",
      "userId": "06507793026638313555"
     },
     "user_tz": -60
    },
    "id": "f1a34f59-0336-4d3c-9370-7cab82959c72"
   },
   "outputs": [],
   "source": [
    "import random\n",
    "import numpy as np\n",
    "import pandas as pd\n",
    "import shap\n",
    "import matplotlib.pyplot as plt\n",
    "\n",
    "# sélectionner 5 lignes aléatoires de X_train\n",
    "random.seed(123)  # fixer la graine pour obtenir des résultats reproductibles\n",
    "idx = random.sample(range(len(X_train)), 5)\n",
    "X_sample = X_train.iloc[idx]\n",
    "\n",
    "# calculer les SHAP values\n",
    "explainer = shap.Explainer(model.predict, X_train)\n",
    "shap_values = explainer(X_sample)\n",
    "\n",
    "# transformer les SHAP values en pandas DataFrame\n",
    "shap_df = pd.DataFrame(shap_values.values, columns=['Class 0', 'Class 1'])\n",
    "shap_df['Feature'] = X_sample.columns.values\n",
    "shap_df['Value'] = X_sample.values\n",
    "\n",
    "# ajouter les noms des features et les valeurs des features\n",
    "shap_df = pd.melt(shap_df, id_vars=['Feature', 'Value'], var_name='Class', value_name='SHAP Value')\n",
    "\n",
    "# afficher les 5 features qui contribuent le plus à la prédiction pour chaque instance\n",
    "for i in range(len(X_sample)):\n",
    "    print(f\"Instance {i}:\")\n",
    "    shap_i = shap_df.loc[shap_df['Feature'].isin(X_sample.columns)]\n",
    "    shap_i = shap_i.loc[shap_i['Class'] == f'Class {model.predict(X_sample.iloc[i:i+1])[0]}']\n",
    "    shap_i = shap_i.loc[shap_i['Value'] == X_sample.iloc[i:i+1].values[0]]\n",
    "    shap_i = shap_i.sort_values(by='SHAP Value', ascending=False)\n",
    "    print(shap_i.head(5))\n",
    "    \n",
    "    # afficher un graphique en barres de la contribution de chaque feature\n",
    "    plt.figure()\n",
    "    plt.title(f\"Instance {i}\")\n",
    "    plt.barh(shap_i['Feature'], shap_i['SHAP Value'])\n",
    "    plt.show()\n"
   ]
  },
  {
   "cell_type": "code",
   "execution_count": null,
   "id": "8d2fb64f-b266-4a0d-b7f1-c0bff9aa924b",
   "metadata": {
    "executionInfo": {
     "elapsed": 78,
     "status": "aborted",
     "timestamp": 1679413603360,
     "user": {
      "displayName": "Hugues Hansen",
      "userId": "06507793026638313555"
     },
     "user_tz": -60
    },
    "id": "8d2fb64f-b266-4a0d-b7f1-c0bff9aa924b"
   },
   "outputs": [],
   "source": [
    "shap_df.describe()"
   ]
  },
  {
   "cell_type": "code",
   "execution_count": null,
   "id": "8f4f76bb-3790-47a4-915e-401764883c1d",
   "metadata": {
    "executionInfo": {
     "elapsed": 80,
     "status": "aborted",
     "timestamp": 1679413603362,
     "user": {
      "displayName": "Hugues Hansen",
      "userId": "06507793026638313555"
     },
     "user_tz": -60
    },
    "id": "8f4f76bb-3790-47a4-915e-401764883c1d"
   },
   "outputs": [],
   "source": [
    "shap_df[['1','2']].sum().sum()"
   ]
  },
  {
   "cell_type": "code",
   "execution_count": null,
   "id": "e340c3f2-c8bb-4c72-99ef-fb55140eec86",
   "metadata": {
    "executionInfo": {
     "elapsed": 79,
     "status": "aborted",
     "timestamp": 1679413603362,
     "user": {
      "displayName": "Hugues Hansen",
      "userId": "06507793026638313555"
     },
     "user_tz": -60
    },
    "id": "e340c3f2-c8bb-4c72-99ef-fb55140eec86"
   },
   "outputs": [],
   "source": [
    "#shap.plots.force(base_value, shap_values=None, features=None, feature_names=None, out_names=None, link='identity', plot_cmap='RdBu', matplotlib=False, show=True, figsize=(20, 3), ordering_keys=None, ordering_keys_time_format=None, text_rotation=0, contribution_threshold=0.05)"
   ]
  },
  {
   "cell_type": "code",
   "execution_count": null,
   "id": "64ded77b-ac31-4558-9a54-76dd979bfc93",
   "metadata": {
    "executionInfo": {
     "elapsed": 78,
     "status": "aborted",
     "timestamp": 1679413603362,
     "user": {
      "displayName": "Hugues Hansen",
      "userId": "06507793026638313555"
     },
     "user_tz": -60
    },
    "id": "64ded77b-ac31-4558-9a54-76dd979bfc93"
   },
   "outputs": [],
   "source": [
    "shap.plots.force(explainer.expected_value[0], shap_values=shap_values.values[0], features=None, \n",
    "                 feature_names=None, out_names=None, link='identity', plot_cmap='RdBu', \n",
    "                 matplotlib=False, show=True, figsize=(20, 3), ordering_keys=None, \n",
    "                 ordering_keys_time_format=None, text_rotation=0, contribution_threshold=500\n",
    "                )"
   ]
  },
  {
   "cell_type": "code",
   "execution_count": null,
   "id": "c41d3b69-930d-4424-b370-7c3467e2af99",
   "metadata": {
    "executionInfo": {
     "elapsed": 78,
     "status": "aborted",
     "timestamp": 1679413603362,
     "user": {
      "displayName": "Hugues Hansen",
      "userId": "06507793026638313555"
     },
     "user_tz": -60
    },
    "id": "c41d3b69-930d-4424-b370-7c3467e2af99"
   },
   "outputs": [],
   "source": [
    "shap.force_plot(explainer.expected_value[0], shap_values.values[0])\n",
    "#shap.force_plot(explainer.expected_value, shap_values.values[0:5,:],X.iloc[0:5,:], plot_cmap=\"DrDb\")"
   ]
  },
  {
   "cell_type": "code",
   "execution_count": null,
   "id": "7cf02df1-f0af-430d-abc0-03813031b2b7",
   "metadata": {
    "executionInfo": {
     "elapsed": 78,
     "status": "aborted",
     "timestamp": 1679413603362,
     "user": {
      "displayName": "Hugues Hansen",
      "userId": "06507793026638313555"
     },
     "user_tz": -60
    },
    "id": "7cf02df1-f0af-430d-abc0-03813031b2b7"
   },
   "outputs": [],
   "source": [
    "shap.force_plot(explainer.expected_value[0], shap_values.values[0],plot_cmap=\"DrDb\")"
   ]
  },
  {
   "cell_type": "code",
   "execution_count": null,
   "id": "55547625-bc86-458f-a3ba-5510ecccf2cb",
   "metadata": {
    "executionInfo": {
     "elapsed": 79,
     "status": "aborted",
     "timestamp": 1679413603363,
     "user": {
      "displayName": "Hugues Hansen",
      "userId": "06507793026638313555"
     },
     "user_tz": -60
    },
    "id": "55547625-bc86-458f-a3ba-5510ecccf2cb"
   },
   "outputs": [],
   "source": [
    "# Create a sample explainer and SHAP values\n",
    "explainer = shap.Explainer(model)\n",
    "shap_values = explainer(X_test.iloc[22])\n",
    "\n",
    "# Extract feature names from the DataFrame\n",
    "feature_names = list(X_train.columns)\n",
    "\n",
    "# Generate the SHAP force plot\n",
    "shap.force_plot(\n",
    "    explainer.expected_value[0], \n",
    "    shap_values.values[0], \n",
    "    feature_names=feature_names\n",
    ")"
   ]
  },
  {
   "cell_type": "code",
   "execution_count": null,
   "id": "ca1c3155-3aaf-4a66-ab0f-51b1b85edab1",
   "metadata": {
    "executionInfo": {
     "elapsed": 79,
     "status": "aborted",
     "timestamp": 1679413603364,
     "user": {
      "displayName": "Hugues Hansen",
      "userId": "06507793026638313555"
     },
     "user_tz": -60
    },
    "id": "ca1c3155-3aaf-4a66-ab0f-51b1b85edab1"
   },
   "outputs": [],
   "source": [
    "print(X_test.iloc[22].shape)\n",
    "print(shap_values.shape)"
   ]
  },
  {
   "cell_type": "code",
   "execution_count": null,
   "id": "58c98b32-4027-4097-a827-4af5956777c8",
   "metadata": {
    "executionInfo": {
     "elapsed": 79,
     "status": "aborted",
     "timestamp": 1679413603364,
     "user": {
      "displayName": "Hugues Hansen",
      "userId": "06507793026638313555"
     },
     "user_tz": -60
    },
    "id": "58c98b32-4027-4097-a827-4af5956777c8"
   },
   "outputs": [],
   "source": []
  },
  {
   "cell_type": "code",
   "execution_count": null,
   "id": "d2f6b97b-dd92-472c-b7e9-87597188c2a0",
   "metadata": {
    "executionInfo": {
     "elapsed": 79,
     "status": "aborted",
     "timestamp": 1679413603365,
     "user": {
      "displayName": "Hugues Hansen",
      "userId": "06507793026638313555"
     },
     "user_tz": -60
    },
    "id": "d2f6b97b-dd92-472c-b7e9-87597188c2a0"
   },
   "outputs": [],
   "source": [
    "# Afficher les noms et les pourcentages d'importance des 10 features les plus importantes\n",
    "shap.summary_plot(shap_values, X_test.loc[[0]], plot_type=\"bar\", max_display=10)"
   ]
  },
  {
   "cell_type": "code",
   "execution_count": null,
   "id": "3pk2d-WOxDkR",
   "metadata": {
    "executionInfo": {
     "elapsed": 80,
     "status": "aborted",
     "timestamp": 1679413603366,
     "user": {
      "displayName": "Hugues Hansen",
      "userId": "06507793026638313555"
     },
     "user_tz": -60
    },
    "id": "3pk2d-WOxDkR"
   },
   "outputs": [],
   "source": [
    "# display the SHAP values\n",
    "print(\"SHAP values:\")\n",
    "for i in range(X_test.shape[1]):\n",
    "    print(f\"{X_test.columns[i]:<8} SHAP value: {shap_values[0][0][i]:.3f}\")"
   ]
  },
  {
   "cell_type": "code",
   "execution_count": null,
   "id": "d7818fb7-d9b8-4e7d-a75f-bf920eb8339e",
   "metadata": {
    "executionInfo": {
     "elapsed": 81,
     "status": "aborted",
     "timestamp": 1679413603367,
     "user": {
      "displayName": "Hugues Hansen",
      "userId": "06507793026638313555"
     },
     "user_tz": -60
    },
    "id": "d7818fb7-d9b8-4e7d-a75f-bf920eb8339e"
   },
   "outputs": [],
   "source": []
  },
  {
   "cell_type": "code",
   "execution_count": null,
   "id": "1346bd94-38b9-40fe-85d7-15f6f5aa56ff",
   "metadata": {
    "executionInfo": {
     "elapsed": 80,
     "status": "aborted",
     "timestamp": 1679413603367,
     "user": {
      "displayName": "Hugues Hansen",
      "userId": "06507793026638313555"
     },
     "user_tz": -60
    },
    "id": "1346bd94-38b9-40fe-85d7-15f6f5aa56ff"
   },
   "outputs": [],
   "source": [
    "import shap\n",
    "from sklearn.linear_model import LogisticRegression\n",
    "\n",
    "# Charger les données\n",
    "X,y = shap.datasets.diabetes()\n",
    "\n",
    "# Créer un modèle de régression logistique\n",
    "model = LogisticRegression()\n",
    "\n",
    "# Entraîner le modèle sur les données\n",
    "model.fit(X, y)\n",
    "\n",
    "# Créer un explainer de type KernelExplainer\n",
    "explainer = shap.KernelExplainer(model.predict_proba, X)\n",
    "\n",
    "# Calculer les valeurs SHAP pour un individu spécifique\n",
    "ind = 0\n",
    "shap_values = explainer.shap_values(X[ind,:])\n",
    "\n",
    "# Afficher les résultats\n",
    "shap.initjs()\n",
    "shap.force_plot(explainer.expected_value[1], shap_values[1], X[ind,:])\n"
   ]
  },
  {
   "cell_type": "code",
   "execution_count": null,
   "id": "b39baf7f-6362-49b3-8889-1667fc9fbdf9",
   "metadata": {
    "executionInfo": {
     "elapsed": 81,
     "status": "aborted",
     "timestamp": 1679413603368,
     "user": {
      "displayName": "Hugues Hansen",
      "userId": "06507793026638313555"
     },
     "user_tz": -60
    },
    "id": "b39baf7f-6362-49b3-8889-1667fc9fbdf9"
   },
   "outputs": [],
   "source": [
    "import shap\n",
    "from sklearn.ensemble import RandomForestClassifier\n",
    "\n",
    "# Charger les données\n",
    "X,y = shap.datasets.iris()\n",
    "\n",
    "# Créer un modèle de forêt aléatoire\n",
    "model = RandomForestClassifier()\n",
    "\n",
    "# Entraîner le modèle sur les données\n",
    "model.fit(X, y)\n",
    "\n",
    "# Créer un explainer de type TreeExplainer\n",
    "explainer = shap.TreeExplainer(model)\n",
    "\n",
    "# Calculer les valeurs SHAP pour un individu spécifique\n",
    "ind = 0\n",
    "shap_values = explainer.shap_values(X[ind,:])\n",
    "\n",
    "# Afficher les résultats\n",
    "shap.initjs()\n",
    "shap.force_plot(explainer.expected_value[1], shap_values[1], X[ind,:])\n"
   ]
  },
  {
   "cell_type": "code",
   "execution_count": null,
   "id": "K9U0aof-YgHS",
   "metadata": {
    "executionInfo": {
     "elapsed": 82,
     "status": "aborted",
     "timestamp": 1679413603369,
     "user": {
      "displayName": "Hugues Hansen",
      "userId": "06507793026638313555"
     },
     "user_tz": -60
    },
    "id": "K9U0aof-YgHS"
   },
   "outputs": [],
   "source": [
    "# expliquez les prédictions du modèle avec SHAP\n",
    "\n",
    "#shap_values = shap.TrExplainer(model).shap_values(x_train)\n",
    "#classifier = transformers.pipeline('sentiment-analysis', return_all_scores=True)\n",
    "#classifier(short_data[:2])\n",
    "\n",
    "#model.predict_proba(X_train)[:0]\n",
    "\n",
    "\n",
    "\n",
    "\n",
    "shap_values = explainer(X_test)\n",
    "\n",
    "# approximate the interaction values\n",
    "approx_interactions = shap.approximate_interactions(model.predict, X_test, nsamples=100)\n",
    "\n",
    "# visualize the interaction values for the first test observation\n",
    "shap.interaction_plot(0, approx_interactions[0], X_test.iloc[0])\n",
    "\n",
    "\n",
    "# visualize the Shapley values for the first test observation\n",
    "# shap.waterfall_plot(explainer.expected_value[0], shap_values[0][0], X_test.iloc[0])\n",
    "\n",
    "\n",
    "\"\"\"\n",
    "explainer = shap.Explainer(model)\n",
    "shap_values = explainer(X_resampled)\n",
    "\n",
    "# visualisez les valeurs de Shapley pour la première observation de test\n",
    "shap.waterfall_plot(explainer.base_values[0], values[0], X[0])\n",
    "\n",
    "#shap.plots.waterfall(shap_values[0])\n",
    "shap.waterfall_plot(explainer.base_values[0], values[0][0], X[0])\n",
    "\"\"\""
   ]
  },
  {
   "cell_type": "code",
   "execution_count": null,
   "id": "BLkmti1SxAyC",
   "metadata": {
    "executionInfo": {
     "elapsed": 83,
     "status": "aborted",
     "timestamp": 1679413603370,
     "user": {
      "displayName": "Hugues Hansen",
      "userId": "06507793026638313555"
     },
     "user_tz": -60
    },
    "id": "BLkmti1SxAyC"
   },
   "outputs": [],
   "source": []
  },
  {
   "cell_type": "code",
   "execution_count": null,
   "id": "Z8Ps66XmxBRN",
   "metadata": {
    "executionInfo": {
     "elapsed": 83,
     "status": "aborted",
     "timestamp": 1679413603371,
     "user": {
      "displayName": "Hugues Hansen",
      "userId": "06507793026638313555"
     },
     "user_tz": -60
    },
    "id": "Z8Ps66XmxBRN"
   },
   "outputs": [],
   "source": []
  },
  {
   "cell_type": "code",
   "execution_count": null,
   "id": "qOhcPmFDN8iS",
   "metadata": {
    "executionInfo": {
     "elapsed": 83,
     "status": "aborted",
     "timestamp": 1679413603371,
     "user": {
      "displayName": "Hugues Hansen",
      "userId": "06507793026638313555"
     },
     "user_tz": -60
    },
    "id": "qOhcPmFDN8iS"
   },
   "outputs": [],
   "source": []
  },
  {
   "cell_type": "code",
   "execution_count": null,
   "id": "p84fK13aN94S",
   "metadata": {
    "executionInfo": {
     "elapsed": 84,
     "status": "aborted",
     "timestamp": 1679413603372,
     "user": {
      "displayName": "Hugues Hansen",
      "userId": "06507793026638313555"
     },
     "user_tz": -60
    },
    "id": "p84fK13aN94S"
   },
   "outputs": [],
   "source": [
    "\"\"\" reg = RandomForestRegressor(random_state=22,max_depth =7, min_samples_split= 3, min_samples_leaf=1,n_estimators=100)\n",
    "skf = StratifiedKFold(n_splits=5, shuffle=True,random_state=22 )\n",
    "for train_index, test_index in skf.split(X, buildingnr['log_SiteEnergyUse(kBtu)_class']):\n",
    "    x_train_fold, x_test_fold = X.iloc[train_index] , X.iloc[test_index]\n",
    "    y_train_fold, y_test_fold = y[train_index], y[test_index]\n",
    "    reg.fit(x_train_fold, y_train_fold)\n",
    "\n",
    "    import shap\n",
    "shap_values = shap.TreeExplainer(reg).shap_values(x_train_fold)\n",
    "shap.summary_plot(shap_values, x_train_fold, plot_type=\"bar\")\n",
    "\n",
    "explainer = shap.Explainer(reg.predict, x_test_fold)\n",
    "# Calculates the SHAP values - It takes some time\n",
    "shap_values = explainer(x_test_fold)\"\"\""
   ]
  },
  {
   "cell_type": "code",
   "execution_count": null,
   "id": "8843762e",
   "metadata": {
    "executionInfo": {
     "elapsed": 85,
     "status": "aborted",
     "timestamp": 1679413603373,
     "user": {
      "displayName": "Hugues Hansen",
      "userId": "06507793026638313555"
     },
     "user_tz": -60
    },
    "id": "8843762e"
   },
   "outputs": [],
   "source": [
    "def comp_algos(X,y,algos,params,cvi,scorer,sampling) : \n",
    "\n",
    "    \n",
    "    roc_aucs = []\n",
    "    confusions = []\n",
    "    Report_df = pd.DataFrame(columns=['Algorithme', 'score nom ','score']) \n",
    "    Append = []\n",
    "\n",
    "    X_train, X_test, y_train, y_test = train_test_split(X, y, test_size=0.2) #random_state ? \n",
    "    \n",
    "    # Apply oversampling\n",
    "    #ros = RandomOverSampler(random_state=42)\n",
    "    #X_resampled, y_resampled = sampling.fit_resample(X_train,y_train)\n",
    "    \n",
    "    for i in range(len(algos)): \n",
    "        \n",
    "        #faire boucle sur le sampling \n",
    "        for s in range(len(sampling)): \n",
    "            \n",
    "            # Apply sampling\n",
    "            \n",
    "            debut = time.time()\n",
    "            X_resampled, y_resampled = sampling[s].fit_resample(X_train,y_train)\n",
    "\n",
    "# Créer un objet GridSearchCV qui va comparer les performances des algorithmes sur les données en utilisant le score roc_auc comme critère d'évaluation \n",
    "            print (algos[i], params[i] )\n",
    "    \n",
    "          \n",
    "           \n",
    "            grid = GridSearchCV(estimator=algos[i], param_grid=params[i], scoring=scorer, cv=cvi, refit= True )\n",
    "          \n",
    "            grid.fit(X_resampled,y_resampled)\n",
    "            del X_resampled\n",
    "            del y_resampled\n",
    "\n",
    "# Afficher le meilleur score et le meilleur algorithme trouvé par GridSearchCV \n",
    "            print(\"Meilleur score:\", grid.best_score_)\n",
    "            print(\"Meilleur algorithme:\", grid.best_estimator_)\n",
    "            #print ( \"cv results ;\", grid.cv_results_ ) \n",
    "            print ( \"best_params_\",grid.best_params_)\n",
    "            print (\"best_index_\",grid.best_index_)\n",
    "            print (\"scorer_\",grid.scorer_)\n",
    "            print (\"n_splits_\",grid.n_splits_)\n",
    "            print (\"sampling method\",sampling[s])\n",
    "    \n",
    "            cv_result= pd.DataFrame(grid.cv_results_)\n",
    "            display ( cv_result )\n",
    "\n",
    "# Prédire les classes pour chaque algorithme \n",
    "            pred_y_train = grid.predict(X_train)\n",
    "            score = accuracy_score(y_train,pred_y_train)\n",
    "            print ('accuracy train',score)\n",
    "          \n",
    "            roc_auc_train = roc_auc_score(y_train, pred_y_train)\n",
    "            #print ( 'roc_auc_train',roc_auc_train)\n",
    "            print(f'roc_auc_train: {roc_auc_train:.1%}')\n",
    "\n",
    "            pred_y_train_proba=grid.predict_proba(X_train)[:,1]\n",
    "            roc_auc_discret_train = roc_auc_score(y_train, pred_y_train_proba)\n",
    "            print( \"Roc auc train predict proba\",roc_auc_discret_train)\n",
    "        \n",
    "            pred_y_test = grid.predict(X_test)\n",
    "            score = accuracy_score(y_test,pred_y_test)\n",
    "            print ('accuracy test',score)\n",
    "          \n",
    "            roc_auc_test = roc_auc_score(y_test, pred_y_test)\n",
    "            print ( 'roc_auc_ test ',roc_auc_test)\n",
    "\n",
    "            pred_y_test_proba=grid.predict_proba(X_test)[:,1]\n",
    "            roc_auc_discret_test= roc_auc_score(y_test, pred_y_test_proba)\n",
    "            print( \"Roc auc score test predict proba\",roc_auc_discret_test)\n",
    "\n",
    "# Calculer la matrice de confusion pour chaque algorithme\n",
    "\n",
    "            matrice_confusion = confusion_matrix(y_true=y_train,y_pred=pred_y_train)\n",
    "            tn, fp, fn, tp = confusion_matrix(y_true=y_train,y_pred=pred_y_train, normalize='all').ravel()\n",
    "\n",
    "# Change figure size and increase dpi for better resolution\n",
    "            plt.figure(figsize=(2,1), dpi=100)\n",
    "# Scale up the size of all text\n",
    "            sns.set(font_scale = 1)\n",
    "\n",
    "# Plot Confusion Matrix using Seaborn heatmap()\n",
    "# Parameters:\n",
    "# first param - confusion matrix in array format   \n",
    "# annot = True: show the numbers in each heatmap cell\n",
    "# fmt = 'd': show numbers as integers. \n",
    "            ax = sns.heatmap(matrice_confusion, annot=True, fmt='d', )\n",
    "\n",
    "# set x-axis label and ticks. \n",
    "            ax.set_xlabel(\"Prédiction \", fontsize=14, labelpad=20)\n",
    "            ax.xaxis.set_ticklabels(['Accepté', 'Refus'])\n",
    "\n",
    "# set y-axis label and ticks\n",
    "            ax.set_ylabel(\"réel \", fontsize=14, labelpad=20)\n",
    "            ax.yaxis.set_ticklabels(['Accepté', 'Refus'])\n",
    "\n",
    "# set plot title\n",
    "            titre = str(algos[i])\n",
    "            ax.set_title(titre, fontsize=14, pad=20)\n",
    "            plt.show()    \n",
    "     \n",
    "    \n",
    "#graphique\n",
    "\n",
    "            roc_auc_courbe = roc_auc_score(y_train, pred_y_train_proba)\n",
    "            print ('roc auc courbe',roc_auc_courbe)\n",
    "            fpr,tpr,_= roc_curve(y_train,pred_y_train_proba)\n",
    "    \n",
    "            plt.plot(fpr,tpr,label ='score (auc roc = %0.2f)' % roc_auc_courbe)\n",
    "            plt.plot([0,1],[0,1],'k--',label =\"random\")\n",
    "            plt.xlabel('Taux faux positifs')\n",
    "            plt.ylabel('Taux vrais positifs')\n",
    "            plt.title('ROC curve '+titre)\n",
    "            plt.legend(loc = 'lower right')\n",
    "            plt.show()\n",
    "            \n",
    "           \n",
    "            \n",
    "            # Créer un dataframe pandas qui contient les résultats de chaque algorithme\n",
    "            print(' score ', scorer,':' ,grid.best_score_)\n",
    "            duration = (time.time() - debut )/60\n",
    "            print (duration ,'minutes')\n",
    "            Append = pd.DataFrame([[ algos[i],grid.best_params_,scorer ,grid.best_score_,sampling[s],roc_auc_train,roc_auc_discret_train\n",
    "                                    ,roc_auc_test,roc_auc_discret_test,tn,fp,fn,tp,duration]]\n",
    "                                  ,columns=['Algorithme','Meilleur param', 'score nom ','best score','sampling','roc_auc_train'\n",
    "                                            ,'Roc_auc_train_discret','roc_auc_test','roc_auc_discret_test','TN','FP','FN','TP','minutes'])\n",
    "            Report_df = pd.concat([Report_df, Append]) \n",
    "            \n",
    "    return Report_df"
   ]
  },
  {
   "cell_type": "code",
   "execution_count": null,
   "id": "d7158637-7987-4233-a781-d46082817d2e",
   "metadata": {
    "executionInfo": {
     "elapsed": 84,
     "status": "aborted",
     "timestamp": 1679413603373,
     "user": {
      "displayName": "Hugues Hansen",
      "userId": "06507793026638313555"
     },
     "user_tz": -60
    },
    "id": "d7158637-7987-4233-a781-d46082817d2e",
    "tags": []
   },
   "outputs": [],
   "source": [
    "def nosamplerfunc(X, y):\n",
    "    return X[:], y[:]\n",
    "nosampler = FunctionSampler(func=nosamplerfunc)"
   ]
  },
  {
   "cell_type": "markdown",
   "id": "f4fe30d8-2c65-400e-a482-003a5329e7ac",
   "metadata": {
    "id": "f4fe30d8-2c65-400e-a482-003a5329e7ac",
    "tags": []
   },
   "source": [
    "# test de base , scorer roc auc"
   ]
  },
  {
   "cell_type": "code",
   "execution_count": null,
   "id": "34b24a0a-15bd-497b-9f42-ee5518e27300",
   "metadata": {
    "executionInfo": {
     "elapsed": 85,
     "status": "aborted",
     "timestamp": 1679413603374,
     "user": {
      "displayName": "Hugues Hansen",
      "userId": "06507793026638313555"
     },
     "user_tz": -60
    },
    "id": "34b24a0a-15bd-497b-9f42-ee5518e27300",
    "tags": []
   },
   "outputs": [],
   "source": [
    "algos = [ LogisticRegression(random_state=22),DecisionTreeClassifier(random_state=22), RandomForestClassifier(random_state=22), \n",
    "         XGBClassifier(random_state=22), GaussianNB(),DummyClassifier()]\n",
    "\n",
    "# Définir une grille de paramètres à optimiser pour chaque algorithme\n",
    "params = [\n",
    "    \n",
    "    {\"C\": [0.01, 0.1, 1, 10], \"penalty\": [\"l1\", \"l2\", \"elasticnet\", 'none']}, # pour LogisticRegression \n",
    "    {\"max_depth\": [3, 5, 7], \"min_samples_leaf\": [5, 10, 15]}, # pour DecisionTreeClassifier\n",
    "    {\"n_estimators\": [100, 200], \"max_depth\": [3, 5]}, # pour RandomForestClassifier \n",
    "    {\"n_estimators\": [100, 200], \"learning_rate\": [0.01, 0.1]}, # pour XGBClassifier \n",
    "    {} ,# pas de paramètres à optimiser pour GaussianNB \n",
    "    {\"strategy\": [\"most_frequent\",\"prior\",\"stratified\",\"uniform\"]}, # pour DummyClassifier\n",
    "] \n",
    "\n",
    "\"\"\"\n",
    "algos = [ DecisionTreeClassifier(random_state=22)]\n",
    "params = [ {\"max_depth\": [2], \"min_samples_leaf\": [3]}] # pour DecisionTreeClassifier\n",
    "\"\"\"\n",
    "\n",
    "cvi =2\n",
    "scorer = \"roc_auc\" \n",
    "\n",
    "\n",
    "sampling = [nosampler, RandomOverSampler(random_state=22),RandomUnderSampler(random_state=22),SMOTETomek(random_state=22)]\n",
    "\n",
    "\n",
    "\n",
    "#X_train, X_test, y_train, y_test = train_test_split(X, y, test_size=0.2)\n",
    "result_auc= comp_algos(X,y,algos,params,cvi,scorer,sampling)\n",
    "\n",
    "result_auc.to_excel(\"resultat_auc_200323.xlsx\")\n"
   ]
  },
  {
   "cell_type": "code",
   "execution_count": null,
   "id": "4d0dde0c-9b45-464e-8f65-d3567ac9c895",
   "metadata": {
    "executionInfo": {
     "elapsed": 84,
     "status": "aborted",
     "timestamp": 1679413603375,
     "user": {
      "displayName": "Hugues Hansen",
      "userId": "06507793026638313555"
     },
     "user_tz": -60
    },
    "id": "4d0dde0c-9b45-464e-8f65-d3567ac9c895"
   },
   "outputs": [],
   "source": [
    "\n",
    "formatted_time = time.strftime(\"%Y-%m-%d %H:%M:%S\", time.localtime(time.time()))\n",
    "nom_excel='result_auc_'+ formatted_time +'.xlsx'\n",
    "result_auc.to_excel(nom_excel)"
   ]
  },
  {
   "cell_type": "markdown",
   "id": "b87283b0-5da7-4b58-af28-890cbc154bc4",
   "metadata": {
    "id": "b87283b0-5da7-4b58-af28-890cbc154bc4"
   },
   "source": [
    "# test avec scorer métier "
   ]
  },
  {
   "cell_type": "code",
   "execution_count": null,
   "id": "ba621a39-bfde-46c3-ac51-59d1ff98680c",
   "metadata": {
    "executionInfo": {
     "elapsed": 83,
     "status": "aborted",
     "timestamp": 1679413603375,
     "user": {
      "displayName": "Hugues Hansen",
      "userId": "06507793026638313555"
     },
     "user_tz": -60
    },
    "id": "ba621a39-bfde-46c3-ac51-59d1ff98680c"
   },
   "outputs": [],
   "source": [
    "\"\"\" algos = [ LogisticRegression(random_state=22),DecisionTreeClassifier(random_state=22), RandomForestClassifier(random_state=22), \n",
    "         XGBClassifier(random_state=22), GaussianNB(),DummyClassifier()]\n",
    "\n",
    "# Définir une grille de paramètres à optimiser pour chaque algorithme\n",
    "params = [\n",
    "    \n",
    "    {\"C\": [0.01, 0.1, 1, 10], \"penalty\": [\"l1\", \"l2\", \"elasticnet\", None]}, # pour LogisticRegression ‘l1’, ‘l2’, ‘elasticnet’, None\n",
    "    {\"max_depth\": [3, 5, 7], \"min_samples_leaf\": [5, 10, 15]}, # pour DecisionTreeClassifier\n",
    "    {\"n_estimators\": [100, 200], \"max_depth\": [3, 5]}, # pour RandomForestClassifier \n",
    "    {\"n_estimators\": [100, 200], \"learning_rate\": [0.01, 0.1]}, # pour XGBClassifier \n",
    "    {} ,# pas de paramètres à optimiser pour GaussianNB \n",
    "    {\"strategy\": [\"most_frequent\",\"prior\",\"stratified\",\"uniform\"]}, # pour DummyClassifier\n",
    "]\n",
    "\"\"\"\n",
    "cvi =2\n",
    "\n",
    "algos = [ DecisionTreeClassifier(random_state=22)]\n",
    "params = [ {\"max_depth\": [2,3], \"min_samples_leaf\": [2,5]}] # pour DecisionTreeClassifier\n",
    "\n",
    "def custom_score_func(y_true, y_pred):\n",
    "    tn, fp, fn, tp = confusion_matrix(y_true, y_pred).ravel()\n",
    "    score = tp + tn - fp -( 10 * fn)\n",
    "    #score 2 = tp + (10 * tn )- fp -(10 * fn)\n",
    "    return score\n",
    "\n",
    "# Création du scorer personnalisé\n",
    "score_metier= make_scorer(custom_score_func)\n",
    "\n",
    "scorer = score_metier\n",
    "\n",
    "sampling = [nosampler, RandomOverSampler(random_state=22),RandomUnderSampler(random_state=22),SMOTETomek(random_state=22)]\n",
    "\n",
    "\n",
    "\n",
    "result_metier= comp_algos(X,y,algos,params,cvi,scorer,sampling)\n",
    "result_metier"
   ]
  },
  {
   "cell_type": "code",
   "execution_count": null,
   "id": "b23409f3-aa97-4687-9c60-b0a3cacddc7c",
   "metadata": {
    "executionInfo": {
     "elapsed": 84,
     "status": "aborted",
     "timestamp": 1679413603376,
     "user": {
      "displayName": "Hugues Hansen",
      "userId": "06507793026638313555"
     },
     "user_tz": -60
    },
    "id": "b23409f3-aa97-4687-9c60-b0a3cacddc7c",
    "tags": []
   },
   "outputs": [],
   "source": [
    "result_metier.to_excel(\"result_metier_190323.xlsx\")"
   ]
  },
  {
   "cell_type": "raw",
   "id": "aeee7d46-dac1-43e1-8dac-a094e1b0e9e9",
   "metadata": {
    "id": "aeee7d46-dac1-43e1-8dac-a094e1b0e9e9"
   },
   "source": [
    "formatted_time = time.strftime(\"%Y-%m-%d_%H:%M:%S\", time.localtime(time.time()))\n",
    "nom_excel='result_metier_'+ formatted_time +'.xlsx'\n",
    "result_metier.to_excel(nom_excel)"
   ]
  },
  {
   "cell_type": "markdown",
   "id": "8da4bc85-2f1a-4dcd-a06f-0802c4b38c0c",
   "metadata": {
    "id": "8da4bc85-2f1a-4dcd-a06f-0802c4b38c0c"
   },
   "source": [
    "# Shap feature importante"
   ]
  },
  {
   "cell_type": "code",
   "execution_count": null,
   "id": "c718c341-9428-46a9-b104-ceb0275c2f6a",
   "metadata": {
    "executionInfo": {
     "elapsed": 84,
     "status": "aborted",
     "timestamp": 1679413603376,
     "user": {
      "displayName": "Hugues Hansen",
      "userId": "06507793026638313555"
     },
     "user_tz": -60
    },
    "id": "c718c341-9428-46a9-b104-ceb0275c2f6a"
   },
   "outputs": [],
   "source": [
    "import shap"
   ]
  },
  {
   "cell_type": "code",
   "execution_count": null,
   "id": "5aa648df-8076-4153-9944-863a45346d07",
   "metadata": {
    "executionInfo": {
     "elapsed": 85,
     "status": "aborted",
     "timestamp": 1679413603377,
     "user": {
      "displayName": "Hugues Hansen",
      "userId": "06507793026638313555"
     },
     "user_tz": -60
    },
    "id": "5aa648df-8076-4153-9944-863a45346d07"
   },
   "outputs": [],
   "source": [
    "reg = RandomForestRegressor(random_state=22,max_depth =7, min_samples_split= 3, min_samples_leaf=1,n_estimators=100)\n",
    "skf = StratifiedKFold(n_splits=5, shuffle=True,random_state=22 )\n",
    "for train_index, test_index in skf.split(X, buildingnr['log_SiteEnergyUse(kBtu)_class']):\n",
    "    x_train_fold, x_test_fold = X.iloc[train_index] , X.iloc[test_index]\n",
    "    y_train_fold, y_test_fold = y[train_index], y[test_index]\n",
    "    reg.fit(x_train_fold, y_train_fold)\n",
    "\n",
    "    import shap\n",
    "shap_values = shap.TreeExplainer(reg).shap_values(x_train_fold)\n",
    "shap.summary_plot(shap_values, x_train_fold, plot_type=\"bar\")\n",
    "\n",
    "explainer = shap.Explainer(reg.predict, x_test_fold)\n",
    "# Calculates the SHAP values - It takes some time\n",
    "shap_values = explainer(x_test_fold)"
   ]
  },
  {
   "cell_type": "code",
   "execution_count": null,
   "id": "98660b78-e9e6-4673-8e16-3bba6e012644",
   "metadata": {
    "executionInfo": {
     "elapsed": 85,
     "status": "aborted",
     "timestamp": 1679413603377,
     "user": {
      "displayName": "Hugues Hansen",
      "userId": "06507793026638313555"
     },
     "user_tz": -60
    },
    "id": "98660b78-e9e6-4673-8e16-3bba6e012644"
   },
   "outputs": [],
   "source": [
    "X_train, X_test, y_train, y_test = train_test_split(X, y, test_size=0.2)\n",
    "X_resampled, y_resampled = RandomUnderSampler(random_state=22).fit_resample(X_train,y_train)\n",
    "# entraînez votre modèle\n",
    "#model = xgboost.train({\"learning_rate\": 0.01}, xgboost.DMatrix(X_train, label=y_train), 100)\n",
    "#model = DecisionTreeClassifier(random_state=22, max_depth = 3, min_samples_leaf = 2)\n",
    "model = RandomForestClassifier(n_estimators=100, random_state=0)\n",
    "model.fit(X_resampled,y_resampled)\n",
    "\n",
    "\n",
    "# expliquez les prédictions du modèle avec SHAP\n",
    "\n",
    "#shap_values = shap.TrExplainer(model).shap_values(x_train)\n",
    "#classifier = transformers.pipeline('sentiment-analysis', return_all_scores=True)\n",
    "#classifier(short_data[:2])\n",
    "model.predict_proba(X_train)[:0]\n",
    "\n",
    "explainer = shap.Explainer(model)\n",
    "shap_values = explainer(X_resampled)\n",
    "\n",
    "# visualisez les valeurs de Shapley pour la première observation de test\n",
    "shap.waterfall_plot(explainer.base_values[0], values[0], X[0])\n",
    "\n",
    "#shap.plots.waterfall(shap_values[0])\n",
    "shap.waterfall_plot(explainer.base_values[0], values[0][0], X[0])"
   ]
  },
  {
   "cell_type": "markdown",
   "id": "7ba97234-0d8c-4ca8-acb3-eda183220bd9",
   "metadata": {
    "id": "7ba97234-0d8c-4ca8-acb3-eda183220bd9",
    "jp-MarkdownHeadingCollapsed": true,
    "tags": []
   },
   "source": [
    "# unbalanced  oversampling score roc auc "
   ]
  },
  {
   "cell_type": "code",
   "execution_count": null,
   "id": "579b7c93-dcc4-4c4f-9949-5c9de82c4b50",
   "metadata": {
    "executionInfo": {
     "elapsed": 86,
     "status": "aborted",
     "timestamp": 1679413603378,
     "user": {
      "displayName": "Hugues Hansen",
      "userId": "06507793026638313555"
     },
     "user_tz": -60
    },
    "id": "579b7c93-dcc4-4c4f-9949-5c9de82c4b50"
   },
   "outputs": [],
   "source": [
    "algos = [ LogisticRegression(random_state=22),DecisionTreeClassifier(random_state=22), RandomForestClassifier(random_state=22), XGBClassifier(random_state=22), GaussianNB(),DummyClassifier()]\n",
    "\n",
    "# Définir une grille de paramètres à optimiser pour chaque algorithme\n",
    "params = [\n",
    "    \n",
    "    {\"C\": [0.01, 0.1, 1, 10], \"penalty\": [\"l1\", \"l2\", \"elasticnet\", None]}, # pour LogisticRegression ‘l1’, ‘l2’, ‘elasticnet’, None\n",
    "    {\"max_depth\": [3, 5, 7], \"min_samples_leaf\": [5, 10, 15]}, # pour DecisionTreeClassifier\n",
    "    {\"n_estimators\": [100, 200], \"max_depth\": [3, 5]}, # pour RandomForestClassifier \n",
    "    {\"n_estimators\": [100, 200], \"learning_rate\": [0.01, 0.1]}, # pour XGBClassifier \n",
    "    {} ,# pas de paramètres à optimiser pour GaussianNB \n",
    "    {\"strategy\": [\"most_frequent\",\"prior\",\"stratified\",\"uniform\"]}, # pour DummyClassifier\n",
    "]\n",
    "\n",
    "cvi =2\n",
    "scorer = \"roc_auc\"\n",
    "\n",
    "X_train, X_test, y_train, y_test = train_test_split(X, y, test_size=0.2)\n",
    "\n",
    "# Apply oversampling\n",
    "ros = RandomOverSampler(random_state=0)\n",
    "X_resampled, y_resampled = ros.fit_resample(X_train,y_train)\n",
    "\n",
    "\n",
    "comp_algos(X_resampled,y_resampled,X_test,y_test,algos,params,cvi,scorer)\n"
   ]
  },
  {
   "cell_type": "markdown",
   "id": "4MYFT_oTcB0B",
   "metadata": {
    "id": "4MYFT_oTcB0B"
   },
   "source": [
    "# Nouvelle section"
   ]
  },
  {
   "cell_type": "markdown",
   "id": "rOwwVwA4cCaB",
   "metadata": {
    "id": "rOwwVwA4cCaB"
   },
   "source": [
    "# Nouvelle section"
   ]
  },
  {
   "cell_type": "markdown",
   "id": "3020c2e0-e45e-4117-8474-d3a67de92c56",
   "metadata": {
    "id": "3020c2e0-e45e-4117-8474-d3a67de92c56"
   },
   "source": [
    "# unbalanced  oversampling score métier 1 "
   ]
  },
  {
   "cell_type": "code",
   "execution_count": null,
   "id": "c2e6f795-5aa2-40a1-ae90-38aa95808843",
   "metadata": {
    "executionInfo": {
     "elapsed": 86,
     "status": "aborted",
     "timestamp": 1679413603379,
     "user": {
      "displayName": "Hugues Hansen",
      "userId": "06507793026638313555"
     },
     "user_tz": -60
    },
    "id": "c2e6f795-5aa2-40a1-ae90-38aa95808843"
   },
   "outputs": [],
   "source": [
    "algos = [ LogisticRegression(random_state=22),DecisionTreeClassifier(random_state=22), RandomForestClassifier(random_state=22), XGBClassifier(random_state=22), GaussianNB(),DummyClassifier()]\n",
    "\n",
    "# Définir une grille de paramètres à optimiser pour chaque algorithme\n",
    "params = [\n",
    "    \n",
    "    {\"C\": [0.01, 0.1, 1, 10], \"penalty\": [\"l1\", \"l2\", \"elasticnet\", None]}, # pour LogisticRegression ‘l1’, ‘l2’, ‘elasticnet’, None\n",
    "    {\"max_depth\": [3, 5, 7], \"min_samples_leaf\": [5, 10, 15]}, # pour DecisionTreeClassifier\n",
    "    {\"n_estimators\": [100, 200], \"max_depth\": [3, 5]}, # pour RandomForestClassifier \n",
    "    {\"n_estimators\": [100, 200], \"learning_rate\": [0.01, 0.1]}, # pour XGBClassifier \n",
    "    {} ,# pas de paramètres à optimiser pour GaussianNB \n",
    "    {\"strategy\": [\"most_frequent\",\"prior\",\"stratified\",\"uniform\"]}, # pour DummyClassifier\n",
    "]\n",
    "\n",
    "cvi =2\n",
    "\n",
    "def custom_score_func(y_true, y_pred):\n",
    "    tn, fp, fn, tp = confusion_matrix(y_true, y_pred).ravel()\n",
    "    score = tp + tn - fp -( 10 * fn)\n",
    "    #score 2 tp + (10 * tn )- fp -(10 * fn)\n",
    "    return score\n",
    "\n",
    "# Création du scorer personnalisé\n",
    "scorer = make_scorer(custom_score_func)\n",
    "\n",
    "X_train, X_test, y_train, y_test = train_test_split(X, y, test_size=0.2)\n",
    "\n",
    "# Apply oversampling\n",
    "ros = RandomOverSampler(random_state=0)\n",
    "X_resampled, y_resampled = ros.fit_resample(X_train,y_train)\n",
    "\n",
    "\n",
    "#comp_algos(X_resampled,y_resampled,X_test,y_test,algos,params,cvi,scorer)\n",
    "comp_algos(X,y,algos,params,cvi,scorer,sampling)"
   ]
  },
  {
   "cell_type": "markdown",
   "id": "8e1686bc-7e34-45aa-954f-c8f396ba1095",
   "metadata": {
    "id": "8e1686bc-7e34-45aa-954f-c8f396ba1095"
   },
   "source": [
    "# undersampling  roc auc"
   ]
  },
  {
   "cell_type": "code",
   "execution_count": null,
   "id": "56ff538f-6d2c-4ee1-b4b5-6e39ba985196",
   "metadata": {
    "executionInfo": {
     "elapsed": 86,
     "status": "aborted",
     "timestamp": 1679413603379,
     "user": {
      "displayName": "Hugues Hansen",
      "userId": "06507793026638313555"
     },
     "user_tz": -60
    },
    "id": "56ff538f-6d2c-4ee1-b4b5-6e39ba985196"
   },
   "outputs": [],
   "source": [
    "algos = [ LogisticRegression(random_state=22),DecisionTreeClassifier(random_state=22), RandomForestClassifier(random_state=22), XGBClassifier(random_state=22), GaussianNB(),DummyClassifier()]\n",
    "\n",
    "# Définir une grille de paramètres à optimiser pour chaque algorithme\n",
    "params = [\n",
    "    \n",
    "    {\"C\": [0.01, 0.1, 1, 10], \"penalty\": [\"l1\", \"l2\", \"elasticnet\", None]}, # pour LogisticRegression ‘l1’, ‘l2’, ‘elasticnet’, None\n",
    "    {\"max_depth\": [3, 5, 7], \"min_samples_leaf\": [5, 10, 15]}, # pour DecisionTreeClassifier\n",
    "    {\"n_estimators\": [100, 200], \"max_depth\": [3, 5]}, # pour RandomForestClassifier \n",
    "    {\"n_estimators\": [100, 200], \"learning_rate\": [0.01, 0.1]}, # pour XGBClassifier \n",
    "    {} ,# pas de paramètres à optimiser pour GaussianNB \n",
    "    {\"strategy\": [\"most_frequent\",\"prior\",\"stratified\",\"uniform\"]}, # pour DummyClassifier\n",
    "]\n",
    "\n",
    "cvi =2\n",
    "scorer = \"roc_auc\"\n",
    "\n",
    "X_train, X_test, y_train, y_test = train_test_split(X, y, test_size=0.2)\n",
    "\n",
    "# Apply undersampling\n",
    "rus = RandomUnderSampler(random_state=22)\n",
    "X_resampled, y_resampled = rus.fit_resample(X_train,y_train)\n",
    "\n",
    "\n",
    "comp_algos(X_resampled,y_resampled,X_test,y_test,algos,params,cvi,scorer)"
   ]
  },
  {
   "cell_type": "markdown",
   "id": "00786e2e-3099-4873-a011-56aee4002800",
   "metadata": {
    "id": "00786e2e-3099-4873-a011-56aee4002800"
   },
   "source": [
    "# undersampling score metier 1"
   ]
  },
  {
   "cell_type": "code",
   "execution_count": null,
   "id": "5cef0891-91a3-42f3-b00e-230805c47828",
   "metadata": {
    "executionInfo": {
     "elapsed": 86,
     "status": "aborted",
     "timestamp": 1679413603379,
     "user": {
      "displayName": "Hugues Hansen",
      "userId": "06507793026638313555"
     },
     "user_tz": -60
    },
    "id": "5cef0891-91a3-42f3-b00e-230805c47828"
   },
   "outputs": [],
   "source": [
    "algos = [ LogisticRegression(random_state=22),DecisionTreeClassifier(random_state=22), RandomForestClassifier(random_state=22), XGBClassifier(random_state=22), GaussianNB(),DummyClassifier()]\n",
    "\n",
    "# Définir une grille de paramètres à optimiser pour chaque algorithme\n",
    "params = [\n",
    "    \n",
    "    {\"C\": [0.01, 0.1, 1, 10], \"penalty\": [\"l1\", \"l2\", \"elasticnet\", None]}, # pour LogisticRegression ‘l1’, ‘l2’, ‘elasticnet’, None\n",
    "    {\"max_depth\": [3, 5, 7], \"min_samples_leaf\": [5, 10, 15]}, # pour DecisionTreeClassifier\n",
    "    {\"n_estimators\": [100, 200], \"max_depth\": [3, 5]}, # pour RandomForestClassifier \n",
    "    {\"n_estimators\": [100, 200], \"learning_rate\": [0.01, 0.1]}, # pour XGBClassifier \n",
    "    {} ,# pas de paramètres à optimiser pour GaussianNB \n",
    "    {\"strategy\": [\"most_frequent\",\"prior\",\"stratified\",\"uniform\"]}, # pour DummyClassifier\n",
    "]\n",
    "\n",
    "cvi =2\n",
    "\n",
    "def custom_score_func(y_true, y_pred):\n",
    "    tn, fp, fn, tp = confusion_matrix(y_true, y_pred).ravel()\n",
    "    score = tp + tn - fp -( 10 * fn)\n",
    "    #score 2 tp + (10 * tn )- fp -(10 * fn)\n",
    "    return score\n",
    "\n",
    "# Création du scorer personnalisé\n",
    "scorer = make_scorer(custom_score_func)\n",
    "\n",
    "X_train, X_test, y_train, y_test = train_test_split(X, y, test_size=0.2)\n",
    "\n",
    "# Apply undersampling\n",
    "rus = RandomUnderSampler(random_state=0)\n",
    "X_resampled, y_resampled = rus.fit_resample(X_train,y_train)\n",
    "\n",
    "\n",
    "comp_algos(X_resampled,y_resampled,X_test,y_test,algos,params,cvi,scorer)"
   ]
  },
  {
   "cell_type": "markdown",
   "id": "54c718cd-fb69-4cc9-b0a6-f19a78320fae",
   "metadata": {
    "id": "54c718cd-fb69-4cc9-b0a6-f19a78320fae"
   },
   "source": [
    "# Unbalanced SMOTE roc auc"
   ]
  },
  {
   "cell_type": "code",
   "execution_count": null,
   "id": "302bb835-3868-4ec9-8165-689997bd54d0",
   "metadata": {
    "executionInfo": {
     "elapsed": 87,
     "status": "aborted",
     "timestamp": 1679413603380,
     "user": {
      "displayName": "Hugues Hansen",
      "userId": "06507793026638313555"
     },
     "user_tz": -60
    },
    "id": "302bb835-3868-4ec9-8165-689997bd54d0"
   },
   "outputs": [],
   "source": [
    "algos = [ LogisticRegression(random_state=22),DecisionTreeClassifier(random_state=22), RandomForestClassifier(random_state=22), XGBClassifier(random_state=22), GaussianNB(),DummyClassifier()]\n",
    "\n",
    "# Définir une grille de paramètres à optimiser pour chaque algorithme\n",
    "params = [\n",
    "    \n",
    "    {\"C\": [0.01, 0.1, 1, 10], \"penalty\": [\"l1\", \"l2\", \"elasticnet\", None]}, # pour LogisticRegression ‘l1’, ‘l2’, ‘elasticnet’, None\n",
    "    {\"max_depth\": [3, 5, 7], \"min_samples_leaf\": [5, 10, 15]}, # pour DecisionTreeClassifier\n",
    "    {\"n_estimators\": [100, 200], \"max_depth\": [3, 5]}, # pour RandomForestClassifier \n",
    "    {\"n_estimators\": [100, 200], \"learning_rate\": [0.01, 0.1]}, # pour XGBClassifier \n",
    "    {} ,# pas de paramètres à optimiser pour GaussianNB \n",
    "    {\"strategy\": [\"most_frequent\",\"prior\",\"stratified\",\"uniform\"]}, # pour DummyClassifier\n",
    "]\n",
    "\n",
    "cvi =2\n",
    "scorer = \"roc_auc\"\n",
    "\n",
    "X_train, X_test, y_train, y_test = train_test_split(X, y, test_size=0.2)\n",
    "\n",
    "# Apply SMOTE\n",
    "smote = SMOTETomek(random_state=0)\n",
    "X_resampled, y_resampled = smote.fit_resample(X_train,y_train)\n",
    "\n",
    "comp_algos(X_resampled,y_resampled,X_test,y_test,algos,params,cvi,scorer)"
   ]
  },
  {
   "cell_type": "code",
   "execution_count": null,
   "id": "nuavIJmpBiU0",
   "metadata": {
    "executionInfo": {
     "elapsed": 87,
     "status": "aborted",
     "timestamp": 1679413603380,
     "user": {
      "displayName": "Hugues Hansen",
      "userId": "06507793026638313555"
     },
     "user_tz": -60
    },
    "id": "nuavIJmpBiU0"
   },
   "outputs": [],
   "source": [
    "from google.colab import drive\n",
    "drive.mount('/content/drive')"
   ]
  },
  {
   "cell_type": "markdown",
   "id": "c9cfd134-4a4b-477a-8edd-44be0e35efb3",
   "metadata": {
    "id": "c9cfd134-4a4b-477a-8edd-44be0e35efb3"
   },
   "source": [
    "# Unbalanced SMOTE métier 1"
   ]
  },
  {
   "cell_type": "code",
   "execution_count": null,
   "id": "0b5e6c82-1e18-4cea-97ea-e5989ad29c2b",
   "metadata": {
    "executionInfo": {
     "elapsed": 86,
     "status": "aborted",
     "timestamp": 1679413603380,
     "user": {
      "displayName": "Hugues Hansen",
      "userId": "06507793026638313555"
     },
     "user_tz": -60
    },
    "id": "0b5e6c82-1e18-4cea-97ea-e5989ad29c2b"
   },
   "outputs": [],
   "source": [
    "algos = [ LogisticRegression(random_state=22),DecisionTreeClassifier(random_state=22), RandomForestClassifier(random_state=22), XGBClassifier(random_state=22), GaussianNB(),DummyClassifier()]\n",
    "\n",
    "# Définir une grille de paramètres à optimiser pour chaque algorithme\n",
    "params = [\n",
    "    \n",
    "    {\"C\": [0.01, 0.1, 1, 10], \"penalty\": [\"l1\", \"l2\", \"elasticnet\", None]}, # pour LogisticRegression ‘l1’, ‘l2’, ‘elasticnet’, None\n",
    "    {\"max_depth\": [3, 5, 7], \"min_samples_leaf\": [5, 10, 15]}, # pour DecisionTreeClassifier\n",
    "    {\"n_estimators\": [100, 200], \"max_depth\": [3, 5]}, # pour RandomForestClassifier \n",
    "    {\"n_estimators\": [100, 200], \"learning_rate\": [0.01, 0.1]}, # pour XGBClassifier \n",
    "    {} ,# pas de paramètres à optimiser pour GaussianNB \n",
    "    {\"strategy\": [\"most_frequent\",\"prior\",\"stratified\",\"uniform\"]}, # pour DummyClassifier\n",
    "]\n",
    "\n",
    "cvi =2\n",
    "\n",
    "def custom_score_func(y_true, y_pred):\n",
    "    tn, fp, fn, tp = confusion_matrix(y_true, y_pred).ravel()\n",
    "    score = tp + tn - fp -( 10 * fn)\n",
    "    #score 2 tp + (10 * tn )- fp -(10 * fn)\n",
    "    return score\n",
    "\n",
    "# Création du scorer personnalisé\n",
    "scorer = make_scorer(custom_score_func)\n",
    "\n",
    "\n",
    "X_train, X_test, y_train, y_test = train_test_split(X, y, test_size=0.2)\n",
    "\n",
    "# Apply SMOTE\n",
    "smote = SMOTETomek(random_state=0)\n",
    "X_resampled, y_resampled = smote.fit_resample(X_train,y_train)\n",
    "\n",
    "comp_algos(X_resampled,y_resampled,X_test,y_test,algos,params,cvi,scorer)"
   ]
  },
  {
   "cell_type": "markdown",
   "id": "f01f8c67-dd40-40fc-b9ca-9da1c16fe16f",
   "metadata": {
    "id": "f01f8c67-dd40-40fc-b9ca-9da1c16fe16f"
   },
   "source": [
    "# individuel"
   ]
  },
  {
   "cell_type": "code",
   "execution_count": null,
   "id": "5eed5ddc",
   "metadata": {
    "executionInfo": {
     "elapsed": 87,
     "status": "aborted",
     "timestamp": 1679413603381,
     "user": {
      "displayName": "Hugues Hansen",
      "userId": "06507793026638313555"
     },
     "user_tz": -60
    },
    "id": "5eed5ddc"
   },
   "outputs": [],
   "source": [
    "#LogisticRegression() {'C': 1, 'penalty': 'l2'} \n",
    "grid = GridSearchCV(estimator=algos[i], param_grid=params[i], scoring=\"roc_auc\", cv=3, refit= True )"
   ]
  },
  {
   "cell_type": "code",
   "execution_count": null,
   "id": "28a51e6a-2856-4e9e-bd86-642e0a5b73ae",
   "metadata": {
    "executionInfo": {
     "elapsed": 87,
     "status": "aborted",
     "timestamp": 1679413603381,
     "user": {
      "displayName": "Hugues Hansen",
      "userId": "06507793026638313555"
     },
     "user_tz": -60
    },
    "id": "28a51e6a-2856-4e9e-bd86-642e0a5b73ae"
   },
   "outputs": [],
   "source": [
    "\n",
    "nsplit = 3\n",
    "    \n",
    "    \n",
    "debut = time.time()\n",
    "\n",
    "\n",
    "\n",
    "estimator = DecisionTreeClassifier(max_depth=7, min_samples_leaf=15)\n",
    "\n",
    "numeric_transformer = Pipeline(steps=[('scaler', StandardScaler())])  \n",
    "\n",
    "clf = Pipeline(steps=[ #('preprocessor', numeric_transformer),\n",
    "                      ('estimator', estimator) ])\n",
    "\n",
    "\n",
    "skf = StratifiedKFold(n_splits=nsplit, shuffle=True,random_state=22 ) \n",
    "\n",
    "\n",
    "for train_index, test_index in skf.split(X, y):\n",
    "    x_train, x_test = X.iloc[train_index] , X.iloc[test_index]\n",
    "    y_train, y_test = y[train_index], y[test_index]\n",
    "    clf.fit(x_train, y_train) \n",
    "\n",
    "    \n",
    "#c faire tourner le prédict\n",
    "pred_y = clf.predict(x_test)\n",
    "score = accuracy_score(y_test,pred_y)\n",
    "print ('accuracy test ',score)\n",
    "roc_auc = roc_auc_score(y_test, pred_y)\n",
    "print ( 'roc_auc_  test ',roc_auc)\n",
    "\n",
    "\n",
    "pred_y_train = clf.predict(x_train)\n",
    "score = accuracy_score(y_train,pred_y_train)\n",
    "print ('accuracy train ',score)\n",
    "roc_auc = roc_auc_score(y_train, pred_y_train)\n",
    "print ( 'roc_auc_  train ',roc_auc)"
   ]
  },
  {
   "cell_type": "code",
   "execution_count": null,
   "id": "3882307b-7b1d-4e11-82a9-36be14d5080b",
   "metadata": {
    "executionInfo": {
     "elapsed": 88,
     "status": "aborted",
     "timestamp": 1679413603382,
     "user": {
      "displayName": "Hugues Hansen",
      "userId": "06507793026638313555"
     },
     "user_tz": -60
    },
    "id": "3882307b-7b1d-4e11-82a9-36be14d5080b"
   },
   "outputs": [],
   "source": [
    "\n",
    "nsplit = 3\n",
    "    \n",
    "    \n",
    "debut = time.time()\n",
    "\n",
    "grid = GridSearchCV(estimator=DecisionTreeClassifier(), \n",
    "                                param_grid={\"max_depth\": [3, 5, 7], \"min_samples_leaf\": [5, 10, 15]}, scoring=\"roc_auc\", cv=3, refit= True )\n",
    "\n",
    "\n",
    "grid.fit(X,y)\n",
    "\n",
    "# Afficher le meilleur score et le meilleur algorithme trouvé par GridSearchCV \n",
    "print(\"Meilleur score:\", grid.best_score_)\n",
    "print(\"Meilleur algorithme:\", grid.best_estimator_)\n",
    "\n",
    "\n"
   ]
  },
  {
   "cell_type": "code",
   "execution_count": null,
   "id": "1d0feedb-7485-4429-8b55-412f9b56a498",
   "metadata": {
    "executionInfo": {
     "elapsed": 88,
     "status": "aborted",
     "timestamp": 1679413603382,
     "user": {
      "displayName": "Hugues Hansen",
      "userId": "06507793026638313555"
     },
     "user_tz": -60
    },
    "id": "1d0feedb-7485-4429-8b55-412f9b56a498"
   },
   "outputs": [],
   "source": [
    "from sklearn.metrics import auc\n",
    "from sklearn.model_selection import train_test_split\n",
    "# Split data into training and test sets\n",
    "X_train, X_test, y_train, y_test = train_test_split(X, y, test_size=0.2)\n",
    "\n",
    "# Fit GridSearchCV on training data\n",
    "grid = GridSearchCV(estimator=DecisionTreeClassifier(), \n",
    "                    param_grid={\"max_depth\": [3, 5, 7], \"min_samples_leaf\": [5, 10, 15]}, \n",
    "                    scoring=\"roc_auc\", cv=3)\n",
    "grid.fit(X_train,y_train)\n",
    "\n",
    "# Make predictions on test data using best_estimator_\n",
    "y_pred = grid.best_estimator_.predict_proba(X_test)[:,1]\n",
    "\n",
    "# Calculate FPR and TPR\n",
    "fpr, tpr, thresholds = roc_curve(y_test,y_pred)\n",
    "\n",
    "# Calculate AUC\n",
    "roc_auc = auc(fpr,tpr)\n",
    "\n",
    "# Plot ROC curve\n",
    "plt.plot(fpr,tpr,label='ROC curve (area = %0.2f)' % roc_auc)\n",
    "plt.plot([0,1],[0,1],'k--')\n",
    "plt.xlabel('False Positive Rate')\n",
    "plt.ylabel('True Positive Rate')\n",
    "plt.title('Receiver Operating Characteristic')\n",
    "plt.legend(loc=\"lower right\")\n",
    "plt.show()"
   ]
  },
  {
   "cell_type": "code",
   "execution_count": null,
   "id": "e20acdf2-d4b2-400e-9a95-005beb58c404",
   "metadata": {
    "executionInfo": {
     "elapsed": 88,
     "status": "aborted",
     "timestamp": 1679413603382,
     "user": {
      "displayName": "Hugues Hansen",
      "userId": "06507793026638313555"
     },
     "user_tz": -60
    },
    "id": "e20acdf2-d4b2-400e-9a95-005beb58c404"
   },
   "outputs": [],
   "source": [
    "grid = GridSearchCV(estimator=DecisionTreeClassifier, param_grid={\"max_depth\": [3, 5, 7], \"min_samples_leaf\": [5, 10, 15]}, scoring=\"roc_auc\", cv=3, refit= True )"
   ]
  },
  {
   "cell_type": "code",
   "execution_count": null,
   "id": "73c2486c-371d-4dbb-86e8-3f49ac61f9ad",
   "metadata": {
    "executionInfo": {
     "elapsed": 88,
     "status": "aborted",
     "timestamp": 1679413603382,
     "user": {
      "displayName": "Hugues Hansen",
      "userId": "06507793026638313555"
     },
     "user_tz": -60
    },
    "id": "73c2486c-371d-4dbb-86e8-3f49ac61f9ad"
   },
   "outputs": [],
   "source": [
    "\n",
    "      \n",
    "    \n",
    "    \n",
    "    \n",
    "\"\"\" Append= pd.DataFrame([['RandomForest' , \n",
    "                        np.around (mean_squared_error(y_test,reg.predict(x_test)),3),\n",
    "                       np.around (mean_squared_error(y_test,reg.predict(x_test),squared=False),3),\n",
    "                      np.around(r2_score(y_test,reg.predict(x_test)),3),\n",
    "                     np.around( mean_absolute_percentage_error(y_test,reg.predict(x_test)),3),\n",
    "                      np.around(r2_score(y_train,reg.predict(x_train)),3) ,\n",
    "                      time.time() - debut]], \n",
    "                     columns=['méthode', 'MSE','RMSE','R2 Test','MA%E','R2 Train','Durée'])\n",
    "    \n",
    "\n",
    "Report = pd.concat([Report, Append]) \n",
    "Report\"\"\" \n",
    "    "
   ]
  },
  {
   "cell_type": "code",
   "execution_count": null,
   "id": "d66672f1-cffd-418e-818b-fb4cdd4cb02d",
   "metadata": {
    "executionInfo": {
     "elapsed": 88,
     "status": "aborted",
     "timestamp": 1679413603382,
     "user": {
      "displayName": "Hugues Hansen",
      "userId": "06507793026638313555"
     },
     "user_tz": -60
    },
    "id": "d66672f1-cffd-418e-818b-fb4cdd4cb02d"
   },
   "outputs": [],
   "source": []
  },
  {
   "cell_type": "code",
   "execution_count": null,
   "id": "6a0e628a",
   "metadata": {
    "executionInfo": {
     "elapsed": 88,
     "status": "aborted",
     "timestamp": 1679413603383,
     "user": {
      "displayName": "Hugues Hansen",
      "userId": "06507793026638313555"
     },
     "user_tz": -60
    },
    "id": "6a0e628a"
   },
   "outputs": [],
   "source": [
    "\n",
    "\n",
    "# Calculer le score roc_auc pour chaque algorithme \n",
    "    roc_aucs = []\n",
    "    for i in range(len(algos)):\n",
    "        roc_aucs.append(roc_auc_score(y_true=y,y_score=probas[:,i]))\n",
    "\n",
    "# Créer un dataframe pandas qui contient les scores roc_auc de chaque algorithme \n",
    "    roc_df = pd.DataFrame({\"Algorithme\": algos,\"ROC_AUC\": roc_aucs})\n",
    "    print(roc_df)\n",
    "\n",
    "# Prédire les classes pour chaque algorithme \n",
    "    preds = grid.predict(X)\n",
    "\n",
    "# Calculer la matrice de confusion pour chaque algorithme \n",
    "    confusions = []\n",
    "    for i in range(len(algos)):\n",
    "        confusions.append(confusion_matrix(y_true=y,y_pred=preds[:,i]))\n",
    "\n",
    "# Créer un dataframe pandas qui contient les matrices de confusion de chaque algorithme \n",
    "    conf_df = pd.DataFrame({\"Algorithme\": algos,\"Confusion Matrix\": confusions})\n",
    "    print(conf_df)"
   ]
  },
  {
   "cell_type": "code",
   "execution_count": null,
   "id": "ea3e7505",
   "metadata": {
    "executionInfo": {
     "elapsed": 88,
     "status": "aborted",
     "timestamp": 1679413603383,
     "user": {
      "displayName": "Hugues Hansen",
      "userId": "06507793026638313555"
     },
     "user_tz": -60
    },
    "id": "ea3e7505"
   },
   "outputs": [],
   "source": [
    "# Importer la bibliothèque Keras Tuner qui permet de faire de l'optimisation bayésienne\n",
    "from kerastuner.tuners import BayesianOptimization\n",
    "\n",
    "# Définir une fonction qui crée un modèle de classification naïve bayésienne avec des hyperparamètres à optimiser\n",
    "def build_model(hp):\n",
    "    # Créer un objet GaussianNB \n",
    "    model = GaussianNB()\n",
    "    # Définir les hyperparamètres à optimiser: le lissage de Laplace (var_smoothing) et le seuil de décision (threshold)\n",
    "    hp_var_smoothing = hp.Float('var_smoothing', 1e-9, 1e-3, sampling='log')\n",
    "    hp_threshold = hp.Float('threshold', 0.0, 1.0)\n",
    "    # Affecter les valeurs des hyperparamètres au modèle \n",
    "    model.var_smoothing = hp_var_smoothing\n",
    "    model.threshold = hp_threshold\n",
    "    # Retourner le modèle \n",
    "    return model\n",
    "\n",
    "# Créer un objet BayesianOptimization qui va comparer les performances du modèle sur les données en utilisant le score roc_auc comme critère d'évaluation \n",
    "tuner = BayesianOptimization(build_model,\n",
    "                             objective='roc_auc',\n",
    "                             max_trials=10,\n",
    "                             executions_per_trial=1)\n",
    "\n",
    "# Lancer la recherche des meilleurs hyperparamètres pour le modèle \n",
    "tuner.search(X,y)\n",
    "\n",
    "# Afficher les meilleurs hyperparamètres trouvés par BayesianOptimization \n",
    "print(\"Meilleurs hyperparamètres:\", tuner.get_best_hyperparameters()[0].values)\n",
    "\n",
    "# Prédire les probabilités des classes pour le modèle optimisé \n",
    "proba_bayes = tuner.predict(X)\n",
    "\n",
    "# Calculer le score roc_auc pour le modèle optimisé \n",
    "roc_auc_bayes = roc_auc_score(y_true=y,y_score=proba_bayes)\n",
    "\n",
    "# Ajouter le score roc_auc du modèle optimisé au dataframe pandas qui contient les scores roc_auc de chaque algorithme \n",
    "roc_df.loc[len(roc_df)] = [\"GaussianNB Optimized\", roc_auc_bayes]\n",
    "print(roc_df)\n",
    "\n",
    "# Prédire les classes pour le modèle optimisé \n",
    "pred_bayes = tuner.predict_classes(X)\n",
    "\n",
    "# Calculer la matrice de confusion pour le modèle optimisé \n",
    "confusion_bayes = confusion_matrix(y_true=y,y_pred=pred_bayes)\n",
    "\n",
    "# Ajouter la matrice de confusion du modèle optimisé au dataframe pandas qui contient les matrices de confusion de chaque algorithme \n",
    "conf_df.loc[len(conf_df)] = [\"GaussianNB Optimized\", confusion_bayes]\n",
    "print(conf_df)"
   ]
  },
  {
   "cell_type": "code",
   "execution_count": null,
   "id": "2ce81002",
   "metadata": {
    "executionInfo": {
     "elapsed": 88,
     "status": "aborted",
     "timestamp": 1679413603383,
     "user": {
      "displayName": "Hugues Hansen",
      "userId": "06507793026638313555"
     },
     "user_tz": -60
    },
    "id": "2ce81002"
   },
   "outputs": [],
   "source": [
    "# Importer la bibliothèque matplotlib.pyplot qui permet de faire des graphiques \n",
    "import matplotlib.pyplot as plt\n",
    "\n",
    "# Créer une figure avec une taille de 10x10 pouces \n",
    "plt.figure(figsize=(10,10))\n",
    "\n",
    "# Parcourir chaque algorithme dans le dataframe roc_df qui contient les scores roc_auc de chaque algorithme \n",
    "for index, row in roc_df.iterrows():\n",
    "    # Récupérer le nom de l'algorithme et le score roc_auc \n",
    "    algo = row[\"Algo\"]\n",
    "    score = row[\"ROC_AUC\"]\n",
    "    # Calculer les taux de faux positifs (fpr) et de vrais positifs (tpr) en utilisant la fonction roc_curve de sklearn.metrics \n",
    "    fpr, tpr, thresholds = roc_curve(y_true=y,y_score=proba_dict[algo])\n",
    "    # Tracer la courbe ROC en utilisant la fonction plot de matplotlib.pyplot \n",
    "    plt.plot(fpr,tpr,label=f\"{algo} (AUC={score:.3f})\")\n",
    "\n",
    "# Ajouter un titre au graphique \n",
    "plt.title(\"Courbes ROC des différents algorithmes\")\n",
    "\n",
    "# Ajouter des légendes aux axes x et y \n",
    "plt.xlabel(\"Taux de faux positifs\")\n",
    "plt.ylabel(\"Taux de vrais positifs\")\n",
    "\n",
    "# Ajouter une grille au graphique pour faciliter la lecture \n",
    "plt.grid()\n",
    "\n",
    "# Ajouter une ligne diagonale qui représente un classifieur aléatoire \n",
    "plt.plot([0,1],[0,1],linestyle=\"--\",color=\"black\",label=\"Aléatoire\")\n",
    "\n",
    "# Ajouter une légende au graphique pour identifier chaque courbe ROC \n",
    "plt.legend()\n",
    "\n",
    "# Afficher le graphique à l'écran \n",
    "plt.show()\n"
   ]
  },
  {
   "cell_type": "markdown",
   "id": "3a229cb5",
   "metadata": {
    "id": "3a229cb5"
   },
   "source": [
    "Les courbes ROC permettent d’évaluer les performances d’un modèle de classification en fonction du seuil de décision choisi. Elles représentent le taux de vrais positifs (TPR) en fonction du taux de faux positifs (FPR) pour différents seuils. Plus la courbe est proche du coin supérieur gauche du graphique, plus le modèle est performant. L’aire sous la courbe (AUC) est une mesure synthétique qui résume la qualité d’un modèle: plus elle est proche de 1, mieux c’est.\n",
    "\n",
    "Sur ce graphique, on peut voir que le modèle optimisé par l’optimisation bayésienne a la meilleure performance parmi tous les modèles testés. Il a une AUC élevée et il domine les autres courbes sur tout l’intervalle des FPR. Cela signifie qu’il a un bon compromis entre sensibilité et spécificité."
   ]
  },
  {
   "cell_type": "code",
   "execution_count": null,
   "id": "91799052",
   "metadata": {
    "executionInfo": {
     "elapsed": 89,
     "status": "aborted",
     "timestamp": 1679413603384,
     "user": {
      "displayName": "Hugues Hansen",
      "userId": "06507793026638313555"
     },
     "user_tz": -60
    },
    "id": "91799052"
   },
   "outputs": [],
   "source": [
    "# Importer les bibliothèques nécessaires\n",
    "import seaborn as sns\n",
    "import matplotlib.pyplot as plt\n",
    "from sklearn.metrics import roc_curve\n",
    "import pandas as pd\n",
    "\n",
    "# Créer un dataframe pandas avec les étiquettes réelles et les probabilités prédites\n",
    "y_true = [0, 0, 0, 1, 1, 1]\n",
    "y_pred = [0.1, 0.2, 0.3, 0.7, 0.8, 0.9]\n",
    "df = pd.DataFrame({\"y_true\": y_true,\"y_pred\": y_pred})\n",
    "\n",
    "# Calculer les taux de faux positifs et de vrais positifs pour chaque classe\n",
    "fpr_0,tpr_0,_ = roc_curve(y_true=df[\"y_true\"],y_score=1-df[\"y_pred\"],pos_label=0)\n",
    "fpr_1,tpr_1,_ = roc_curve(y_true=df[\"y_true\"],y_score=df[\"y_pred\"],pos_label=1)\n",
    "\n",
    "# Créer un objet FacetGrid avec seaborn\n",
    "g = sns.FacetGrid(df,hue=\"y_true\",height=5)\n",
    "\n",
    "# Appliquer la fonction plot à chaque sous-graphique avec la méthode map\n",
    "g.map(plt.plot,fpr_0,tpr_0,label=\"Classe 0\")\n",
    "g.map(plt.plot,fpr_1,tpr_1,label=\"Classe 1\")\n",
    "\n",
    "# Ajouter des titres, des légendes et des annotations au graphique\n",
    "g.set_axis_labels(\"Taux de faux positifs\",\"Taux de vrais positifs\")\n",
    "g.fig.suptitle(\"Courbes ROC avec seaborn\")\n",
    "g.add_legend()\n",
    "plt.plot([0,1],[0,1],linestyle=\"--\",color=\"black\",label=\"Aléatoire\")\n",
    "plt.show()"
   ]
  },
  {
   "cell_type": "markdown",
   "id": "f5e80281-1b69-425a-a73a-191c23fcdc9b",
   "metadata": {
    "id": "f5e80281-1b69-425a-a73a-191c23fcdc9b"
   },
   "source": [
    "# "
   ]
  }
 ],
 "metadata": {
  "colab": {
   "provenance": [
    {
     "file_id": "1Jt7PiO9zRBoNGlNKSwcQjEsl9iIAL951",
     "timestamp": 1679311336338
    },
    {
     "file_id": "1SGZ4mvrsrO3TDJ09fHbiDpTiAaYwFevg",
     "timestamp": 1679307281408
    }
   ],
   "toc_visible": true
  },
  "kernelspec": {
   "display_name": "Python 3 (ipykernel)",
   "language": "python",
   "name": "python3"
  },
  "language_info": {
   "codemirror_mode": {
    "name": "ipython",
    "version": 3
   },
   "file_extension": ".py",
   "mimetype": "text/x-python",
   "name": "python",
   "nbconvert_exporter": "python",
   "pygments_lexer": "ipython3",
   "version": "3.10.2"
  },
  "toc-autonumbering": true,
  "toc-showcode": false,
  "toc-showmarkdowntxt": false,
  "toc-showtags": true,
  "widgets": {
   "application/vnd.jupyter.widget-state+json": {
    "state": {
     "2027a79c5a0944f3913dc809633bfac6": {
      "model_module": "@jupyter-widgets/controls",
      "model_module_version": "2.0.0",
      "model_name": "DropdownModel",
      "state": {
       "_options_labels": [
        "SK_ID_CURR",
        "CNT_CHILDREN",
        "AMT_INCOME_TOTAL",
        "AMT_CREDIT",
        "AMT_ANNUITY",
        "AMT_GOODS_PRICE",
        "REGION_POPULATION_RELATIVE",
        "DAYS_BIRTH",
        "DAYS_EMPLOYED",
        "DAYS_REGISTRATION",
        "DAYS_ID_PUBLISH",
        "OWN_CAR_AGE",
        "FLAG_MOBIL",
        "FLAG_EMP_PHONE",
        "FLAG_WORK_PHONE",
        "FLAG_CONT_MOBILE",
        "FLAG_PHONE",
        "FLAG_EMAIL",
        "CNT_FAM_MEMBERS",
        "REGION_RATING_CLIENT",
        "REGION_RATING_CLIENT_W_CITY",
        "HOUR_APPR_PROCESS_START",
        "REG_REGION_NOT_LIVE_REGION",
        "REG_REGION_NOT_WORK_REGION",
        "LIVE_REGION_NOT_WORK_REGION",
        "REG_CITY_NOT_LIVE_CITY",
        "REG_CITY_NOT_WORK_CITY",
        "LIVE_CITY_NOT_WORK_CITY",
        "EXT_SOURCE_1",
        "EXT_SOURCE_2",
        "EXT_SOURCE_3",
        "APARTMENTS_AVG",
        "BASEMENTAREA_AVG",
        "YEARS_BEGINEXPLUATATION_AVG",
        "YEARS_BUILD_AVG",
        "COMMONAREA_AVG",
        "ELEVATORS_AVG",
        "ENTRANCES_AVG",
        "FLOORSMAX_AVG",
        "FLOORSMIN_AVG",
        "LANDAREA_AVG",
        "LIVINGAPARTMENTS_AVG",
        "LIVINGAREA_AVG",
        "NONLIVINGAPARTMENTS_AVG",
        "NONLIVINGAREA_AVG",
        "APARTMENTS_MODE",
        "BASEMENTAREA_MODE",
        "YEARS_BEGINEXPLUATATION_MODE",
        "YEARS_BUILD_MODE",
        "COMMONAREA_MODE",
        "ELEVATORS_MODE",
        "ENTRANCES_MODE",
        "FLOORSMAX_MODE",
        "FLOORSMIN_MODE",
        "LANDAREA_MODE",
        "LIVINGAPARTMENTS_MODE",
        "LIVINGAREA_MODE",
        "NONLIVINGAPARTMENTS_MODE",
        "NONLIVINGAREA_MODE",
        "APARTMENTS_MEDI",
        "BASEMENTAREA_MEDI",
        "YEARS_BEGINEXPLUATATION_MEDI",
        "YEARS_BUILD_MEDI",
        "COMMONAREA_MEDI",
        "ELEVATORS_MEDI",
        "ENTRANCES_MEDI",
        "FLOORSMAX_MEDI",
        "FLOORSMIN_MEDI",
        "LANDAREA_MEDI",
        "LIVINGAPARTMENTS_MEDI",
        "LIVINGAREA_MEDI",
        "NONLIVINGAPARTMENTS_MEDI",
        "NONLIVINGAREA_MEDI",
        "TOTALAREA_MODE",
        "OBS_30_CNT_SOCIAL_CIRCLE",
        "DEF_30_CNT_SOCIAL_CIRCLE",
        "OBS_60_CNT_SOCIAL_CIRCLE",
        "DEF_60_CNT_SOCIAL_CIRCLE",
        "DAYS_LAST_PHONE_CHANGE",
        "FLAG_DOCUMENT_2",
        "FLAG_DOCUMENT_3",
        "FLAG_DOCUMENT_4",
        "FLAG_DOCUMENT_5",
        "FLAG_DOCUMENT_6",
        "FLAG_DOCUMENT_7",
        "FLAG_DOCUMENT_8",
        "FLAG_DOCUMENT_9",
        "FLAG_DOCUMENT_10",
        "FLAG_DOCUMENT_11",
        "FLAG_DOCUMENT_12",
        "FLAG_DOCUMENT_13",
        "FLAG_DOCUMENT_14",
        "FLAG_DOCUMENT_15",
        "FLAG_DOCUMENT_16",
        "FLAG_DOCUMENT_17",
        "FLAG_DOCUMENT_18",
        "FLAG_DOCUMENT_19",
        "FLAG_DOCUMENT_20",
        "FLAG_DOCUMENT_21",
        "AMT_REQ_CREDIT_BUREAU_HOUR",
        "AMT_REQ_CREDIT_BUREAU_DAY",
        "AMT_REQ_CREDIT_BUREAU_WEEK",
        "AMT_REQ_CREDIT_BUREAU_MON",
        "AMT_REQ_CREDIT_BUREAU_QRT",
        "AMT_REQ_CREDIT_BUREAU_YEAR",
        "NAME_CONTRACT_TYPE_Cash loans",
        "NAME_CONTRACT_TYPE_Revolving loans",
        "NAME_CONTRACT_TYPE_nan",
        "CODE_GENDER_F",
        "CODE_GENDER_M",
        "CODE_GENDER_XNA",
        "CODE_GENDER_nan",
        "FLAG_OWN_CAR_N",
        "FLAG_OWN_CAR_Y",
        "FLAG_OWN_CAR_nan",
        "FLAG_OWN_REALTY_N",
        "FLAG_OWN_REALTY_Y",
        "FLAG_OWN_REALTY_nan",
        "NAME_TYPE_SUITE_Children",
        "NAME_TYPE_SUITE_Family",
        "NAME_TYPE_SUITE_Group of people",
        "NAME_TYPE_SUITE_Other_A",
        "NAME_TYPE_SUITE_Other_B",
        "NAME_TYPE_SUITE_Spouse, partner",
        "NAME_TYPE_SUITE_Unaccompanied",
        "NAME_TYPE_SUITE_nan",
        "NAME_INCOME_TYPE_Businessman",
        "NAME_INCOME_TYPE_Commercial associate",
        "NAME_INCOME_TYPE_Maternity leave",
        "NAME_INCOME_TYPE_Pensioner",
        "NAME_INCOME_TYPE_State servant",
        "NAME_INCOME_TYPE_Student",
        "NAME_INCOME_TYPE_Unemployed",
        "NAME_INCOME_TYPE_Working",
        "NAME_INCOME_TYPE_nan",
        "NAME_EDUCATION_TYPE_Academic degree",
        "NAME_EDUCATION_TYPE_Higher education",
        "NAME_EDUCATION_TYPE_Incomplete higher",
        "NAME_EDUCATION_TYPE_Lower secondary",
        "NAME_EDUCATION_TYPE_Secondary / secondary special",
        "NAME_EDUCATION_TYPE_nan",
        "NAME_FAMILY_STATUS_Civil marriage",
        "NAME_FAMILY_STATUS_Married",
        "NAME_FAMILY_STATUS_Separated",
        "NAME_FAMILY_STATUS_Single / not married",
        "NAME_FAMILY_STATUS_Unknown",
        "NAME_FAMILY_STATUS_Widow",
        "NAME_FAMILY_STATUS_nan",
        "NAME_HOUSING_TYPE_Co-op apartment",
        "NAME_HOUSING_TYPE_House / apartment",
        "NAME_HOUSING_TYPE_Municipal apartment",
        "NAME_HOUSING_TYPE_Office apartment",
        "NAME_HOUSING_TYPE_Rented apartment",
        "NAME_HOUSING_TYPE_With parents",
        "NAME_HOUSING_TYPE_nan",
        "OCCUPATION_TYPE_Accountants",
        "OCCUPATION_TYPE_Cleaning staff",
        "OCCUPATION_TYPE_Cooking staff",
        "OCCUPATION_TYPE_Core staff",
        "OCCUPATION_TYPE_Drivers",
        "OCCUPATION_TYPE_HR staff",
        "OCCUPATION_TYPE_High skill tech staff",
        "OCCUPATION_TYPE_IT staff",
        "OCCUPATION_TYPE_Laborers",
        "OCCUPATION_TYPE_Low-skill Laborers",
        "OCCUPATION_TYPE_Managers",
        "OCCUPATION_TYPE_Medicine staff",
        "OCCUPATION_TYPE_Private service staff",
        "OCCUPATION_TYPE_Realty agents",
        "OCCUPATION_TYPE_Sales staff",
        "OCCUPATION_TYPE_Secretaries",
        "OCCUPATION_TYPE_Security staff",
        "OCCUPATION_TYPE_Waiters/barmen staff",
        "OCCUPATION_TYPE_nan",
        "WEEKDAY_APPR_PROCESS_START_FRIDAY",
        "WEEKDAY_APPR_PROCESS_START_MONDAY",
        "WEEKDAY_APPR_PROCESS_START_SATURDAY",
        "WEEKDAY_APPR_PROCESS_START_SUNDAY",
        "WEEKDAY_APPR_PROCESS_START_THURSDAY",
        "WEEKDAY_APPR_PROCESS_START_TUESDAY",
        "WEEKDAY_APPR_PROCESS_START_WEDNESDAY",
        "WEEKDAY_APPR_PROCESS_START_nan",
        "ORGANIZATION_TYPE_Advertising",
        "ORGANIZATION_TYPE_Agriculture",
        "ORGANIZATION_TYPE_Bank",
        "ORGANIZATION_TYPE_Business Entity Type 1",
        "ORGANIZATION_TYPE_Business Entity Type 2",
        "ORGANIZATION_TYPE_Business Entity Type 3",
        "ORGANIZATION_TYPE_Cleaning",
        "ORGANIZATION_TYPE_Construction",
        "ORGANIZATION_TYPE_Culture",
        "ORGANIZATION_TYPE_Electricity",
        "ORGANIZATION_TYPE_Emergency",
        "ORGANIZATION_TYPE_Government",
        "ORGANIZATION_TYPE_Hotel",
        "ORGANIZATION_TYPE_Housing",
        "ORGANIZATION_TYPE_Industry: type 1",
        "ORGANIZATION_TYPE_Industry: type 10",
        "ORGANIZATION_TYPE_Industry: type 11",
        "ORGANIZATION_TYPE_Industry: type 12",
        "ORGANIZATION_TYPE_Industry: type 13",
        "ORGANIZATION_TYPE_Industry: type 2",
        "ORGANIZATION_TYPE_Industry: type 3",
        "ORGANIZATION_TYPE_Industry: type 4",
        "ORGANIZATION_TYPE_Industry: type 5",
        "ORGANIZATION_TYPE_Industry: type 6",
        "ORGANIZATION_TYPE_Industry: type 7",
        "ORGANIZATION_TYPE_Industry: type 8",
        "ORGANIZATION_TYPE_Industry: type 9",
        "ORGANIZATION_TYPE_Insurance",
        "ORGANIZATION_TYPE_Kindergarten",
        "ORGANIZATION_TYPE_Legal Services",
        "ORGANIZATION_TYPE_Medicine",
        "ORGANIZATION_TYPE_Military",
        "ORGANIZATION_TYPE_Mobile",
        "ORGANIZATION_TYPE_Other",
        "ORGANIZATION_TYPE_Police",
        "ORGANIZATION_TYPE_Postal",
        "ORGANIZATION_TYPE_Realtor",
        "ORGANIZATION_TYPE_Religion",
        "ORGANIZATION_TYPE_Restaurant",
        "ORGANIZATION_TYPE_School",
        "ORGANIZATION_TYPE_Security",
        "ORGANIZATION_TYPE_Security Ministries",
        "ORGANIZATION_TYPE_Self-employed",
        "ORGANIZATION_TYPE_Services",
        "ORGANIZATION_TYPE_Telecom",
        "ORGANIZATION_TYPE_Trade: type 1",
        "ORGANIZATION_TYPE_Trade: type 2",
        "ORGANIZATION_TYPE_Trade: type 3",
        "ORGANIZATION_TYPE_Trade: type 4",
        "ORGANIZATION_TYPE_Trade: type 5",
        "ORGANIZATION_TYPE_Trade: type 6",
        "ORGANIZATION_TYPE_Trade: type 7",
        "ORGANIZATION_TYPE_Transport: type 1",
        "ORGANIZATION_TYPE_Transport: type 2",
        "ORGANIZATION_TYPE_Transport: type 3",
        "ORGANIZATION_TYPE_Transport: type 4",
        "ORGANIZATION_TYPE_University",
        "ORGANIZATION_TYPE_XNA",
        "ORGANIZATION_TYPE_nan",
        "FONDKAPREMONT_MODE_not specified",
        "FONDKAPREMONT_MODE_org spec account",
        "FONDKAPREMONT_MODE_reg oper account",
        "FONDKAPREMONT_MODE_reg oper spec account",
        "FONDKAPREMONT_MODE_nan",
        "HOUSETYPE_MODE_block of flats",
        "HOUSETYPE_MODE_specific housing",
        "HOUSETYPE_MODE_terraced house",
        "HOUSETYPE_MODE_nan",
        "WALLSMATERIAL_MODE_Block",
        "WALLSMATERIAL_MODE_Mixed",
        "WALLSMATERIAL_MODE_Monolithic",
        "WALLSMATERIAL_MODE_Others",
        "WALLSMATERIAL_MODE_Panel",
        "WALLSMATERIAL_MODE_Stone, brick",
        "WALLSMATERIAL_MODE_Wooden",
        "WALLSMATERIAL_MODE_nan",
        "EMERGENCYSTATE_MODE_No",
        "EMERGENCYSTATE_MODE_Yes",
        "EMERGENCYSTATE_MODE_nan"
       ],
       "description": "Select Label:",
       "index": 0,
       "layout": "IPY_MODEL_b6e5cbed3cf24425a5ac288fc894930e",
       "style": "IPY_MODEL_35b611d8289f417fb9c6cacf0210676d"
      }
     },
     "35b611d8289f417fb9c6cacf0210676d": {
      "model_module": "@jupyter-widgets/controls",
      "model_module_version": "2.0.0",
      "model_name": "DescriptionStyleModel",
      "state": {
       "description_width": ""
      }
     },
     "b6e5cbed3cf24425a5ac288fc894930e": {
      "model_module": "@jupyter-widgets/base",
      "model_module_version": "2.0.0",
      "model_name": "LayoutModel",
      "state": {}
     }
    },
    "version_major": 2,
    "version_minor": 0
   }
  }
 },
 "nbformat": 4,
 "nbformat_minor": 5
}
