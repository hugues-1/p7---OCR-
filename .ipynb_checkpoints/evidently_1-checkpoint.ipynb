{
 "cells": [
  {
   "cell_type": "markdown",
   "id": "530cc79d-7655-4802-a839-52d871672f83",
   "metadata": {
    "id": "530cc79d-7655-4802-a839-52d871672f83",
    "tags": []
   },
   "source": [
    "## ToDo : "
   ]
  },
  {
   "cell_type": "code",
   "execution_count": 1,
   "id": "9f2e5131",
   "metadata": {
    "executionInfo": {
     "elapsed": 4035,
     "status": "ok",
     "timestamp": 1679413513647,
     "user": {
      "displayName": "Hugues Hansen",
      "userId": "06507793026638313555"
     },
     "user_tz": -60
    },
    "id": "9f2e5131"
   },
   "outputs": [],
   "source": [
    "# Importer les bibliothèques nécessaires\n",
    "\n",
    "import pandas as pd\n",
    "from sklearn.model_selection import GridSearchCV\n",
    "from sklearn.dummy import DummyClassifier\n",
    "from sklearn.linear_model import LogisticRegression\n",
    "from sklearn.tree import DecisionTreeClassifier\n",
    "from sklearn.ensemble import RandomForestClassifier\n",
    "#from xgboost import XGBClassifier\n",
    "from sklearn.naive_bayes import GaussianNB\n",
    "from sklearn.metrics import roc_auc_score, confusion_matrix,accuracy_score\n",
    "import numpy as np\n",
    "import pandas as pd\n",
    "import gc\n",
    "import time\n",
    "from contextlib import contextmanager\n",
    "import lightgbm as lgb\n",
    "from lightgbm import LGBMClassifier\n",
    "from sklearn.metrics import roc_auc_score, roc_curve\n",
    "from sklearn.ensemble import RandomForestClassifier\n",
    "from sklearn.ensemble import HistGradientBoostingClassifier\n",
    "from sklearn.model_selection import KFold, StratifiedKFold\n",
    "from sklearn.pipeline import Pipeline\n",
    "from sklearn.preprocessing import StandardScaler\n",
    "import matplotlib.pyplot as plt\n",
    "import seaborn as sns\n",
    "import warnings\n",
    "warnings.simplefilter(action='ignore', category=FutureWarning)\n",
    "import missingno as msno\n",
    "import numpy as np\n",
    "from sklearn.impute import SimpleImputer\n",
    "from sklearn.experimental import enable_iterative_imputer\n",
    "from sklearn.impute import IterativeImputer\n",
    "from sklearn.impute import KNNImputer\n",
    "import seaborn as sns\n",
    "import matplotlib.pyplot as plt\n",
    "from sklearn.metrics import ConfusionMatrixDisplay\n",
    "import seaborn as sns\n",
    "import imblearn as imb\n",
    "from imblearn.over_sampling import RandomOverSampler\n",
    "from imblearn.under_sampling import RandomUnderSampler\n",
    "from imblearn.combine import SMOTETomek\n",
    "from sklearn.metrics import auc\n",
    "from sklearn.model_selection import train_test_split\n",
    "from sklearn.metrics import make_scorer\n",
    "from imblearn import FunctionSampler\n",
    "from sklearn.preprocessing import StandardScaler\n",
    "from sklearn.pipeline import Pipeline"
   ]
  },
  {
   "cell_type": "code",
   "execution_count": 2,
   "id": "a24b06ad",
   "metadata": {
    "colab": {
     "base_uri": "https://localhost:8080/"
    },
    "executionInfo": {
     "elapsed": 46119,
     "status": "ok",
     "timestamp": 1679413578315,
     "user": {
      "displayName": "Hugues Hansen",
      "userId": "06507793026638313555"
     },
     "user_tz": -60
    },
    "id": "a24b06ad",
    "outputId": "5b90701b-debc-4637-ecad-de70959d1b94"
   },
   "outputs": [],
   "source": [
    "try:\n",
    "    from google.colab import drive\n",
    "    drive.mount('/content/drive')\n",
    "    base=pd.read_csv(\"/content/drive/MyDrive/Notebooks/P7/basep7.csv\")\n",
    "        \n",
    "except ModuleNotFoundError :\n",
    "    \n",
    "    base = pd.read_csv(\"basep7.csv\")\n",
    "    \n",
    "base = base.drop( columns = ['Unnamed: 0'])"
   ]
  },
  {
   "cell_type": "code",
   "execution_count": 3,
   "id": "9a90ebe0",
   "metadata": {
    "colab": {
     "base_uri": "https://localhost:8080/"
    },
    "executionInfo": {
     "elapsed": 1962,
     "status": "ok",
     "timestamp": 1679413580260,
     "user": {
      "displayName": "Hugues Hansen",
      "userId": "06507793026638313555"
     },
     "user_tz": -60
    },
    "id": "9a90ebe0",
    "outputId": "47a86b8c-1b29-4c38-b970-771bd9331546"
   },
   "outputs": [
    {
     "name": "stdout",
     "output_type": "stream",
     "text": [
      "(307511, 122)\n",
      "(307511, 262)\n"
     ]
    }
   ],
   "source": [
    "# one_hot_encoder classique pour les non numériques\n",
    "def one_hot_encoder(base, nan_as_category = True):\n",
    "    original_columns = list(base.columns)\n",
    "    categorical_columns = [col for col in base.columns if base[col].dtype == 'object']\n",
    "    base2 = pd.get_dummies(base, columns= categorical_columns, dummy_na= True)\n",
    "    new_columns = [c for c in base.columns if c not in original_columns]\n",
    "    return base2\n",
    "print (base.shape)\n",
    "base2 =one_hot_encoder(base)\n",
    "print (base2.shape)\n",
    "base = base2\n",
    "del base2"
   ]
  },
  {
   "cell_type": "code",
   "execution_count": 4,
   "id": "95b1f4fe-9a96-4d9e-8ed7-fcc2ac13becf",
   "metadata": {
    "executionInfo": {
     "elapsed": 2177,
     "status": "ok",
     "timestamp": 1679413582422,
     "user": {
      "displayName": "Hugues Hansen",
      "userId": "06507793026638313555"
     },
     "user_tz": -60
    },
    "id": "95b1f4fe-9a96-4d9e-8ed7-fcc2ac13becf"
   },
   "outputs": [],
   "source": [
    "# Remplacer les valeurs manquantes par la moyenne de la colonne\n",
    "base = base.fillna(base.mean())"
   ]
  },
  {
   "cell_type": "code",
   "execution_count": 5,
   "id": "7aadae66-a87c-4bc0-b4c5-5bc4001ea36f",
   "metadata": {
    "executionInfo": {
     "elapsed": 11,
     "status": "ok",
     "timestamp": 1679413582424,
     "user": {
      "displayName": "Hugues Hansen",
      "userId": "06507793026638313555"
     },
     "user_tz": -60
    },
    "id": "7aadae66-a87c-4bc0-b4c5-5bc4001ea36f"
   },
   "outputs": [],
   "source": [
    "# Séparer les variables explicatives (X) et la variable cible (y)\n",
    "X = base.drop(\"TARGET\", axis=1)\n",
    "y = base[\"TARGET\"]\n",
    "\n",
    "\n"
   ]
  },
  {
   "cell_type": "code",
   "execution_count": 6,
   "id": "2eded73f-1548-4e31-8413-d36c34ead49e",
   "metadata": {
    "colab": {
     "base_uri": "https://localhost:8080/"
    },
    "executionInfo": {
     "elapsed": 10407,
     "status": "ok",
     "timestamp": 1679413592822,
     "user": {
      "displayName": "Hugues Hansen",
      "userId": "06507793026638313555"
     },
     "user_tz": -60
    },
    "id": "2eded73f-1548-4e31-8413-d36c34ead49e",
    "outputId": "daa3ce50-767b-4f9e-fa02-02065d57c321"
   },
   "outputs": [
    {
     "name": "stdout",
     "output_type": "stream",
     "text": [
      "(307511, 261)\n"
     ]
    }
   ],
   "source": [
    "# scaler \n",
    "col_names=X.select_dtypes(include='number').columns.tolist()\n",
    "features = X[col_names]\n",
    "scaler = StandardScaler().fit(features.values)\n",
    "features_scale = scaler.transform(features.values)\n",
    "X[col_names] = features_scale\n",
    "print (X.shape) \n",
    "del features\n",
    "del features_scale"
   ]
  },
  {
   "cell_type": "code",
   "execution_count": null,
   "id": "c5e06395-aa30-4107-9c5c-7f783de12ba2",
   "metadata": {
    "executionInfo": {
     "elapsed": 17,
     "status": "ok",
     "timestamp": 1679413592824,
     "user": {
      "displayName": "Hugues Hansen",
      "userId": "06507793026638313555"
     },
     "user_tz": -60
    },
    "id": "c5e06395-aa30-4107-9c5c-7f783de12ba2",
    "tags": []
   },
   "outputs": [],
   "source": []
  },
  {
   "cell_type": "code",
   "execution_count": 7,
   "id": "e741f79e",
   "metadata": {
    "executionInfo": {
     "elapsed": 15,
     "status": "ok",
     "timestamp": 1679413592825,
     "user": {
      "displayName": "Hugues Hansen",
      "userId": "06507793026638313555"
     },
     "user_tz": -60
    },
    "id": "e741f79e"
   },
   "outputs": [],
   "source": [
    "# Améliore l'affichage des DataFrame de résultats. \n",
    "pd.set_option('display.max_rows', None)\n",
    "pd.set_option('display.max_columns', None)\n",
    "pd.set_option('display.width', None)\n",
    "pd.set_option('display.max_colwidth', -1)"
   ]
  },
  {
   "cell_type": "markdown",
   "id": "2b2b3a0e-3103-47e1-b1f5-13968cda5fd5",
   "metadata": {},
   "source": [
    "# Evidently"
   ]
  },
  {
   "cell_type": "code",
   "execution_count": 8,
   "id": "948317c8-df22-4bec-bddc-d89146fae17c",
   "metadata": {},
   "outputs": [
    {
     "name": "stdout",
     "output_type": "stream",
     "text": [
      "Defaulting to user installation because normal site-packages is not writeable\n",
      "Collecting evidently\n",
      "  Downloading evidently-0.2.8-py3-none-any.whl (12.1 MB)\n",
      "     ---------------------------------------- 12.1/12.1 MB 1.1 MB/s eta 0:00:00\n",
      "Requirement already satisfied: numpy>=1.19.5 in c:\\users\\hugues\\appdata\\roaming\\python\\python310\\site-packages (from evidently) (1.22.3)\n",
      "Requirement already satisfied: requests>=2.19.0 in c:\\users\\hugues\\appdata\\roaming\\python\\python310\\site-packages (from evidently) (2.28.2)\n",
      "Requirement already satisfied: scikit-learn>=0.24.0 in c:\\users\\hugues\\appdata\\roaming\\python\\python310\\site-packages (from evidently) (1.1.1)\n",
      "Requirement already satisfied: statsmodels>=0.12.2 in c:\\users\\hugues\\appdata\\roaming\\python\\python310\\site-packages (from evidently) (0.13.2)\n",
      "Collecting plotly>=5.5.0\n",
      "  Downloading plotly-5.14.0-py2.py3-none-any.whl (15.3 MB)\n",
      "     -------------------------------------- 15.3/15.3 MB 930.8 kB/s eta 0:00:00\n",
      "Collecting PyYAML>=5.1\n",
      "  Using cached PyYAML-6.0-cp310-cp310-win_amd64.whl (151 kB)\n",
      "Collecting pydantic<2\n",
      "  Downloading pydantic-1.10.7-cp310-cp310-win_amd64.whl (2.1 MB)\n",
      "     ---------------------------------------- 2.1/2.1 MB 963.6 kB/s eta 0:00:00\n",
      "Collecting nltk>=3.6.7\n",
      "  Using cached nltk-3.8.1-py3-none-any.whl (1.5 MB)\n",
      "Requirement already satisfied: scipy>=1.5.4 in c:\\users\\hugues\\appdata\\roaming\\python\\python310\\site-packages (from evidently) (1.8.0)\n",
      "Requirement already satisfied: pandas>=1.3.5 in c:\\users\\hugues\\appdata\\roaming\\python\\python310\\site-packages (from evidently) (1.4.2)\n",
      "Requirement already satisfied: click in c:\\users\\hugues\\appdata\\roaming\\python\\python310\\site-packages (from nltk>=3.6.7->evidently) (8.1.3)\n",
      "Collecting regex>=2021.8.3\n",
      "  Downloading regex-2023.3.23-cp310-cp310-win_amd64.whl (267 kB)\n",
      "     -------------------------------------- 267.9/267.9 kB 1.2 MB/s eta 0:00:00\n",
      "Requirement already satisfied: tqdm in c:\\users\\hugues\\appdata\\roaming\\python\\python310\\site-packages (from nltk>=3.6.7->evidently) (4.64.1)\n",
      "Requirement already satisfied: joblib in c:\\users\\hugues\\appdata\\roaming\\python\\python310\\site-packages (from nltk>=3.6.7->evidently) (1.2.0)\n",
      "Requirement already satisfied: python-dateutil>=2.8.1 in c:\\users\\hugues\\appdata\\roaming\\python\\python310\\site-packages (from pandas>=1.3.5->evidently) (2.8.2)\n",
      "Requirement already satisfied: pytz>=2020.1 in c:\\users\\hugues\\appdata\\roaming\\python\\python310\\site-packages (from pandas>=1.3.5->evidently) (2021.3)\n",
      "Requirement already satisfied: packaging in c:\\users\\hugues\\appdata\\roaming\\python\\python310\\site-packages (from plotly>=5.5.0->evidently) (21.3)\n",
      "Collecting tenacity>=6.2.0\n",
      "  Using cached tenacity-8.2.2-py3-none-any.whl (24 kB)\n",
      "Requirement already satisfied: typing-extensions>=4.2.0 in c:\\users\\hugues\\appdata\\roaming\\python\\python310\\site-packages (from pydantic<2->evidently) (4.4.0)\n",
      "Requirement already satisfied: charset-normalizer<4,>=2 in c:\\users\\hugues\\appdata\\roaming\\python\\python310\\site-packages (from requests>=2.19.0->evidently) (2.0.12)\n",
      "Requirement already satisfied: urllib3<1.27,>=1.21.1 in c:\\users\\hugues\\appdata\\roaming\\python\\python310\\site-packages (from requests>=2.19.0->evidently) (1.26.9)\n",
      "Requirement already satisfied: certifi>=2017.4.17 in c:\\users\\hugues\\appdata\\roaming\\python\\python310\\site-packages (from requests>=2.19.0->evidently) (2021.10.8)\n",
      "Requirement already satisfied: idna<4,>=2.5 in c:\\users\\hugues\\appdata\\roaming\\python\\python310\\site-packages (from requests>=2.19.0->evidently) (3.3)\n",
      "Requirement already satisfied: threadpoolctl>=2.0.0 in c:\\users\\hugues\\appdata\\roaming\\python\\python310\\site-packages (from scikit-learn>=0.24.0->evidently) (3.1.0)\n",
      "Requirement already satisfied: patsy>=0.5.2 in c:\\users\\hugues\\appdata\\roaming\\python\\python310\\site-packages (from statsmodels>=0.12.2->evidently) (0.5.2)\n",
      "Requirement already satisfied: pyparsing!=3.0.5,>=2.0.2 in c:\\users\\hugues\\appdata\\roaming\\python\\python310\\site-packages (from packaging->plotly>=5.5.0->evidently) (3.0.7)\n",
      "Requirement already satisfied: six in c:\\users\\hugues\\appdata\\roaming\\python\\python310\\site-packages (from patsy>=0.5.2->statsmodels>=0.12.2->evidently) (1.16.0)\n",
      "Requirement already satisfied: colorama in c:\\users\\hugues\\appdata\\roaming\\python\\python310\\site-packages (from click->nltk>=3.6.7->evidently) (0.4.4)\n",
      "Installing collected packages: tenacity, regex, PyYAML, pydantic, plotly, nltk, evidently\n",
      "Successfully installed PyYAML-6.0 evidently-0.2.8 nltk-3.8.1 plotly-5.14.0 pydantic-1.10.7 regex-2023.3.23 tenacity-8.2.2\n"
     ]
    },
    {
     "name": "stderr",
     "output_type": "stream",
     "text": [
      "  WARNING: The script nltk.exe is installed in 'C:\\Users\\Hugues\\AppData\\Roaming\\Python\\Python310\\Scripts' which is not on PATH.\n",
      "  Consider adding this directory to PATH or, if you prefer to suppress this warning, use --no-warn-script-location.\n",
      "C:\\Users\\Hugues\\AppData\\Roaming\\Python\\Python310\\site-packages\\evidently\\analyzers\\__init__.py:3: UserWarning: analyzers are deprecated, use metrics instead\n",
      "  warnings.warn(\"analyzers are deprecated, use metrics instead\")\n",
      "C:\\Users\\Hugues\\AppData\\Roaming\\Python\\Python310\\site-packages\\evidently\\dashboard\\__init__.py:8: UserWarning: dashboards are deprecated, use metrics instead\n",
      "  warnings.warn(\"dashboards are deprecated, use metrics instead\")\n"
     ]
    }
   ],
   "source": [
    "!pip install evidently\n",
    "from evidently.dashboard import Dashboard"
   ]
  },
  {
   "cell_type": "code",
   "execution_count": 9,
   "id": "81b7c6f1-e303-48ce-96a2-a6eea866485a",
   "metadata": {},
   "outputs": [
    {
     "ename": "NameError",
     "evalue": "name 'test_data' is not defined",
     "output_type": "error",
     "traceback": [
      "\u001b[1;31m---------------------------------------------------------------------------\u001b[0m",
      "\u001b[1;31mNameError\u001b[0m                                 Traceback (most recent call last)",
      "Input \u001b[1;32mIn [9]\u001b[0m, in \u001b[0;36m<cell line: 2>\u001b[1;34m()\u001b[0m\n\u001b[0;32m      1\u001b[0m \u001b[38;5;66;03m# créer un rapport de drift de données\u001b[39;00m\n\u001b[1;32m----> 2\u001b[0m drift_report \u001b[38;5;241m=\u001b[39m Dashboard(\u001b[43mtest_data\u001b[49m, production_data, summary_type\u001b[38;5;241m=\u001b[39m\u001b[38;5;124m'\u001b[39m\u001b[38;5;124mdrift\u001b[39m\u001b[38;5;124m'\u001b[39m)\n\u001b[0;32m      3\u001b[0m \u001b[38;5;66;03m# afficher le rapport\u001b[39;00m\n\u001b[0;32m      4\u001b[0m drift_report\u001b[38;5;241m.\u001b[39mshow()\n",
      "\u001b[1;31mNameError\u001b[0m: name 'test_data' is not defined"
     ]
    }
   ],
   "source": [
    "# créer un rapport de drift de données\n",
    "drift_report = Dashboard(test_data, production_data, summary_type='drift')\n",
    "# afficher le rapport\n",
    "drift_report.show()"
   ]
  },
  {
   "cell_type": "code",
   "execution_count": null,
   "id": "163653e3-cd72-455d-a932-8af32040f2c7",
   "metadata": {
    "colab": {
     "base_uri": "https://localhost:8080/",
     "height": 74
    },
    "executionInfo": {
     "elapsed": 10521,
     "status": "ok",
     "timestamp": 1679413603333,
     "user": {
      "displayName": "Hugues Hansen",
      "userId": "06507793026638313555"
     },
     "user_tz": -60
    },
    "id": "3ohf4ulLOOIz",
    "outputId": "2071e4cd-c190-44a4-c478-74ccb44cffb8",
    "tags": []
   },
   "outputs": [],
   "source": [
    "X_train, X_test, y_train, y_test = train_test_split(X, y, test_size=0.2)\n",
    "X_resampled, y_resampled = RandomUnderSampler(random_state=22).fit_resample(X_train,y_train)\n",
    "# entraînez votre modèle\n",
    "#model = xgboost.train({\"learning_rate\": 0.01}, xgboost.DMatrix(X_train, label=y_train), 100)\n",
    "#model = DecisionTreeClassifier(random_state=22, max_depth = 3, min_samples_leaf = 2)\n",
    "model = RandomForestClassifier(n_estimators=10, random_state=22)\n",
    "model.fit(X_resampled,y_resampled)\n",
    "\n",
    "\n"
   ]
  },
  {
   "cell_type": "code",
   "execution_count": null,
   "id": "449e9893-83e0-456c-940f-6bf1b659afa8",
   "metadata": {
    "tags": []
   },
   "outputs": [],
   "source": [
    "    "
   ]
  },
  {
   "cell_type": "markdown",
   "id": "f5e80281-1b69-425a-a73a-191c23fcdc9b",
   "metadata": {
    "id": "f5e80281-1b69-425a-a73a-191c23fcdc9b"
   },
   "source": [
    "# "
   ]
  }
 ],
 "metadata": {
  "colab": {
   "provenance": [
    {
     "file_id": "1Jt7PiO9zRBoNGlNKSwcQjEsl9iIAL951",
     "timestamp": 1679311336338
    },
    {
     "file_id": "1SGZ4mvrsrO3TDJ09fHbiDpTiAaYwFevg",
     "timestamp": 1679307281408
    }
   ],
   "toc_visible": true
  },
  "kernelspec": {
   "display_name": "Python 3 (ipykernel)",
   "language": "python",
   "name": "python3"
  },
  "language_info": {
   "codemirror_mode": {
    "name": "ipython",
    "version": 3
   },
   "file_extension": ".py",
   "mimetype": "text/x-python",
   "name": "python",
   "nbconvert_exporter": "python",
   "pygments_lexer": "ipython3",
   "version": "3.10.10"
  },
  "toc-autonumbering": true,
  "toc-showcode": false,
  "toc-showmarkdowntxt": false,
  "toc-showtags": true,
  "widgets": {
   "application/vnd.jupyter.widget-state+json": {
    "state": {},
    "version_major": 2,
    "version_minor": 0
   }
  }
 },
 "nbformat": 4,
 "nbformat_minor": 5
}
