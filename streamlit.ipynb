{
 "cells": [
  {
   "cell_type": "markdown",
   "id": "530cc79d-7655-4802-a839-52d871672f83",
   "metadata": {
    "id": "530cc79d-7655-4802-a839-52d871672f83"
   },
   "source": [
    "## ToDo : "
   ]
  },
  {
   "cell_type": "code",
   "execution_count": 1,
   "id": "9f2e5131",
   "metadata": {
    "executionInfo": {
     "elapsed": 2518,
     "status": "ok",
     "timestamp": 1679305496327,
     "user": {
      "displayName": "Hugues Hansen",
      "userId": "06507793026638313555"
     },
     "user_tz": -60
    },
    "id": "9f2e5131"
   },
   "outputs": [],
   "source": [
    "# Importer les bibliothèques nécessaires\n",
    "\n",
    "import pandas as pd\n",
    "from sklearn.model_selection import GridSearchCV\n",
    "from sklearn.dummy import DummyClassifier\n",
    "from sklearn.linear_model import LogisticRegression\n",
    "from sklearn.tree import DecisionTreeClassifier\n",
    "from sklearn.ensemble import RandomForestClassifier\n",
    "from xgboost import XGBClassifier\n",
    "from sklearn.naive_bayes import GaussianNB\n",
    "from sklearn.metrics import roc_auc_score, confusion_matrix,accuracy_score\n",
    "import numpy as np\n",
    "import pandas as pd\n",
    "import gc\n",
    "import time\n",
    "from contextlib import contextmanager\n",
    "import lightgbm as lgb\n",
    "from lightgbm import LGBMClassifier\n",
    "from sklearn.metrics import roc_auc_score, roc_curve\n",
    "from sklearn.ensemble import RandomForestClassifier\n",
    "from sklearn.ensemble import HistGradientBoostingClassifier\n",
    "from sklearn.model_selection import KFold, StratifiedKFold\n",
    "from sklearn.pipeline import Pipeline\n",
    "from sklearn.preprocessing import StandardScaler\n",
    "import matplotlib.pyplot as plt\n",
    "import seaborn as sns\n",
    "import warnings\n",
    "warnings.simplefilter(action='ignore', category=FutureWarning)\n",
    "import missingno as msno\n",
    "import numpy as np\n",
    "from sklearn.impute import SimpleImputer\n",
    "from sklearn.experimental import enable_iterative_imputer\n",
    "from sklearn.impute import IterativeImputer\n",
    "from sklearn.impute import KNNImputer\n",
    "import seaborn as sns\n",
    "import matplotlib.pyplot as plt\n",
    "from sklearn.metrics import ConfusionMatrixDisplay\n",
    "import seaborn as sns\n",
    "import imblearn as imb\n",
    "from imblearn.over_sampling import RandomOverSampler\n",
    "from imblearn.under_sampling import RandomUnderSampler\n",
    "from imblearn.combine import SMOTETomek\n",
    "from sklearn.metrics import auc\n",
    "from sklearn.model_selection import train_test_split\n",
    "from sklearn.metrics import make_scorer\n",
    "from imblearn import FunctionSampler\n",
    "from sklearn.preprocessing import StandardScaler\n",
    "from sklearn.pipeline import Pipeline"
   ]
  },
  {
   "cell_type": "code",
   "execution_count": 2,
   "id": "fe044698",
   "metadata": {
    "executionInfo": {
     "elapsed": 878,
     "status": "ok",
     "timestamp": 1679305497191,
     "user": {
      "displayName": "Hugues Hansen",
      "userId": "06507793026638313555"
     },
     "user_tz": -60
    },
    "id": "fe044698"
   },
   "outputs": [
    {
     "name": "stderr",
     "output_type": "stream",
     "text": [
      "C:\\Users\\Hugues\\AppData\\Roaming\\Python\\Python310\\site-packages\\tqdm\\auto.py:22: TqdmWarning: IProgress not found. Please update jupyter and ipywidgets. See https://ipywidgets.readthedocs.io/en/stable/user_install.html\n",
      "  from .autonotebook import tqdm as notebook_tqdm\n"
     ]
    }
   ],
   "source": [
    "#!pip install shap\n",
    "import shap"
   ]
  },
  {
   "cell_type": "code",
   "execution_count": 3,
   "id": "a24b06ad",
   "metadata": {
    "colab": {
     "base_uri": "https://localhost:8080/"
    },
    "executionInfo": {
     "elapsed": 8132,
     "status": "ok",
     "timestamp": 1679305505319,
     "user": {
      "displayName": "Hugues Hansen",
      "userId": "06507793026638313555"
     },
     "user_tz": -60
    },
    "id": "a24b06ad",
    "outputId": "9e7a1b2f-ddd3-44cb-c293-ea16f74d3299"
   },
   "outputs": [],
   "source": [
    "try:\n",
    "    from google.colab import drive\n",
    "    drive.mount('/content/drive')\n",
    "    base=pd.read_csv(\"/content/drive/MyDrive/Notebooks/P7/basep7.csv\")\n",
    "        \n",
    "except ModuleNotFoundError :\n",
    "    \n",
    "    base = pd.read_csv(\"basep7.csv\")\n",
    "    \n",
    "base = base.drop( columns = ['Unnamed: 0'])"
   ]
  },
  {
   "cell_type": "code",
   "execution_count": null,
   "id": "6b63ae57-3e8b-4296-b2f7-ed1f4080cc66",
   "metadata": {},
   "outputs": [],
   "source": []
  },
  {
   "cell_type": "code",
   "execution_count": null,
   "id": "1c7508ed-4690-4962-8098-55c6ba5a16f3",
   "metadata": {},
   "outputs": [],
   "source": []
  },
  {
   "cell_type": "code",
   "execution_count": 4,
   "id": "9a90ebe0",
   "metadata": {
    "colab": {
     "base_uri": "https://localhost:8080/"
    },
    "executionInfo": {
     "elapsed": 1514,
     "status": "ok",
     "timestamp": 1679305506825,
     "user": {
      "displayName": "Hugues Hansen",
      "userId": "06507793026638313555"
     },
     "user_tz": -60
    },
    "id": "9a90ebe0",
    "outputId": "af3b12b1-f2df-4f59-dc9a-8299ab6c248f"
   },
   "outputs": [
    {
     "name": "stdout",
     "output_type": "stream",
     "text": [
      "(307511, 122)\n",
      "(307511, 262)\n"
     ]
    }
   ],
   "source": [
    "# one_hot_encoder classique pour les non numériques\n",
    "def one_hot_encoder(base, nan_as_category = True):\n",
    "    original_columns = list(base.columns)\n",
    "    categorical_columns = [col for col in base.columns if base[col].dtype == 'object']\n",
    "    base2 = pd.get_dummies(base, columns= categorical_columns, dummy_na= True)\n",
    "    new_columns = [c for c in base.columns if c not in original_columns]\n",
    "    return base2\n",
    "print (base.shape)\n",
    "base2 =one_hot_encoder(base)\n",
    "print (base2.shape)\n",
    "base = base2\n",
    "del base2"
   ]
  },
  {
   "cell_type": "code",
   "execution_count": 5,
   "id": "95b1f4fe-9a96-4d9e-8ed7-fcc2ac13becf",
   "metadata": {
    "executionInfo": {
     "elapsed": 337,
     "status": "ok",
     "timestamp": 1679305507160,
     "user": {
      "displayName": "Hugues Hansen",
      "userId": "06507793026638313555"
     },
     "user_tz": -60
    },
    "id": "95b1f4fe-9a96-4d9e-8ed7-fcc2ac13becf"
   },
   "outputs": [],
   "source": [
    "# Remplacer les valeurs manquantes par la moyenne de la colonne\n",
    "base = base.fillna(base.mean())"
   ]
  },
  {
   "cell_type": "code",
   "execution_count": 6,
   "id": "7aadae66-a87c-4bc0-b4c5-5bc4001ea36f",
   "metadata": {
    "executionInfo": {
     "elapsed": 6,
     "status": "ok",
     "timestamp": 1679305507161,
     "user": {
      "displayName": "Hugues Hansen",
      "userId": "06507793026638313555"
     },
     "user_tz": -60
    },
    "id": "7aadae66-a87c-4bc0-b4c5-5bc4001ea36f"
   },
   "outputs": [],
   "source": [
    "# Séparer les variables explicatives (X) et la variable cible (y)\n",
    "X = base.drop(\"TARGET\", axis=1)\n",
    "y = base[\"TARGET\"]\n",
    "\n",
    "\n"
   ]
  },
  {
   "cell_type": "code",
   "execution_count": 7,
   "id": "2eded73f-1548-4e31-8413-d36c34ead49e",
   "metadata": {
    "colab": {
     "base_uri": "https://localhost:8080/"
    },
    "executionInfo": {
     "elapsed": 5317,
     "status": "ok",
     "timestamp": 1679305512473,
     "user": {
      "displayName": "Hugues Hansen",
      "userId": "06507793026638313555"
     },
     "user_tz": -60
    },
    "id": "2eded73f-1548-4e31-8413-d36c34ead49e",
    "outputId": "27d58ec5-d499-40a6-9d06-4372c80e2650"
   },
   "outputs": [
    {
     "name": "stdout",
     "output_type": "stream",
     "text": [
      "(307511, 261)\n"
     ]
    }
   ],
   "source": [
    "# scaler \n",
    "col_names=X.select_dtypes(include='number').columns.tolist()\n",
    "features = X[col_names]\n",
    "scaler = StandardScaler().fit(features.values)\n",
    "features_scale = scaler.transform(features.values)\n",
    "X[col_names] = features_scale\n",
    "print (X.shape) \n",
    "del features\n",
    "del features_scale"
   ]
  },
  {
   "cell_type": "code",
   "execution_count": null,
   "id": "c5e06395-aa30-4107-9c5c-7f783de12ba2",
   "metadata": {
    "executionInfo": {
     "elapsed": 12,
     "status": "ok",
     "timestamp": 1679305512475,
     "user": {
      "displayName": "Hugues Hansen",
      "userId": "06507793026638313555"
     },
     "user_tz": -60
    },
    "id": "c5e06395-aa30-4107-9c5c-7f783de12ba2",
    "tags": []
   },
   "outputs": [],
   "source": []
  },
  {
   "cell_type": "code",
   "execution_count": 8,
   "id": "e741f79e",
   "metadata": {
    "executionInfo": {
     "elapsed": 9,
     "status": "ok",
     "timestamp": 1679305512475,
     "user": {
      "displayName": "Hugues Hansen",
      "userId": "06507793026638313555"
     },
     "user_tz": -60
    },
    "id": "e741f79e"
   },
   "outputs": [],
   "source": [
    "# Améliore l'affichage des DataFrame de résultats. \n",
    "pd.set_option('display.max_rows', None)\n",
    "pd.set_option('display.max_columns', None)\n",
    "pd.set_option('display.width', None)\n",
    "pd.set_option('display.max_colwidth', -1)"
   ]
  },
  {
   "cell_type": "markdown",
   "id": "736b6bc1-d2c5-422d-91fc-47c5a36f2f5d",
   "metadata": {
    "id": "736b6bc1-d2c5-422d-91fc-47c5a36f2f5d",
    "tags": []
   },
   "source": [
    "# fonction shap\n"
   ]
  },
  {
   "cell_type": "code",
   "execution_count": null,
   "id": "qOhcPmFDN8iS",
   "metadata": {
    "executionInfo": {
     "elapsed": 4,
     "status": "aborted",
     "timestamp": 1679318655354,
     "user": {
      "displayName": "Hugues Hansen",
      "userId": "06507793026638313555"
     },
     "user_tz": -60
    },
    "id": "qOhcPmFDN8iS"
   },
   "outputs": [],
   "source": []
  },
  {
   "cell_type": "markdown",
   "id": "f4fe30d8-2c65-400e-a482-003a5329e7ac",
   "metadata": {
    "id": "f4fe30d8-2c65-400e-a482-003a5329e7ac",
    "tags": []
   },
   "source": [
    "# test de base , scorer roc auc"
   ]
  },
  {
   "cell_type": "markdown",
   "id": "b87283b0-5da7-4b58-af28-890cbc154bc4",
   "metadata": {
    "id": "b87283b0-5da7-4b58-af28-890cbc154bc4"
   },
   "source": [
    "# test avec scorer métier "
   ]
  },
  {
   "cell_type": "markdown",
   "id": "8da4bc85-2f1a-4dcd-a06f-0802c4b38c0c",
   "metadata": {
    "id": "8da4bc85-2f1a-4dcd-a06f-0802c4b38c0c"
   },
   "source": [
    "# Shap feature importante"
   ]
  },
  {
   "cell_type": "code",
   "execution_count": null,
   "id": "98660b78-e9e6-4673-8e16-3bba6e012644",
   "metadata": {
    "executionInfo": {
     "elapsed": 13,
     "status": "aborted",
     "timestamp": 1679318655364,
     "user": {
      "displayName": "Hugues Hansen",
      "userId": "06507793026638313555"
     },
     "user_tz": -60
    },
    "id": "98660b78-e9e6-4673-8e16-3bba6e012644"
   },
   "outputs": [],
   "source": [
    "X_train, X_test, y_train, y_test = train_test_split(X, y, test_size=0.2)\n",
    "X_resampled, y_resampled = RandomUnderSampler(random_state=22).fit_resample(X_train,y_train)\n",
    "# entraînez votre modèle\n",
    "#model = xgboost.train({\"learning_rate\": 0.01}, xgboost.DMatrix(X_train, label=y_train), 100)\n",
    "#model = DecisionTreeClassifier(random_state=22, max_depth = 3, min_samples_leaf = 2)\n",
    "model = RandomForestClassifier(n_estimators=100, random_state=0)\n",
    "model.fit(X_resampled,y_resampled)\n",
    "\n",
    "\n",
    "# expliquez les prédictions du modèle avec SHAP\n",
    "\n",
    "#shap_values = shap.TrExplainer(model).shap_values(x_train)\n",
    "#classifier = transformers.pipeline('sentiment-analysis', return_all_scores=True)\n",
    "#classifier(short_data[:2])\n",
    "model.predict_proba(X_train)[:0]\n",
    "\n",
    "explainer = shap.Explainer(model)\n",
    "shap_values = explainer(X_resampled)\n",
    "\n",
    "# visualisez les valeurs de Shapley pour la première observation de test\n",
    "shap.waterfall_plot(explainer.base_values[0], values[0], X[0])\n",
    "\n",
    "#shap.plots.waterfall(shap_values[0])\n",
    "shap.waterfall_plot(explainer.base_values[0], values[0][0], X[0])"
   ]
  },
  {
   "cell_type": "markdown",
   "id": "7ba97234-0d8c-4ca8-acb3-eda183220bd9",
   "metadata": {
    "id": "7ba97234-0d8c-4ca8-acb3-eda183220bd9",
    "tags": []
   },
   "source": [
    "# unbalanced  oversampling score roc auc "
   ]
  },
  {
   "cell_type": "code",
   "execution_count": null,
   "id": "579b7c93-dcc4-4c4f-9949-5c9de82c4b50",
   "metadata": {
    "executionInfo": {
     "elapsed": 13,
     "status": "aborted",
     "timestamp": 1679318655364,
     "user": {
      "displayName": "Hugues Hansen",
      "userId": "06507793026638313555"
     },
     "user_tz": -60
    },
    "id": "579b7c93-dcc4-4c4f-9949-5c9de82c4b50"
   },
   "outputs": [],
   "source": [
    "algos = [ LogisticRegression(random_state=22),DecisionTreeClassifier(random_state=22), RandomForestClassifier(random_state=22), XGBClassifier(random_state=22), GaussianNB(),DummyClassifier()]\n",
    "\n",
    "# Définir une grille de paramètres à optimiser pour chaque algorithme\n",
    "params = [\n",
    "    \n",
    "    {\"C\": [0.01, 0.1, 1, 10], \"penalty\": [\"l1\", \"l2\", \"elasticnet\", None]}, # pour LogisticRegression ‘l1’, ‘l2’, ‘elasticnet’, None\n",
    "    {\"max_depth\": [3, 5, 7], \"min_samples_leaf\": [5, 10, 15]}, # pour DecisionTreeClassifier\n",
    "    {\"n_estimators\": [100, 200], \"max_depth\": [3, 5]}, # pour RandomForestClassifier \n",
    "    {\"n_estimators\": [100, 200], \"learning_rate\": [0.01, 0.1]}, # pour XGBClassifier \n",
    "    {} ,# pas de paramètres à optimiser pour GaussianNB \n",
    "    {\"strategy\": [\"most_frequent\",\"prior\",\"stratified\",\"uniform\"]}, # pour DummyClassifier\n",
    "]\n",
    "\n",
    "cvi =2\n",
    "scorer = \"roc_auc\"\n",
    "\n",
    "X_train, X_test, y_train, y_test = train_test_split(X, y, test_size=0.2)\n",
    "\n",
    "# Apply oversampling\n",
    "ros = RandomOverSampler(random_state=0)\n",
    "X_resampled, y_resampled = ros.fit_resample(X_train,y_train)\n",
    "\n",
    "\n",
    "comp_algos(X_resampled,y_resampled,X_test,y_test,algos,params,cvi,scorer)\n"
   ]
  },
  {
   "cell_type": "markdown",
   "id": "4MYFT_oTcB0B",
   "metadata": {
    "id": "4MYFT_oTcB0B"
   },
   "source": [
    "# Nouvelle section"
   ]
  },
  {
   "cell_type": "markdown",
   "id": "rOwwVwA4cCaB",
   "metadata": {
    "id": "rOwwVwA4cCaB"
   },
   "source": [
    "# Nouvelle section"
   ]
  },
  {
   "cell_type": "markdown",
   "id": "3020c2e0-e45e-4117-8474-d3a67de92c56",
   "metadata": {
    "id": "3020c2e0-e45e-4117-8474-d3a67de92c56"
   },
   "source": [
    "# unbalanced  oversampling score métier 1 "
   ]
  },
  {
   "cell_type": "code",
   "execution_count": null,
   "id": "c2e6f795-5aa2-40a1-ae90-38aa95808843",
   "metadata": {
    "executionInfo": {
     "elapsed": 14,
     "status": "aborted",
     "timestamp": 1679318655365,
     "user": {
      "displayName": "Hugues Hansen",
      "userId": "06507793026638313555"
     },
     "user_tz": -60
    },
    "id": "c2e6f795-5aa2-40a1-ae90-38aa95808843"
   },
   "outputs": [],
   "source": [
    "algos = [ LogisticRegression(random_state=22),DecisionTreeClassifier(random_state=22), RandomForestClassifier(random_state=22), XGBClassifier(random_state=22), GaussianNB(),DummyClassifier()]\n",
    "\n",
    "# Définir une grille de paramètres à optimiser pour chaque algorithme\n",
    "params = [\n",
    "    \n",
    "    {\"C\": [0.01, 0.1, 1, 10], \"penalty\": [\"l1\", \"l2\", \"elasticnet\", None]}, # pour LogisticRegression ‘l1’, ‘l2’, ‘elasticnet’, None\n",
    "    {\"max_depth\": [3, 5, 7], \"min_samples_leaf\": [5, 10, 15]}, # pour DecisionTreeClassifier\n",
    "    {\"n_estimators\": [100, 200], \"max_depth\": [3, 5]}, # pour RandomForestClassifier \n",
    "    {\"n_estimators\": [100, 200], \"learning_rate\": [0.01, 0.1]}, # pour XGBClassifier \n",
    "    {} ,# pas de paramètres à optimiser pour GaussianNB \n",
    "    {\"strategy\": [\"most_frequent\",\"prior\",\"stratified\",\"uniform\"]}, # pour DummyClassifier\n",
    "]\n",
    "\n",
    "cvi =2\n",
    "\n",
    "def custom_score_func(y_true, y_pred):\n",
    "    tn, fp, fn, tp = confusion_matrix(y_true, y_pred).ravel()\n",
    "    score = tp + tn - fp -( 10 * fn)\n",
    "    #score 2 tp + (10 * tn )- fp -(10 * fn)\n",
    "    return score\n",
    "\n",
    "# Création du scorer personnalisé\n",
    "scorer = make_scorer(custom_score_func)\n",
    "\n",
    "X_train, X_test, y_train, y_test = train_test_split(X, y, test_size=0.2)\n",
    "\n",
    "# Apply oversampling\n",
    "ros = RandomOverSampler(random_state=0)\n",
    "X_resampled, y_resampled = ros.fit_resample(X_train,y_train)\n",
    "\n",
    "\n",
    "#comp_algos(X_resampled,y_resampled,X_test,y_test,algos,params,cvi,scorer)\n",
    "comp_algos(X,y,algos,params,cvi,scorer,sampling)"
   ]
  },
  {
   "cell_type": "markdown",
   "id": "8e1686bc-7e34-45aa-954f-c8f396ba1095",
   "metadata": {
    "id": "8e1686bc-7e34-45aa-954f-c8f396ba1095"
   },
   "source": [
    "# undersampling  roc auc"
   ]
  },
  {
   "cell_type": "code",
   "execution_count": null,
   "id": "56ff538f-6d2c-4ee1-b4b5-6e39ba985196",
   "metadata": {
    "executionInfo": {
     "elapsed": 14,
     "status": "aborted",
     "timestamp": 1679318655365,
     "user": {
      "displayName": "Hugues Hansen",
      "userId": "06507793026638313555"
     },
     "user_tz": -60
    },
    "id": "56ff538f-6d2c-4ee1-b4b5-6e39ba985196"
   },
   "outputs": [],
   "source": [
    "algos = [ LogisticRegression(random_state=22),DecisionTreeClassifier(random_state=22), RandomForestClassifier(random_state=22), XGBClassifier(random_state=22), GaussianNB(),DummyClassifier()]\n",
    "\n",
    "# Définir une grille de paramètres à optimiser pour chaque algorithme\n",
    "params = [\n",
    "    \n",
    "    {\"C\": [0.01, 0.1, 1, 10], \"penalty\": [\"l1\", \"l2\", \"elasticnet\", None]}, # pour LogisticRegression ‘l1’, ‘l2’, ‘elasticnet’, None\n",
    "    {\"max_depth\": [3, 5, 7], \"min_samples_leaf\": [5, 10, 15]}, # pour DecisionTreeClassifier\n",
    "    {\"n_estimators\": [100, 200], \"max_depth\": [3, 5]}, # pour RandomForestClassifier \n",
    "    {\"n_estimators\": [100, 200], \"learning_rate\": [0.01, 0.1]}, # pour XGBClassifier \n",
    "    {} ,# pas de paramètres à optimiser pour GaussianNB \n",
    "    {\"strategy\": [\"most_frequent\",\"prior\",\"stratified\",\"uniform\"]}, # pour DummyClassifier\n",
    "]\n",
    "\n",
    "cvi =2\n",
    "scorer = \"roc_auc\"\n",
    "\n",
    "X_train, X_test, y_train, y_test = train_test_split(X, y, test_size=0.2)\n",
    "\n",
    "# Apply undersampling\n",
    "rus = RandomUnderSampler(random_state=22)\n",
    "X_resampled, y_resampled = rus.fit_resample(X_train,y_train)\n",
    "\n",
    "\n",
    "comp_algos(X_resampled,y_resampled,X_test,y_test,algos,params,cvi,scorer)"
   ]
  },
  {
   "cell_type": "markdown",
   "id": "00786e2e-3099-4873-a011-56aee4002800",
   "metadata": {
    "id": "00786e2e-3099-4873-a011-56aee4002800"
   },
   "source": [
    "# undersampling score metier 1"
   ]
  },
  {
   "cell_type": "code",
   "execution_count": null,
   "id": "5cef0891-91a3-42f3-b00e-230805c47828",
   "metadata": {
    "executionInfo": {
     "elapsed": 15,
     "status": "aborted",
     "timestamp": 1679318655366,
     "user": {
      "displayName": "Hugues Hansen",
      "userId": "06507793026638313555"
     },
     "user_tz": -60
    },
    "id": "5cef0891-91a3-42f3-b00e-230805c47828"
   },
   "outputs": [],
   "source": [
    "algos = [ LogisticRegression(random_state=22),DecisionTreeClassifier(random_state=22), RandomForestClassifier(random_state=22), XGBClassifier(random_state=22), GaussianNB(),DummyClassifier()]\n",
    "\n",
    "# Définir une grille de paramètres à optimiser pour chaque algorithme\n",
    "params = [\n",
    "    \n",
    "    {\"C\": [0.01, 0.1, 1, 10], \"penalty\": [\"l1\", \"l2\", \"elasticnet\", None]}, # pour LogisticRegression ‘l1’, ‘l2’, ‘elasticnet’, None\n",
    "    {\"max_depth\": [3, 5, 7], \"min_samples_leaf\": [5, 10, 15]}, # pour DecisionTreeClassifier\n",
    "    {\"n_estimators\": [100, 200], \"max_depth\": [3, 5]}, # pour RandomForestClassifier \n",
    "    {\"n_estimators\": [100, 200], \"learning_rate\": [0.01, 0.1]}, # pour XGBClassifier \n",
    "    {} ,# pas de paramètres à optimiser pour GaussianNB \n",
    "    {\"strategy\": [\"most_frequent\",\"prior\",\"stratified\",\"uniform\"]}, # pour DummyClassifier\n",
    "]\n",
    "\n",
    "cvi =2\n",
    "\n",
    "def custom_score_func(y_true, y_pred):\n",
    "    tn, fp, fn, tp = confusion_matrix(y_true, y_pred).ravel()\n",
    "    score = tp + tn - fp -( 10 * fn)\n",
    "    #score 2 tp + (10 * tn )- fp -(10 * fn)\n",
    "    return score\n",
    "\n",
    "# Création du scorer personnalisé\n",
    "scorer = make_scorer(custom_score_func)\n",
    "\n",
    "X_train, X_test, y_train, y_test = train_test_split(X, y, test_size=0.2)\n",
    "\n",
    "# Apply undersampling\n",
    "rus = RandomUnderSampler(random_state=0)\n",
    "X_resampled, y_resampled = rus.fit_resample(X_train,y_train)\n",
    "\n",
    "\n",
    "comp_algos(X_resampled,y_resampled,X_test,y_test,algos,params,cvi,scorer)"
   ]
  },
  {
   "cell_type": "markdown",
   "id": "54c718cd-fb69-4cc9-b0a6-f19a78320fae",
   "metadata": {
    "id": "54c718cd-fb69-4cc9-b0a6-f19a78320fae"
   },
   "source": [
    "# Unbalanced SMOTE roc auc"
   ]
  },
  {
   "cell_type": "code",
   "execution_count": null,
   "id": "302bb835-3868-4ec9-8165-689997bd54d0",
   "metadata": {
    "executionInfo": {
     "elapsed": 15,
     "status": "aborted",
     "timestamp": 1679318655366,
     "user": {
      "displayName": "Hugues Hansen",
      "userId": "06507793026638313555"
     },
     "user_tz": -60
    },
    "id": "302bb835-3868-4ec9-8165-689997bd54d0"
   },
   "outputs": [],
   "source": [
    "algos = [ LogisticRegression(random_state=22),DecisionTreeClassifier(random_state=22), RandomForestClassifier(random_state=22), XGBClassifier(random_state=22), GaussianNB(),DummyClassifier()]\n",
    "\n",
    "# Définir une grille de paramètres à optimiser pour chaque algorithme\n",
    "params = [\n",
    "    \n",
    "    {\"C\": [0.01, 0.1, 1, 10], \"penalty\": [\"l1\", \"l2\", \"elasticnet\", None]}, # pour LogisticRegression ‘l1’, ‘l2’, ‘elasticnet’, None\n",
    "    {\"max_depth\": [3, 5, 7], \"min_samples_leaf\": [5, 10, 15]}, # pour DecisionTreeClassifier\n",
    "    {\"n_estimators\": [100, 200], \"max_depth\": [3, 5]}, # pour RandomForestClassifier \n",
    "    {\"n_estimators\": [100, 200], \"learning_rate\": [0.01, 0.1]}, # pour XGBClassifier \n",
    "    {} ,# pas de paramètres à optimiser pour GaussianNB \n",
    "    {\"strategy\": [\"most_frequent\",\"prior\",\"stratified\",\"uniform\"]}, # pour DummyClassifier\n",
    "]\n",
    "\n",
    "cvi =2\n",
    "scorer = \"roc_auc\"\n",
    "\n",
    "X_train, X_test, y_train, y_test = train_test_split(X, y, test_size=0.2)\n",
    "\n",
    "# Apply SMOTE\n",
    "smote = SMOTETomek(random_state=0)\n",
    "X_resampled, y_resampled = smote.fit_resample(X_train,y_train)\n",
    "\n",
    "comp_algos(X_resampled,y_resampled,X_test,y_test,algos,params,cvi,scorer)"
   ]
  },
  {
   "cell_type": "code",
   "execution_count": null,
   "id": "nuavIJmpBiU0",
   "metadata": {
    "executionInfo": {
     "elapsed": 16,
     "status": "aborted",
     "timestamp": 1679318655367,
     "user": {
      "displayName": "Hugues Hansen",
      "userId": "06507793026638313555"
     },
     "user_tz": -60
    },
    "id": "nuavIJmpBiU0"
   },
   "outputs": [],
   "source": [
    "from google.colab import drive\n",
    "drive.mount('/content/drive')"
   ]
  },
  {
   "cell_type": "markdown",
   "id": "c9cfd134-4a4b-477a-8edd-44be0e35efb3",
   "metadata": {
    "id": "c9cfd134-4a4b-477a-8edd-44be0e35efb3"
   },
   "source": [
    "# Unbalanced SMOTE métier 1"
   ]
  },
  {
   "cell_type": "code",
   "execution_count": null,
   "id": "0b5e6c82-1e18-4cea-97ea-e5989ad29c2b",
   "metadata": {
    "executionInfo": {
     "elapsed": 16,
     "status": "aborted",
     "timestamp": 1679318655367,
     "user": {
      "displayName": "Hugues Hansen",
      "userId": "06507793026638313555"
     },
     "user_tz": -60
    },
    "id": "0b5e6c82-1e18-4cea-97ea-e5989ad29c2b"
   },
   "outputs": [],
   "source": [
    "algos = [ LogisticRegression(random_state=22),DecisionTreeClassifier(random_state=22), RandomForestClassifier(random_state=22), XGBClassifier(random_state=22), GaussianNB(),DummyClassifier()]\n",
    "\n",
    "# Définir une grille de paramètres à optimiser pour chaque algorithme\n",
    "params = [\n",
    "    \n",
    "    {\"C\": [0.01, 0.1, 1, 10], \"penalty\": [\"l1\", \"l2\", \"elasticnet\", None]}, # pour LogisticRegression ‘l1’, ‘l2’, ‘elasticnet’, None\n",
    "    {\"max_depth\": [3, 5, 7], \"min_samples_leaf\": [5, 10, 15]}, # pour DecisionTreeClassifier\n",
    "    {\"n_estimators\": [100, 200], \"max_depth\": [3, 5]}, # pour RandomForestClassifier \n",
    "    {\"n_estimators\": [100, 200], \"learning_rate\": [0.01, 0.1]}, # pour XGBClassifier \n",
    "    {} ,# pas de paramètres à optimiser pour GaussianNB \n",
    "    {\"strategy\": [\"most_frequent\",\"prior\",\"stratified\",\"uniform\"]}, # pour DummyClassifier\n",
    "]\n",
    "\n",
    "cvi =2\n",
    "\n",
    "def custom_score_func(y_true, y_pred):\n",
    "    tn, fp, fn, tp = confusion_matrix(y_true, y_pred).ravel()\n",
    "    score = tp + tn - fp -( 10 * fn)\n",
    "    #score 2 tp + (10 * tn )- fp -(10 * fn)\n",
    "    return score\n",
    "\n",
    "# Création du scorer personnalisé\n",
    "scorer = make_scorer(custom_score_func)\n",
    "\n",
    "\n",
    "X_train, X_test, y_train, y_test = train_test_split(X, y, test_size=0.2)\n",
    "\n",
    "# Apply SMOTE\n",
    "smote = SMOTETomek(random_state=0)\n",
    "X_resampled, y_resampled = smote.fit_resample(X_train,y_train)\n",
    "\n",
    "comp_algos(X_resampled,y_resampled,X_test,y_test,algos,params,cvi,scorer)"
   ]
  },
  {
   "cell_type": "markdown",
   "id": "f01f8c67-dd40-40fc-b9ca-9da1c16fe16f",
   "metadata": {
    "id": "f01f8c67-dd40-40fc-b9ca-9da1c16fe16f"
   },
   "source": [
    "# individuel"
   ]
  },
  {
   "cell_type": "code",
   "execution_count": null,
   "id": "5eed5ddc",
   "metadata": {
    "executionInfo": {
     "elapsed": 17,
     "status": "aborted",
     "timestamp": 1679318655368,
     "user": {
      "displayName": "Hugues Hansen",
      "userId": "06507793026638313555"
     },
     "user_tz": -60
    },
    "id": "5eed5ddc"
   },
   "outputs": [],
   "source": [
    "#LogisticRegression() {'C': 1, 'penalty': 'l2'} \n",
    "grid = GridSearchCV(estimator=algos[i], param_grid=params[i], scoring=\"roc_auc\", cv=3, refit= True )"
   ]
  },
  {
   "cell_type": "code",
   "execution_count": null,
   "id": "28a51e6a-2856-4e9e-bd86-642e0a5b73ae",
   "metadata": {
    "executionInfo": {
     "elapsed": 18,
     "status": "aborted",
     "timestamp": 1679318655369,
     "user": {
      "displayName": "Hugues Hansen",
      "userId": "06507793026638313555"
     },
     "user_tz": -60
    },
    "id": "28a51e6a-2856-4e9e-bd86-642e0a5b73ae"
   },
   "outputs": [],
   "source": [
    "\n",
    "nsplit = 3\n",
    "    \n",
    "    \n",
    "debut = time.time()\n",
    "\n",
    "\n",
    "\n",
    "estimator = DecisionTreeClassifier(max_depth=7, min_samples_leaf=15)\n",
    "\n",
    "numeric_transformer = Pipeline(steps=[('scaler', StandardScaler())])  \n",
    "\n",
    "clf = Pipeline(steps=[ #('preprocessor', numeric_transformer),\n",
    "                      ('estimator', estimator) ])\n",
    "\n",
    "\n",
    "skf = StratifiedKFold(n_splits=nsplit, shuffle=True,random_state=22 ) \n",
    "\n",
    "\n",
    "for train_index, test_index in skf.split(X, y):\n",
    "    x_train, x_test = X.iloc[train_index] , X.iloc[test_index]\n",
    "    y_train, y_test = y[train_index], y[test_index]\n",
    "    clf.fit(x_train, y_train) \n",
    "\n",
    "    \n",
    "#c faire tourner le prédict\n",
    "pred_y = clf.predict(x_test)\n",
    "score = accuracy_score(y_test,pred_y)\n",
    "print ('accuracy test ',score)\n",
    "roc_auc = roc_auc_score(y_test, pred_y)\n",
    "print ( 'roc_auc_  test ',roc_auc)\n",
    "\n",
    "\n",
    "pred_y_train = clf.predict(x_train)\n",
    "score = accuracy_score(y_train,pred_y_train)\n",
    "print ('accuracy train ',score)\n",
    "roc_auc = roc_auc_score(y_train, pred_y_train)\n",
    "print ( 'roc_auc_  train ',roc_auc)"
   ]
  },
  {
   "cell_type": "code",
   "execution_count": null,
   "id": "3882307b-7b1d-4e11-82a9-36be14d5080b",
   "metadata": {
    "executionInfo": {
     "elapsed": 19,
     "status": "aborted",
     "timestamp": 1679318655370,
     "user": {
      "displayName": "Hugues Hansen",
      "userId": "06507793026638313555"
     },
     "user_tz": -60
    },
    "id": "3882307b-7b1d-4e11-82a9-36be14d5080b"
   },
   "outputs": [],
   "source": [
    "\n",
    "nsplit = 3\n",
    "    \n",
    "    \n",
    "debut = time.time()\n",
    "\n",
    "grid = GridSearchCV(estimator=DecisionTreeClassifier(), \n",
    "                                param_grid={\"max_depth\": [3, 5, 7], \"min_samples_leaf\": [5, 10, 15]}, scoring=\"roc_auc\", cv=3, refit= True )\n",
    "\n",
    "\n",
    "grid.fit(X,y)\n",
    "\n",
    "# Afficher le meilleur score et le meilleur algorithme trouvé par GridSearchCV \n",
    "print(\"Meilleur score:\", grid.best_score_)\n",
    "print(\"Meilleur algorithme:\", grid.best_estimator_)\n",
    "\n",
    "\n"
   ]
  },
  {
   "cell_type": "code",
   "execution_count": null,
   "id": "1d0feedb-7485-4429-8b55-412f9b56a498",
   "metadata": {
    "executionInfo": {
     "elapsed": 19,
     "status": "aborted",
     "timestamp": 1679318655371,
     "user": {
      "displayName": "Hugues Hansen",
      "userId": "06507793026638313555"
     },
     "user_tz": -60
    },
    "id": "1d0feedb-7485-4429-8b55-412f9b56a498"
   },
   "outputs": [],
   "source": [
    "from sklearn.metrics import auc\n",
    "from sklearn.model_selection import train_test_split\n",
    "# Split data into training and test sets\n",
    "X_train, X_test, y_train, y_test = train_test_split(X, y, test_size=0.2)\n",
    "\n",
    "# Fit GridSearchCV on training data\n",
    "grid = GridSearchCV(estimator=DecisionTreeClassifier(), \n",
    "                    param_grid={\"max_depth\": [3, 5, 7], \"min_samples_leaf\": [5, 10, 15]}, \n",
    "                    scoring=\"roc_auc\", cv=3)\n",
    "grid.fit(X_train,y_train)\n",
    "\n",
    "# Make predictions on test data using best_estimator_\n",
    "y_pred = grid.best_estimator_.predict_proba(X_test)[:,1]\n",
    "\n",
    "# Calculate FPR and TPR\n",
    "fpr, tpr, thresholds = roc_curve(y_test,y_pred)\n",
    "\n",
    "# Calculate AUC\n",
    "roc_auc = auc(fpr,tpr)\n",
    "\n",
    "# Plot ROC curve\n",
    "plt.plot(fpr,tpr,label='ROC curve (area = %0.2f)' % roc_auc)\n",
    "plt.plot([0,1],[0,1],'k--')\n",
    "plt.xlabel('False Positive Rate')\n",
    "plt.ylabel('True Positive Rate')\n",
    "plt.title('Receiver Operating Characteristic')\n",
    "plt.legend(loc=\"lower right\")\n",
    "plt.show()"
   ]
  },
  {
   "cell_type": "code",
   "execution_count": null,
   "id": "e20acdf2-d4b2-400e-9a95-005beb58c404",
   "metadata": {
    "executionInfo": {
     "elapsed": 19,
     "status": "aborted",
     "timestamp": 1679318655371,
     "user": {
      "displayName": "Hugues Hansen",
      "userId": "06507793026638313555"
     },
     "user_tz": -60
    },
    "id": "e20acdf2-d4b2-400e-9a95-005beb58c404"
   },
   "outputs": [],
   "source": [
    "grid = GridSearchCV(estimator=DecisionTreeClassifier, param_grid={\"max_depth\": [3, 5, 7], \"min_samples_leaf\": [5, 10, 15]}, scoring=\"roc_auc\", cv=3, refit= True )"
   ]
  },
  {
   "cell_type": "code",
   "execution_count": null,
   "id": "73c2486c-371d-4dbb-86e8-3f49ac61f9ad",
   "metadata": {
    "executionInfo": {
     "elapsed": 20,
     "status": "aborted",
     "timestamp": 1679318655372,
     "user": {
      "displayName": "Hugues Hansen",
      "userId": "06507793026638313555"
     },
     "user_tz": -60
    },
    "id": "73c2486c-371d-4dbb-86e8-3f49ac61f9ad"
   },
   "outputs": [],
   "source": [
    "\n",
    "      \n",
    "    \n",
    "    \n",
    "    \n",
    "\"\"\" Append= pd.DataFrame([['RandomForest' , \n",
    "                        np.around (mean_squared_error(y_test,reg.predict(x_test)),3),\n",
    "                       np.around (mean_squared_error(y_test,reg.predict(x_test),squared=False),3),\n",
    "                      np.around(r2_score(y_test,reg.predict(x_test)),3),\n",
    "                     np.around( mean_absolute_percentage_error(y_test,reg.predict(x_test)),3),\n",
    "                      np.around(r2_score(y_train,reg.predict(x_train)),3) ,\n",
    "                      time.time() - debut]], \n",
    "                     columns=['méthode', 'MSE','RMSE','R2 Test','MA%E','R2 Train','Durée'])\n",
    "    \n",
    "\n",
    "Report = pd.concat([Report, Append]) \n",
    "Report\"\"\" \n",
    "    "
   ]
  },
  {
   "cell_type": "code",
   "execution_count": null,
   "id": "d66672f1-cffd-418e-818b-fb4cdd4cb02d",
   "metadata": {
    "executionInfo": {
     "elapsed": 21,
     "status": "aborted",
     "timestamp": 1679318655373,
     "user": {
      "displayName": "Hugues Hansen",
      "userId": "06507793026638313555"
     },
     "user_tz": -60
    },
    "id": "d66672f1-cffd-418e-818b-fb4cdd4cb02d"
   },
   "outputs": [],
   "source": []
  },
  {
   "cell_type": "code",
   "execution_count": null,
   "id": "6a0e628a",
   "metadata": {
    "executionInfo": {
     "elapsed": 22,
     "status": "aborted",
     "timestamp": 1679318655374,
     "user": {
      "displayName": "Hugues Hansen",
      "userId": "06507793026638313555"
     },
     "user_tz": -60
    },
    "id": "6a0e628a"
   },
   "outputs": [],
   "source": [
    "\n",
    "\n",
    "# Calculer le score roc_auc pour chaque algorithme \n",
    "    roc_aucs = []\n",
    "    for i in range(len(algos)):\n",
    "        roc_aucs.append(roc_auc_score(y_true=y,y_score=probas[:,i]))\n",
    "\n",
    "# Créer un dataframe pandas qui contient les scores roc_auc de chaque algorithme \n",
    "    roc_df = pd.DataFrame({\"Algorithme\": algos,\"ROC_AUC\": roc_aucs})\n",
    "    print(roc_df)\n",
    "\n",
    "# Prédire les classes pour chaque algorithme \n",
    "    preds = grid.predict(X)\n",
    "\n",
    "# Calculer la matrice de confusion pour chaque algorithme \n",
    "    confusions = []\n",
    "    for i in range(len(algos)):\n",
    "        confusions.append(confusion_matrix(y_true=y,y_pred=preds[:,i]))\n",
    "\n",
    "# Créer un dataframe pandas qui contient les matrices de confusion de chaque algorithme \n",
    "    conf_df = pd.DataFrame({\"Algorithme\": algos,\"Confusion Matrix\": confusions})\n",
    "    print(conf_df)"
   ]
  },
  {
   "cell_type": "code",
   "execution_count": null,
   "id": "ea3e7505",
   "metadata": {
    "executionInfo": {
     "elapsed": 23,
     "status": "aborted",
     "timestamp": 1679318655375,
     "user": {
      "displayName": "Hugues Hansen",
      "userId": "06507793026638313555"
     },
     "user_tz": -60
    },
    "id": "ea3e7505"
   },
   "outputs": [],
   "source": [
    "# Importer la bibliothèque Keras Tuner qui permet de faire de l'optimisation bayésienne\n",
    "from kerastuner.tuners import BayesianOptimization\n",
    "\n",
    "# Définir une fonction qui crée un modèle de classification naïve bayésienne avec des hyperparamètres à optimiser\n",
    "def build_model(hp):\n",
    "    # Créer un objet GaussianNB \n",
    "    model = GaussianNB()\n",
    "    # Définir les hyperparamètres à optimiser: le lissage de Laplace (var_smoothing) et le seuil de décision (threshold)\n",
    "    hp_var_smoothing = hp.Float('var_smoothing', 1e-9, 1e-3, sampling='log')\n",
    "    hp_threshold = hp.Float('threshold', 0.0, 1.0)\n",
    "    # Affecter les valeurs des hyperparamètres au modèle \n",
    "    model.var_smoothing = hp_var_smoothing\n",
    "    model.threshold = hp_threshold\n",
    "    # Retourner le modèle \n",
    "    return model\n",
    "\n",
    "# Créer un objet BayesianOptimization qui va comparer les performances du modèle sur les données en utilisant le score roc_auc comme critère d'évaluation \n",
    "tuner = BayesianOptimization(build_model,\n",
    "                             objective='roc_auc',\n",
    "                             max_trials=10,\n",
    "                             executions_per_trial=1)\n",
    "\n",
    "# Lancer la recherche des meilleurs hyperparamètres pour le modèle \n",
    "tuner.search(X,y)\n",
    "\n",
    "# Afficher les meilleurs hyperparamètres trouvés par BayesianOptimization \n",
    "print(\"Meilleurs hyperparamètres:\", tuner.get_best_hyperparameters()[0].values)\n",
    "\n",
    "# Prédire les probabilités des classes pour le modèle optimisé \n",
    "proba_bayes = tuner.predict(X)\n",
    "\n",
    "# Calculer le score roc_auc pour le modèle optimisé \n",
    "roc_auc_bayes = roc_auc_score(y_true=y,y_score=proba_bayes)\n",
    "\n",
    "# Ajouter le score roc_auc du modèle optimisé au dataframe pandas qui contient les scores roc_auc de chaque algorithme \n",
    "roc_df.loc[len(roc_df)] = [\"GaussianNB Optimized\", roc_auc_bayes]\n",
    "print(roc_df)\n",
    "\n",
    "# Prédire les classes pour le modèle optimisé \n",
    "pred_bayes = tuner.predict_classes(X)\n",
    "\n",
    "# Calculer la matrice de confusion pour le modèle optimisé \n",
    "confusion_bayes = confusion_matrix(y_true=y,y_pred=pred_bayes)\n",
    "\n",
    "# Ajouter la matrice de confusion du modèle optimisé au dataframe pandas qui contient les matrices de confusion de chaque algorithme \n",
    "conf_df.loc[len(conf_df)] = [\"GaussianNB Optimized\", confusion_bayes]\n",
    "print(conf_df)"
   ]
  },
  {
   "cell_type": "code",
   "execution_count": null,
   "id": "2ce81002",
   "metadata": {
    "executionInfo": {
     "elapsed": 24,
     "status": "aborted",
     "timestamp": 1679318655376,
     "user": {
      "displayName": "Hugues Hansen",
      "userId": "06507793026638313555"
     },
     "user_tz": -60
    },
    "id": "2ce81002"
   },
   "outputs": [],
   "source": [
    "# Importer la bibliothèque matplotlib.pyplot qui permet de faire des graphiques \n",
    "import matplotlib.pyplot as plt\n",
    "\n",
    "# Créer une figure avec une taille de 10x10 pouces \n",
    "plt.figure(figsize=(10,10))\n",
    "\n",
    "# Parcourir chaque algorithme dans le dataframe roc_df qui contient les scores roc_auc de chaque algorithme \n",
    "for index, row in roc_df.iterrows():\n",
    "    # Récupérer le nom de l'algorithme et le score roc_auc \n",
    "    algo = row[\"Algo\"]\n",
    "    score = row[\"ROC_AUC\"]\n",
    "    # Calculer les taux de faux positifs (fpr) et de vrais positifs (tpr) en utilisant la fonction roc_curve de sklearn.metrics \n",
    "    fpr, tpr, thresholds = roc_curve(y_true=y,y_score=proba_dict[algo])\n",
    "    # Tracer la courbe ROC en utilisant la fonction plot de matplotlib.pyplot \n",
    "    plt.plot(fpr,tpr,label=f\"{algo} (AUC={score:.3f})\")\n",
    "\n",
    "# Ajouter un titre au graphique \n",
    "plt.title(\"Courbes ROC des différents algorithmes\")\n",
    "\n",
    "# Ajouter des légendes aux axes x et y \n",
    "plt.xlabel(\"Taux de faux positifs\")\n",
    "plt.ylabel(\"Taux de vrais positifs\")\n",
    "\n",
    "# Ajouter une grille au graphique pour faciliter la lecture \n",
    "plt.grid()\n",
    "\n",
    "# Ajouter une ligne diagonale qui représente un classifieur aléatoire \n",
    "plt.plot([0,1],[0,1],linestyle=\"--\",color=\"black\",label=\"Aléatoire\")\n",
    "\n",
    "# Ajouter une légende au graphique pour identifier chaque courbe ROC \n",
    "plt.legend()\n",
    "\n",
    "# Afficher le graphique à l'écran \n",
    "plt.show()\n"
   ]
  },
  {
   "cell_type": "markdown",
   "id": "3a229cb5",
   "metadata": {
    "id": "3a229cb5"
   },
   "source": [
    "Les courbes ROC permettent d’évaluer les performances d’un modèle de classification en fonction du seuil de décision choisi. Elles représentent le taux de vrais positifs (TPR) en fonction du taux de faux positifs (FPR) pour différents seuils. Plus la courbe est proche du coin supérieur gauche du graphique, plus le modèle est performant. L’aire sous la courbe (AUC) est une mesure synthétique qui résume la qualité d’un modèle: plus elle est proche de 1, mieux c’est.\n",
    "\n",
    "Sur ce graphique, on peut voir que le modèle optimisé par l’optimisation bayésienne a la meilleure performance parmi tous les modèles testés. Il a une AUC élevée et il domine les autres courbes sur tout l’intervalle des FPR. Cela signifie qu’il a un bon compromis entre sensibilité et spécificité."
   ]
  },
  {
   "cell_type": "code",
   "execution_count": null,
   "id": "91799052",
   "metadata": {
    "executionInfo": {
     "elapsed": 26,
     "status": "aborted",
     "timestamp": 1679318655378,
     "user": {
      "displayName": "Hugues Hansen",
      "userId": "06507793026638313555"
     },
     "user_tz": -60
    },
    "id": "91799052"
   },
   "outputs": [],
   "source": [
    "# Importer les bibliothèques nécessaires\n",
    "import seaborn as sns\n",
    "import matplotlib.pyplot as plt\n",
    "from sklearn.metrics import roc_curve\n",
    "import pandas as pd\n",
    "\n",
    "# Créer un dataframe pandas avec les étiquettes réelles et les probabilités prédites\n",
    "y_true = [0, 0, 0, 1, 1, 1]\n",
    "y_pred = [0.1, 0.2, 0.3, 0.7, 0.8, 0.9]\n",
    "df = pd.DataFrame({\"y_true\": y_true,\"y_pred\": y_pred})\n",
    "\n",
    "# Calculer les taux de faux positifs et de vrais positifs pour chaque classe\n",
    "fpr_0,tpr_0,_ = roc_curve(y_true=df[\"y_true\"],y_score=1-df[\"y_pred\"],pos_label=0)\n",
    "fpr_1,tpr_1,_ = roc_curve(y_true=df[\"y_true\"],y_score=df[\"y_pred\"],pos_label=1)\n",
    "\n",
    "# Créer un objet FacetGrid avec seaborn\n",
    "g = sns.FacetGrid(df,hue=\"y_true\",height=5)\n",
    "\n",
    "# Appliquer la fonction plot à chaque sous-graphique avec la méthode map\n",
    "g.map(plt.plot,fpr_0,tpr_0,label=\"Classe 0\")\n",
    "g.map(plt.plot,fpr_1,tpr_1,label=\"Classe 1\")\n",
    "\n",
    "# Ajouter des titres, des légendes et des annotations au graphique\n",
    "g.set_axis_labels(\"Taux de faux positifs\",\"Taux de vrais positifs\")\n",
    "g.fig.suptitle(\"Courbes ROC avec seaborn\")\n",
    "g.add_legend()\n",
    "plt.plot([0,1],[0,1],linestyle=\"--\",color=\"black\",label=\"Aléatoire\")\n",
    "plt.show()"
   ]
  },
  {
   "cell_type": "markdown",
   "id": "f5e80281-1b69-425a-a73a-191c23fcdc9b",
   "metadata": {
    "id": "f5e80281-1b69-425a-a73a-191c23fcdc9b"
   },
   "source": [
    "# "
   ]
  }
 ],
 "metadata": {
  "colab": {
   "provenance": [],
   "toc_visible": true
  },
  "kernelspec": {
   "display_name": "Python 3 (ipykernel)",
   "language": "python",
   "name": "python3"
  },
  "language_info": {
   "codemirror_mode": {
    "name": "ipython",
    "version": 3
   },
   "file_extension": ".py",
   "mimetype": "text/x-python",
   "name": "python",
   "nbconvert_exporter": "python",
   "pygments_lexer": "ipython3",
   "version": "3.10.2"
  },
  "toc-autonumbering": true,
  "toc-showcode": false,
  "toc-showmarkdowntxt": false,
  "toc-showtags": true,
  "widgets": {
   "application/vnd.jupyter.widget-state+json": {
    "state": {},
    "version_major": 2,
    "version_minor": 0
   }
  }
 },
 "nbformat": 4,
 "nbformat_minor": 5
}
