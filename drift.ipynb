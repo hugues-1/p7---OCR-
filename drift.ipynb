{
 "cells": [
  {
   "cell_type": "code",
   "execution_count": 1,
   "id": "2c88504a-0f49-4e8b-b8ee-17e86daf3706",
   "metadata": {},
   "outputs": [
    {
     "name": "stdout",
     "output_type": "stream",
     "text": [
      "Defaulting to user installation because normal site-packages is not writeable\n",
      "Collecting evidently\n",
      "  Downloading evidently-0.2.6-py3-none-any.whl (12.1 MB)\n",
      "     ---------------------------------------- 12.1/12.1 MB 5.8 MB/s eta 0:00:00\n",
      "Requirement already satisfied: pandas>=1.3.5 in c:\\users\\hugues\\appdata\\roaming\\python\\python310\\site-packages (from evidently) (1.4.2)\n",
      "Requirement already satisfied: numpy>=1.19.5 in c:\\users\\hugues\\appdata\\roaming\\python\\python310\\site-packages (from evidently) (1.22.3)\n",
      "Requirement already satisfied: scipy>=1.5.4 in c:\\users\\hugues\\appdata\\roaming\\python\\python310\\site-packages (from evidently) (1.8.0)\n",
      "Requirement already satisfied: scikit-learn>=0.24.0 in c:\\users\\hugues\\appdata\\roaming\\python\\python310\\site-packages (from evidently) (1.1.1)\n",
      "Collecting plotly>=5.5.0\n",
      "  Downloading plotly-5.13.1-py2.py3-none-any.whl (15.2 MB)\n",
      "     ---------------------------------------- 15.2/15.2 MB 6.2 MB/s eta 0:00:00\n",
      "Requirement already satisfied: statsmodels>=0.12.2 in c:\\users\\hugues\\appdata\\roaming\\python\\python310\\site-packages (from evidently) (0.13.2)\n",
      "Requirement already satisfied: requests>=2.19.0 in c:\\users\\hugues\\appdata\\roaming\\python\\python310\\site-packages (from evidently) (2.27.1)\n",
      "Collecting PyYAML~=5.1\n",
      "  Downloading PyYAML-5.4.1.tar.gz (175 kB)\n",
      "     -------------------------------------- 175.1/175.1 kB 2.7 MB/s eta 0:00:00\n",
      "  Installing build dependencies: started\n",
      "  Installing build dependencies: finished with status 'done'\n",
      "  Getting requirements to build wheel: started\n",
      "  Getting requirements to build wheel: finished with status 'done'\n",
      "  Preparing metadata (pyproject.toml): started\n",
      "  Preparing metadata (pyproject.toml): finished with status 'done'\n",
      "Collecting nltk>=3.6.7\n",
      "  Downloading nltk-3.8.1-py3-none-any.whl (1.5 MB)\n",
      "     ---------------------------------------- 1.5/1.5 MB 5.1 MB/s eta 0:00:00\n",
      "Requirement already satisfied: joblib in c:\\users\\hugues\\appdata\\roaming\\python\\python310\\site-packages (from nltk>=3.6.7->evidently) (1.2.0)\n",
      "Requirement already satisfied: click in c:\\users\\hugues\\appdata\\roaming\\python\\python310\\site-packages (from nltk>=3.6.7->evidently) (8.1.3)\n",
      "Collecting regex>=2021.8.3\n",
      "  Downloading regex-2022.10.31-cp310-cp310-win_amd64.whl (267 kB)\n",
      "     -------------------------------------- 267.7/267.7 kB 3.3 MB/s eta 0:00:00\n",
      "Requirement already satisfied: tqdm in c:\\users\\hugues\\appdata\\roaming\\python\\python310\\site-packages (from nltk>=3.6.7->evidently) (4.64.1)\n",
      "Requirement already satisfied: python-dateutil>=2.8.1 in c:\\users\\hugues\\appdata\\roaming\\python\\python310\\site-packages (from pandas>=1.3.5->evidently) (2.8.2)\n",
      "Requirement already satisfied: pytz>=2020.1 in c:\\users\\hugues\\appdata\\roaming\\python\\python310\\site-packages (from pandas>=1.3.5->evidently) (2022.1)\n",
      "Collecting tenacity>=6.2.0\n",
      "  Downloading tenacity-8.2.2-py3-none-any.whl (24 kB)\n",
      "Requirement already satisfied: urllib3<1.27,>=1.21.1 in c:\\users\\hugues\\appdata\\roaming\\python\\python310\\site-packages (from requests>=2.19.0->evidently) (1.26.9)\n",
      "Requirement already satisfied: certifi>=2017.4.17 in c:\\users\\hugues\\appdata\\roaming\\python\\python310\\site-packages (from requests>=2.19.0->evidently) (2021.10.8)\n",
      "Requirement already satisfied: idna<4,>=2.5 in c:\\users\\hugues\\appdata\\roaming\\python\\python310\\site-packages (from requests>=2.19.0->evidently) (3.3)\n",
      "Requirement already satisfied: charset-normalizer~=2.0.0 in c:\\users\\hugues\\appdata\\roaming\\python\\python310\\site-packages (from requests>=2.19.0->evidently) (2.0.12)\n",
      "Requirement already satisfied: threadpoolctl>=2.0.0 in c:\\users\\hugues\\appdata\\roaming\\python\\python310\\site-packages (from scikit-learn>=0.24.0->evidently) (3.1.0)\n",
      "Requirement already satisfied: packaging>=21.3 in c:\\users\\hugues\\appdata\\roaming\\python\\python310\\site-packages (from statsmodels>=0.12.2->evidently) (21.3)\n",
      "Requirement already satisfied: patsy>=0.5.2 in c:\\users\\hugues\\appdata\\roaming\\python\\python310\\site-packages (from statsmodels>=0.12.2->evidently) (0.5.2)\n",
      "Requirement already satisfied: pyparsing!=3.0.5,>=2.0.2 in c:\\users\\hugues\\appdata\\roaming\\python\\python310\\site-packages (from packaging>=21.3->statsmodels>=0.12.2->evidently) (3.0.8)\n",
      "Requirement already satisfied: six in c:\\users\\hugues\\appdata\\roaming\\python\\python310\\site-packages (from patsy>=0.5.2->statsmodels>=0.12.2->evidently) (1.16.0)\n",
      "Requirement already satisfied: colorama in c:\\users\\hugues\\appdata\\roaming\\python\\python310\\site-packages (from click->nltk>=3.6.7->evidently) (0.4.4)\n",
      "Building wheels for collected packages: PyYAML\n",
      "  Building wheel for PyYAML (pyproject.toml): started\n",
      "  Building wheel for PyYAML (pyproject.toml): finished with status 'done'\n",
      "  Created wheel for PyYAML: filename=PyYAML-5.4.1-cp310-cp310-win_amd64.whl size=45671 sha256=1e743bc148bf3cf1ef1b7a9cda4875176b8b085522467a34e141c2473eb2804d\n",
      "  Stored in directory: c:\\users\\hugues\\appdata\\local\\pip\\cache\\wheels\\10\\3f\\c1\\6feec52270653969575b83de934b04be56d7a9e961be5041ea\n",
      "Successfully built PyYAML\n",
      "Installing collected packages: tenacity, regex, PyYAML, plotly, nltk, evidently\n",
      "Successfully installed PyYAML-5.4.1 evidently-0.2.6 nltk-3.8.1 plotly-5.13.1 regex-2022.10.31 tenacity-8.2.2\n",
      "Note: you may need to restart the kernel to use updated packages.\n"
     ]
    },
    {
     "name": "stderr",
     "output_type": "stream",
     "text": [
      "\n",
      "[notice] A new release of pip available: 22.3.1 -> 23.0.1\n",
      "[notice] To update, run: python.exe -m pip install --upgrade pip\n"
     ]
    }
   ],
   "source": [
    "pip install evidently"
   ]
  },
  {
   "cell_type": "code",
   "execution_count": null,
   "id": "f0b66dba-ab39-4d53-a187-a1a813858220",
   "metadata": {},
   "outputs": [],
   "source": [
    "import pandas as pd\n",
    "from evidently.dashboard import Dashboard"
   ]
  },
  {
   "cell_type": "code",
   "execution_count": null,
   "id": "7fdb6560-1533-4e7d-bb72-9f22b163ded7",
   "metadata": {},
   "outputs": [],
   "source": [
    "# créer un rapport de drift de données\n",
    "drift_report = Dashboard(test_data, production_data, summary_type='drift')"
   ]
  },
  {
   "cell_type": "code",
   "execution_count": null,
   "id": "5e427c76-136b-4429-b926-4e11bb7d31af",
   "metadata": {},
   "outputs": [],
   "source": [
    "# afficher le rapport\n",
    "drift_report.show()"
   ]
  }
 ],
 "metadata": {
  "kernelspec": {
   "display_name": "Python 3 (ipykernel)",
   "language": "python",
   "name": "python3"
  },
  "language_info": {
   "codemirror_mode": {
    "name": "ipython",
    "version": 3
   },
   "file_extension": ".py",
   "mimetype": "text/x-python",
   "name": "python",
   "nbconvert_exporter": "python",
   "pygments_lexer": "ipython3",
   "version": "3.10.2"
  }
 },
 "nbformat": 4,
 "nbformat_minor": 5
}
